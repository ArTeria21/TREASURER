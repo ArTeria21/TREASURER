{
 "cells": [
  {
   "cell_type": "code",
   "execution_count": 2,
   "metadata": {},
   "outputs": [
    {
     "name": "stderr",
     "output_type": "stream",
     "text": [
      "[nltk_data] Downloading collection 'popular'\n",
      "[nltk_data]    | \n",
      "[nltk_data]    | Downloading package cmudict to\n",
      "[nltk_data]    |     /home/artemka/nltk_data...\n",
      "[nltk_data]    |   Package cmudict is already up-to-date!\n",
      "[nltk_data]    | Downloading package gazetteers to\n",
      "[nltk_data]    |     /home/artemka/nltk_data...\n",
      "[nltk_data]    |   Package gazetteers is already up-to-date!\n",
      "[nltk_data]    | Downloading package genesis to\n",
      "[nltk_data]    |     /home/artemka/nltk_data...\n",
      "[nltk_data]    |   Package genesis is already up-to-date!\n",
      "[nltk_data]    | Downloading package gutenberg to\n",
      "[nltk_data]    |     /home/artemka/nltk_data...\n",
      "[nltk_data]    |   Package gutenberg is already up-to-date!\n",
      "[nltk_data]    | Downloading package inaugural to\n",
      "[nltk_data]    |     /home/artemka/nltk_data...\n",
      "[nltk_data]    |   Package inaugural is already up-to-date!\n",
      "[nltk_data]    | Downloading package movie_reviews to\n",
      "[nltk_data]    |     /home/artemka/nltk_data...\n",
      "[nltk_data]    |   Package movie_reviews is already up-to-date!\n",
      "[nltk_data]    | Downloading package names to\n",
      "[nltk_data]    |     /home/artemka/nltk_data...\n",
      "[nltk_data]    |   Package names is already up-to-date!\n",
      "[nltk_data]    | Downloading package shakespeare to\n",
      "[nltk_data]    |     /home/artemka/nltk_data...\n",
      "[nltk_data]    |   Package shakespeare is already up-to-date!\n",
      "[nltk_data]    | Downloading package stopwords to\n",
      "[nltk_data]    |     /home/artemka/nltk_data...\n",
      "[nltk_data]    |   Package stopwords is already up-to-date!\n",
      "[nltk_data]    | Downloading package treebank to\n",
      "[nltk_data]    |     /home/artemka/nltk_data...\n",
      "[nltk_data]    |   Package treebank is already up-to-date!\n",
      "[nltk_data]    | Downloading package twitter_samples to\n",
      "[nltk_data]    |     /home/artemka/nltk_data...\n",
      "[nltk_data]    |   Package twitter_samples is already up-to-date!\n",
      "[nltk_data]    | Downloading package omw to /home/artemka/nltk_data...\n",
      "[nltk_data]    |   Package omw is already up-to-date!\n",
      "[nltk_data]    | Downloading package omw-1.4 to\n",
      "[nltk_data]    |     /home/artemka/nltk_data...\n",
      "[nltk_data]    |   Package omw-1.4 is already up-to-date!\n",
      "[nltk_data]    | Downloading package wordnet to\n",
      "[nltk_data]    |     /home/artemka/nltk_data...\n",
      "[nltk_data]    |   Package wordnet is already up-to-date!\n",
      "[nltk_data]    | Downloading package wordnet2021 to\n",
      "[nltk_data]    |     /home/artemka/nltk_data...\n",
      "[nltk_data]    |   Package wordnet2021 is already up-to-date!\n",
      "[nltk_data]    | Downloading package wordnet31 to\n",
      "[nltk_data]    |     /home/artemka/nltk_data...\n",
      "[nltk_data]    |   Package wordnet31 is already up-to-date!\n",
      "[nltk_data]    | Downloading package wordnet_ic to\n",
      "[nltk_data]    |     /home/artemka/nltk_data...\n",
      "[nltk_data]    |   Package wordnet_ic is already up-to-date!\n",
      "[nltk_data]    | Downloading package words to\n",
      "[nltk_data]    |     /home/artemka/nltk_data...\n",
      "[nltk_data]    |   Package words is already up-to-date!\n",
      "[nltk_data]    | Downloading package maxent_ne_chunker to\n",
      "[nltk_data]    |     /home/artemka/nltk_data...\n",
      "[nltk_data]    |   Package maxent_ne_chunker is already up-to-date!\n",
      "[nltk_data]    | Downloading package punkt to\n",
      "[nltk_data]    |     /home/artemka/nltk_data...\n",
      "[nltk_data]    |   Package punkt is already up-to-date!\n",
      "[nltk_data]    | Downloading package snowball_data to\n",
      "[nltk_data]    |     /home/artemka/nltk_data...\n",
      "[nltk_data]    |   Package snowball_data is already up-to-date!\n",
      "[nltk_data]    | Downloading package averaged_perceptron_tagger to\n",
      "[nltk_data]    |     /home/artemka/nltk_data...\n",
      "[nltk_data]    |   Package averaged_perceptron_tagger is already up-\n",
      "[nltk_data]    |       to-date!\n",
      "[nltk_data]    | \n",
      "[nltk_data]  Done downloading collection popular\n",
      "[nltk_data] Downloading package stopwords to\n",
      "[nltk_data]     /home/artemka/nltk_data...\n",
      "[nltk_data]   Package stopwords is already up-to-date!\n"
     ]
    },
    {
     "data": {
      "text/plain": [
       "True"
      ]
     },
     "execution_count": 2,
     "metadata": {},
     "output_type": "execute_result"
    }
   ],
   "source": [
    "# Загрузка и обработка данных\n",
    "import pandas as pd\n",
    "from collections import Counter\n",
    "import nltk\n",
    "from nltk.corpus import stopwords\n",
    "\n",
    "# Визуализация данных\n",
    "import plotly.express as px\n",
    "import seaborn as sns\n",
    "import matplotlib.pyplot as plt\n",
    "import warnings\n",
    "\n",
    "pd.options.display.max_columns = None\n",
    "warnings.filterwarnings(\"ignore\")\n",
    "nltk.download('popular')\n",
    "nltk.download('stopwords')"
   ]
  },
  {
   "cell_type": "code",
   "execution_count": 3,
   "metadata": {},
   "outputs": [],
   "source": [
    "dates_columns = ['date', 'createdDate', 'changedDate']\n",
    "data = pd.read_csv('../data/prepared/outcomes.csv', parse_dates=dates_columns)"
   ]
  },
  {
   "cell_type": "code",
   "execution_count": 4,
   "metadata": {},
   "outputs": [
    {
     "data": {
      "text/html": [
       "<div>\n",
       "<style scoped>\n",
       "    .dataframe tbody tr th:only-of-type {\n",
       "        vertical-align: middle;\n",
       "    }\n",
       "\n",
       "    .dataframe tbody tr th {\n",
       "        vertical-align: top;\n",
       "    }\n",
       "\n",
       "    .dataframe thead th {\n",
       "        text-align: right;\n",
       "    }\n",
       "</style>\n",
       "<table border=\"1\" class=\"dataframe\">\n",
       "  <thead>\n",
       "    <tr style=\"text-align: right;\">\n",
       "      <th></th>\n",
       "      <th>date</th>\n",
       "      <th>categoryName</th>\n",
       "      <th>payee</th>\n",
       "      <th>comment</th>\n",
       "      <th>createdDate</th>\n",
       "      <th>changedDate</th>\n",
       "      <th>outcomeAccountName</th>\n",
       "      <th>outcome</th>\n",
       "      <th>outcomeCurrencyShortTitle</th>\n",
       "    </tr>\n",
       "  </thead>\n",
       "  <tbody>\n",
       "    <tr>\n",
       "      <th>1187</th>\n",
       "      <td>2024-03-20</td>\n",
       "      <td>Проезд</td>\n",
       "      <td>Самолет</td>\n",
       "      <td>Билеты домой и из дома</td>\n",
       "      <td>2024-03-20 12:39:37</td>\n",
       "      <td>2024-03-20 09:39:52</td>\n",
       "      <td>Тинькофф</td>\n",
       "      <td>21020.0</td>\n",
       "      <td>RUB</td>\n",
       "    </tr>\n",
       "    <tr>\n",
       "      <th>1188</th>\n",
       "      <td>2024-03-20</td>\n",
       "      <td>Кафе и рестораны</td>\n",
       "      <td>Столовая ОЦРВ</td>\n",
       "      <td>NaN</td>\n",
       "      <td>2024-03-20 12:41:05</td>\n",
       "      <td>2024-03-20 09:41:14</td>\n",
       "      <td>Тинькофф</td>\n",
       "      <td>460.0</td>\n",
       "      <td>RUB</td>\n",
       "    </tr>\n",
       "    <tr>\n",
       "      <th>1189</th>\n",
       "      <td>2024-03-20</td>\n",
       "      <td>Кафе и рестораны</td>\n",
       "      <td>Ресторан Вега</td>\n",
       "      <td>NaN</td>\n",
       "      <td>2024-03-21 12:53:07</td>\n",
       "      <td>2024-03-21 09:53:20</td>\n",
       "      <td>Тинькофф</td>\n",
       "      <td>265.0</td>\n",
       "      <td>RUB</td>\n",
       "    </tr>\n",
       "    <tr>\n",
       "      <th>1190</th>\n",
       "      <td>2024-03-20</td>\n",
       "      <td>Проезд</td>\n",
       "      <td>Яндекс такси</td>\n",
       "      <td>NaN</td>\n",
       "      <td>2024-03-21 12:53:17</td>\n",
       "      <td>2024-03-21 09:53:37</td>\n",
       "      <td>Тинькофф</td>\n",
       "      <td>212.0</td>\n",
       "      <td>RUB</td>\n",
       "    </tr>\n",
       "    <tr>\n",
       "      <th>1191</th>\n",
       "      <td>2024-03-21</td>\n",
       "      <td>Кафе и рестораны</td>\n",
       "      <td>Столовая ОЦРВ</td>\n",
       "      <td>NaN</td>\n",
       "      <td>2024-03-21 12:53:35</td>\n",
       "      <td>2024-03-21 09:53:46</td>\n",
       "      <td>Тинькофф</td>\n",
       "      <td>460.0</td>\n",
       "      <td>RUB</td>\n",
       "    </tr>\n",
       "  </tbody>\n",
       "</table>\n",
       "</div>"
      ],
      "text/plain": [
       "           date      categoryName          payee                 comment  \\\n",
       "1187 2024-03-20            Проезд        Самолет  Билеты домой и из дома   \n",
       "1188 2024-03-20  Кафе и рестораны  Столовая ОЦРВ                     NaN   \n",
       "1189 2024-03-20  Кафе и рестораны  Ресторан Вега                     NaN   \n",
       "1190 2024-03-20            Проезд   Яндекс такси                     NaN   \n",
       "1191 2024-03-21  Кафе и рестораны  Столовая ОЦРВ                     NaN   \n",
       "\n",
       "             createdDate         changedDate outcomeAccountName  outcome  \\\n",
       "1187 2024-03-20 12:39:37 2024-03-20 09:39:52           Тинькофф  21020.0   \n",
       "1188 2024-03-20 12:41:05 2024-03-20 09:41:14           Тинькофф    460.0   \n",
       "1189 2024-03-21 12:53:07 2024-03-21 09:53:20           Тинькофф    265.0   \n",
       "1190 2024-03-21 12:53:17 2024-03-21 09:53:37           Тинькофф    212.0   \n",
       "1191 2024-03-21 12:53:35 2024-03-21 09:53:46           Тинькофф    460.0   \n",
       "\n",
       "     outcomeCurrencyShortTitle  \n",
       "1187                       RUB  \n",
       "1188                       RUB  \n",
       "1189                       RUB  \n",
       "1190                       RUB  \n",
       "1191                       RUB  "
      ]
     },
     "execution_count": 4,
     "metadata": {},
     "output_type": "execute_result"
    }
   ],
   "source": [
    "data.tail()"
   ]
  },
  {
   "cell_type": "markdown",
   "metadata": {},
   "source": [
    "## Посмотрим на выбросы в данных"
   ]
  },
  {
   "cell_type": "code",
   "execution_count": 5,
   "metadata": {},
   "outputs": [
    {
     "data": {
      "application/vnd.plotly.v1+json": {
       "config": {
        "plotlyServerURL": "https://plot.ly"
       },
       "data": [
        {
         "alignmentgroup": "True",
         "hovertemplate": "outcome=%{y}<extra></extra>",
         "legendgroup": "",
         "marker": {
          "color": "#636efa"
         },
         "name": "",
         "notched": false,
         "offsetgroup": "",
         "orientation": "v",
         "showlegend": false,
         "type": "box",
         "x0": " ",
         "xaxis": "x",
         "y": [
          175,
          62.6,
          167,
          214,
          342,
          323,
          100,
          248,
          299,
          120,
          185,
          194.5,
          238.49,
          28,
          170,
          28,
          300,
          200,
          91.58,
          2083,
          170,
          218.75,
          333,
          149,
          425.45,
          28,
          363.4,
          28,
          200,
          28,
          59,
          180,
          28,
          188,
          308.97,
          366.48,
          155,
          174.27,
          73.8,
          185,
          525.07,
          150,
          464.75,
          747,
          84,
          28,
          315.51,
          1077,
          100,
          85,
          95,
          289,
          100,
          180,
          299,
          2975,
          324.47,
          66.66,
          230,
          28,
          743.64,
          120,
          124.98,
          290,
          323,
          299,
          357.04,
          210,
          199,
          250,
          475,
          160,
          28,
          28,
          1200,
          107.4,
          28,
          179.98,
          122,
          200,
          259,
          299,
          155,
          80,
          183.09,
          195,
          168.17,
          600.19,
          100,
          200,
          113.57,
          180,
          140,
          28,
          488.41,
          46,
          319,
          200,
          75,
          28,
          1170,
          3024,
          80,
          1355.89,
          100,
          155,
          79.99,
          100,
          118.97,
          761.37,
          60,
          451,
          149,
          170,
          124.98,
          230,
          690,
          150,
          175,
          229,
          79.99,
          1200,
          179,
          418,
          200,
          138,
          466,
          200,
          279.98,
          130,
          120,
          180,
          2500,
          400,
          2983,
          640.39,
          154.97,
          290,
          299,
          200,
          125,
          200,
          173.48,
          200,
          213.76,
          37.99,
          2290,
          125,
          90,
          1045.35,
          105,
          50,
          252.37,
          225,
          415.95,
          40,
          140,
          558,
          278,
          97,
          300,
          510,
          97,
          517.27,
          40,
          175,
          1139.09,
          159.99,
          195,
          426.92,
          216,
          169.99,
          1000,
          210,
          93.5,
          350,
          289,
          259,
          335,
          93.5,
          542,
          100,
          186.84,
          179.99,
          180,
          730,
          126.18,
          162.97,
          55.4,
          80.7,
          300,
          149,
          167.5,
          494.94,
          80,
          410.95,
          1094,
          349,
          85,
          175,
          562,
          325,
          299,
          100,
          280,
          221.68,
          254.98,
          180,
          200,
          100,
          127.98,
          165,
          359,
          299,
          145,
          445.53,
          240,
          484.97,
          40,
          350,
          392.93,
          1395,
          145,
          170,
          536,
          193,
          694.33,
          180,
          145,
          175,
          359,
          289,
          712.27,
          155,
          430,
          568,
          28,
          235,
          299,
          290,
          202.18,
          299,
          269,
          650,
          130,
          254.97,
          359,
          389,
          225.17,
          405,
          230,
          1000,
          299,
          190,
          505,
          707.41,
          105,
          190,
          560,
          270,
          196,
          134,
          364.15,
          180,
          125,
          273.37,
          319.55,
          140,
          130,
          307.85,
          140,
          77.98,
          404,
          299,
          200,
          55.99,
          280,
          120,
          540,
          359,
          488.87,
          1000,
          411.04,
          155,
          219,
          155.34,
          110,
          28,
          230,
          663,
          104.99,
          120,
          285,
          359,
          320,
          155.58,
          100,
          170,
          1174,
          355.96,
          172.78,
          175,
          142.08,
          100,
          28,
          170,
          700,
          28,
          533,
          1000,
          187,
          600,
          150,
          76,
          325,
          135,
          354,
          146.59,
          149.9,
          1198,
          29,
          29,
          4400,
          29,
          319,
          228,
          29,
          59,
          149,
          1400,
          319,
          219.98,
          759.99,
          630,
          560,
          18.99,
          201.97,
          175,
          199,
          164.99,
          148.5,
          89,
          156,
          279,
          29,
          812,
          179,
          49.99,
          29,
          24,
          502.98,
          2800,
          29,
          109.98,
          29,
          199,
          457,
          64.99,
          369,
          199,
          29,
          428,
          83.89,
          299,
          323,
          199,
          248,
          866,
          215.97,
          76.09,
          104.99,
          216.98,
          219,
          179,
          100,
          149.98,
          29,
          457,
          370,
          127,
          952,
          534,
          219.98,
          243.98,
          179,
          44.99,
          110,
          1500,
          149,
          119.99,
          403.26,
          400,
          248,
          370,
          359,
          234,
          198.99,
          48,
          489.97,
          68,
          290.78,
          540,
          56,
          328,
          2320,
          39.78,
          252.82,
          3500,
          894,
          40,
          200,
          800,
          609,
          320,
          2035,
          339.95,
          109.9,
          1600,
          218,
          564,
          401,
          580,
          36.99,
          450,
          890,
          488,
          285,
          150,
          200,
          89.99,
          900,
          700,
          1170,
          135.98,
          138.98,
          920,
          600,
          302,
          3750,
          200,
          195.8,
          2500,
          3951,
          877.45,
          35.9,
          300,
          1840,
          323,
          250,
          462,
          709.5,
          1700,
          89.99,
          603,
          500,
          299,
          753,
          17.99,
          1000,
          1745,
          445,
          1678,
          350,
          1160,
          93,
          650,
          400,
          3190,
          500,
          200,
          600,
          1171,
          393,
          440,
          458,
          728.92,
          500,
          80,
          1500,
          97,
          51,
          551.65,
          300,
          368,
          885,
          32.4,
          189,
          289,
          200,
          479,
          162,
          545,
          669,
          195,
          111,
          379,
          130,
          1408,
          120.08,
          151,
          32.4,
          280,
          435,
          245,
          351.16,
          150,
          250,
          349,
          130,
          280,
          120,
          444,
          600,
          1501,
          226,
          32.4,
          200,
          130,
          220,
          310.17,
          215,
          211,
          110,
          79.36,
          259.98,
          1009,
          315,
          290,
          210,
          125,
          64,
          230,
          635,
          300,
          69.99,
          600,
          32.4,
          120,
          228.07,
          1150.5,
          149,
          59.99,
          220,
          450,
          190,
          741,
          353,
          32.4,
          1077,
          1138,
          460,
          51.3,
          270,
          339,
          32.4,
          410.35,
          126,
          190,
          378,
          229.98,
          145,
          249,
          200,
          195,
          32.4,
          345,
          1119.81,
          235,
          195,
          24.7,
          100,
          461.86,
          220,
          28,
          503,
          50,
          54.99,
          399,
          201,
          333,
          353,
          299,
          1074.93,
          5944,
          79,
          116.34,
          769,
          501,
          635,
          1601,
          340,
          80,
          370,
          314.98,
          249,
          280,
          469.36,
          205,
          32.4,
          114,
          24.4,
          590,
          740,
          1151,
          299,
          115.59,
          967.36,
          4500,
          269.97,
          103,
          32.4,
          100,
          32.4,
          359,
          179,
          335.94,
          49,
          32.4,
          630,
          24.4,
          292,
          249,
          348,
          408,
          159.38,
          260,
          349,
          1930,
          260,
          420.84,
          50,
          34.8,
          768.8,
          194,
          601,
          350,
          280,
          120,
          51,
          132.5,
          473,
          32.4,
          149,
          190,
          32.4,
          51.3,
          177,
          139.99,
          204.99,
          330,
          1200,
          265,
          32.4,
          140,
          456,
          209.89,
          756,
          276.79,
          499,
          51.3,
          939,
          328,
          271,
          570,
          379.96,
          152.99,
          270,
          224,
          595,
          249.37,
          106,
          179,
          64.8,
          243,
          448.96,
          51.3,
          240,
          32.4,
          634,
          285,
          1058,
          239,
          130.38,
          380,
          31.8,
          32.4,
          56,
          348.37,
          255,
          280,
          199.97,
          299,
          402.96,
          349,
          390.96,
          430.14,
          500,
          304.5,
          199.66,
          23.4,
          210,
          70,
          237.89,
          122,
          695.59,
          32.4,
          150,
          32.4,
          1500,
          536.91,
          64.8,
          147,
          245,
          290,
          288,
          320,
          200,
          67,
          70,
          32.4,
          490,
          740.42,
          32.4,
          238,
          1182.11,
          302.96,
          360,
          140,
          270,
          366.96,
          1339,
          456,
          149,
          375,
          121,
          150,
          982.55,
          295,
          51.3,
          562.94,
          1300,
          300,
          479,
          3165.4,
          32.4,
          2390,
          140,
          164.99,
          532,
          837,
          244,
          129,
          129,
          258,
          2850,
          374,
          189.39,
          222,
          32.4,
          2455,
          323,
          32.4,
          350,
          90,
          32.4,
          1510.61,
          32.4,
          190,
          225,
          143,
          499,
          567,
          300,
          370,
          2597,
          1005,
          2230,
          256.97,
          260,
          399,
          85,
          261.96,
          320,
          980,
          260,
          130.97,
          200,
          822.35,
          250,
          90,
          91,
          72,
          93.5,
          720,
          36,
          2000,
          113.4,
          38,
          666.4,
          70,
          32.4,
          280,
          1210,
          64.8,
          385,
          280.98,
          129.6,
          651,
          150,
          300,
          200,
          533,
          100,
          223.44,
          300,
          466,
          200,
          69,
          293,
          149,
          502,
          230,
          420.74,
          106,
          424,
          561,
          32.4,
          285.93,
          330,
          32.4,
          211.67,
          570,
          241,
          179.99,
          154.98,
          51.3,
          32.4,
          280,
          32.4,
          242.5,
          250,
          3000,
          420,
          179.99,
          2390,
          200,
          102.5,
          116,
          3793.17,
          350,
          408,
          32.4,
          32.4,
          10,
          700,
          32.4,
          258.98,
          299,
          313,
          224,
          859,
          417,
          32.4,
          27.8,
          334,
          61.98,
          64.8,
          54,
          253,
          246,
          1619,
          350,
          678.1,
          32.4,
          6480,
          133,
          330,
          381,
          887,
          175,
          5450,
          1205,
          407,
          202,
          350,
          409.96,
          250,
          80000,
          150,
          470.43,
          738,
          3202,
          3145,
          491,
          772,
          269,
          400,
          117,
          337,
          32.4,
          623,
          299,
          154,
          400,
          1061.92,
          50,
          350,
          116,
          32.4,
          326.52,
          220,
          894,
          299,
          169.99,
          1180,
          548,
          2615,
          400,
          59.99,
          51.3,
          890.09,
          448,
          260,
          363,
          3080,
          166,
          366,
          569,
          30,
          558.94,
          30,
          30,
          30,
          620,
          30,
          30,
          199,
          990,
          125,
          462,
          416,
          149,
          253,
          484.92,
          480,
          1338.75,
          329.97,
          698,
          340,
          240,
          896.96,
          644.88,
          400,
          517,
          370,
          912,
          250,
          210,
          51.3,
          604.96,
          400,
          242,
          135,
          197,
          1471,
          155,
          68,
          150,
          325,
          150,
          312,
          32.4,
          299,
          50,
          1390,
          323,
          51.3,
          390,
          102,
          388,
          45,
          129,
          477,
          359.97,
          350,
          696,
          400,
          150,
          31.58,
          250,
          440,
          447,
          211,
          145,
          370,
          699.95,
          143,
          155,
          480,
          200,
          414.95,
          504.97,
          188.5,
          948,
          420.97,
          370,
          250,
          566,
          724.96,
          320,
          569,
          460,
          296,
          230,
          1036.35,
          99,
          655,
          536,
          480.44,
          500,
          551.4,
          151,
          190,
          99,
          199.99,
          508.43,
          137,
          370,
          499.5,
          399.97,
          460,
          149.99,
          323.42,
          380,
          370,
          190,
          997.83,
          220,
          149,
          380,
          3000,
          152,
          922.37,
          110.5,
          109,
          380,
          132,
          532,
          380,
          449.97,
          259.98,
          2500,
          206,
          32.4,
          255,
          100,
          460,
          180,
          67.33,
          569.69,
          300,
          1076.39,
          5572.35,
          380,
          1295,
          323,
          299,
          380,
          377,
          380,
          78.79,
          548,
          192,
          32.4,
          279,
          83,
          53,
          320,
          356.98,
          511.96,
          50,
          1198,
          50,
          99,
          99,
          256.27,
          380,
          1249.32,
          222,
          51.3,
          1826,
          361,
          524,
          380,
          328.47,
          1373,
          766.07,
          420,
          1352,
          1824,
          420,
          520,
          234.98,
          389,
          1458,
          32.4,
          460,
          1085,
          1998.62,
          380,
          420,
          499,
          230,
          350,
          99,
          699,
          365,
          600,
          202,
          99,
          460,
          389.55,
          793.21,
          134.3,
          208,
          547.01,
          248,
          200,
          250,
          360,
          380,
          430,
          450,
          410,
          1570,
          149,
          745.34,
          2500,
          1548,
          3910,
          4000,
          51.3,
          318,
          720,
          400,
          460,
          450,
          155,
          320,
          598.46,
          700,
          296.12,
          395.98,
          297.88,
          553.88,
          606,
          40,
          440,
          51.3,
          323,
          32.4,
          198,
          200,
          404.97,
          148.09,
          299,
          146,
          295,
          188,
          657,
          241,
          240,
          434.97,
          32.4,
          275,
          136,
          585,
          888.43,
          41,
          410,
          3004,
          401.26,
          39,
          440,
          32.4,
          1090,
          82,
          21020,
          460,
          265,
          212,
          460
         ],
         "y0": " ",
         "yaxis": "y"
        }
       ],
       "layout": {
        "boxmode": "group",
        "legend": {
         "tracegroupgap": 0
        },
        "margin": {
         "t": 60
        },
        "template": {
         "data": {
          "bar": [
           {
            "error_x": {
             "color": "#2a3f5f"
            },
            "error_y": {
             "color": "#2a3f5f"
            },
            "marker": {
             "line": {
              "color": "#E5ECF6",
              "width": 0.5
             },
             "pattern": {
              "fillmode": "overlay",
              "size": 10,
              "solidity": 0.2
             }
            },
            "type": "bar"
           }
          ],
          "barpolar": [
           {
            "marker": {
             "line": {
              "color": "#E5ECF6",
              "width": 0.5
             },
             "pattern": {
              "fillmode": "overlay",
              "size": 10,
              "solidity": 0.2
             }
            },
            "type": "barpolar"
           }
          ],
          "carpet": [
           {
            "aaxis": {
             "endlinecolor": "#2a3f5f",
             "gridcolor": "white",
             "linecolor": "white",
             "minorgridcolor": "white",
             "startlinecolor": "#2a3f5f"
            },
            "baxis": {
             "endlinecolor": "#2a3f5f",
             "gridcolor": "white",
             "linecolor": "white",
             "minorgridcolor": "white",
             "startlinecolor": "#2a3f5f"
            },
            "type": "carpet"
           }
          ],
          "choropleth": [
           {
            "colorbar": {
             "outlinewidth": 0,
             "ticks": ""
            },
            "type": "choropleth"
           }
          ],
          "contour": [
           {
            "colorbar": {
             "outlinewidth": 0,
             "ticks": ""
            },
            "colorscale": [
             [
              0,
              "#0d0887"
             ],
             [
              0.1111111111111111,
              "#46039f"
             ],
             [
              0.2222222222222222,
              "#7201a8"
             ],
             [
              0.3333333333333333,
              "#9c179e"
             ],
             [
              0.4444444444444444,
              "#bd3786"
             ],
             [
              0.5555555555555556,
              "#d8576b"
             ],
             [
              0.6666666666666666,
              "#ed7953"
             ],
             [
              0.7777777777777778,
              "#fb9f3a"
             ],
             [
              0.8888888888888888,
              "#fdca26"
             ],
             [
              1,
              "#f0f921"
             ]
            ],
            "type": "contour"
           }
          ],
          "contourcarpet": [
           {
            "colorbar": {
             "outlinewidth": 0,
             "ticks": ""
            },
            "type": "contourcarpet"
           }
          ],
          "heatmap": [
           {
            "colorbar": {
             "outlinewidth": 0,
             "ticks": ""
            },
            "colorscale": [
             [
              0,
              "#0d0887"
             ],
             [
              0.1111111111111111,
              "#46039f"
             ],
             [
              0.2222222222222222,
              "#7201a8"
             ],
             [
              0.3333333333333333,
              "#9c179e"
             ],
             [
              0.4444444444444444,
              "#bd3786"
             ],
             [
              0.5555555555555556,
              "#d8576b"
             ],
             [
              0.6666666666666666,
              "#ed7953"
             ],
             [
              0.7777777777777778,
              "#fb9f3a"
             ],
             [
              0.8888888888888888,
              "#fdca26"
             ],
             [
              1,
              "#f0f921"
             ]
            ],
            "type": "heatmap"
           }
          ],
          "heatmapgl": [
           {
            "colorbar": {
             "outlinewidth": 0,
             "ticks": ""
            },
            "colorscale": [
             [
              0,
              "#0d0887"
             ],
             [
              0.1111111111111111,
              "#46039f"
             ],
             [
              0.2222222222222222,
              "#7201a8"
             ],
             [
              0.3333333333333333,
              "#9c179e"
             ],
             [
              0.4444444444444444,
              "#bd3786"
             ],
             [
              0.5555555555555556,
              "#d8576b"
             ],
             [
              0.6666666666666666,
              "#ed7953"
             ],
             [
              0.7777777777777778,
              "#fb9f3a"
             ],
             [
              0.8888888888888888,
              "#fdca26"
             ],
             [
              1,
              "#f0f921"
             ]
            ],
            "type": "heatmapgl"
           }
          ],
          "histogram": [
           {
            "marker": {
             "pattern": {
              "fillmode": "overlay",
              "size": 10,
              "solidity": 0.2
             }
            },
            "type": "histogram"
           }
          ],
          "histogram2d": [
           {
            "colorbar": {
             "outlinewidth": 0,
             "ticks": ""
            },
            "colorscale": [
             [
              0,
              "#0d0887"
             ],
             [
              0.1111111111111111,
              "#46039f"
             ],
             [
              0.2222222222222222,
              "#7201a8"
             ],
             [
              0.3333333333333333,
              "#9c179e"
             ],
             [
              0.4444444444444444,
              "#bd3786"
             ],
             [
              0.5555555555555556,
              "#d8576b"
             ],
             [
              0.6666666666666666,
              "#ed7953"
             ],
             [
              0.7777777777777778,
              "#fb9f3a"
             ],
             [
              0.8888888888888888,
              "#fdca26"
             ],
             [
              1,
              "#f0f921"
             ]
            ],
            "type": "histogram2d"
           }
          ],
          "histogram2dcontour": [
           {
            "colorbar": {
             "outlinewidth": 0,
             "ticks": ""
            },
            "colorscale": [
             [
              0,
              "#0d0887"
             ],
             [
              0.1111111111111111,
              "#46039f"
             ],
             [
              0.2222222222222222,
              "#7201a8"
             ],
             [
              0.3333333333333333,
              "#9c179e"
             ],
             [
              0.4444444444444444,
              "#bd3786"
             ],
             [
              0.5555555555555556,
              "#d8576b"
             ],
             [
              0.6666666666666666,
              "#ed7953"
             ],
             [
              0.7777777777777778,
              "#fb9f3a"
             ],
             [
              0.8888888888888888,
              "#fdca26"
             ],
             [
              1,
              "#f0f921"
             ]
            ],
            "type": "histogram2dcontour"
           }
          ],
          "mesh3d": [
           {
            "colorbar": {
             "outlinewidth": 0,
             "ticks": ""
            },
            "type": "mesh3d"
           }
          ],
          "parcoords": [
           {
            "line": {
             "colorbar": {
              "outlinewidth": 0,
              "ticks": ""
             }
            },
            "type": "parcoords"
           }
          ],
          "pie": [
           {
            "automargin": true,
            "type": "pie"
           }
          ],
          "scatter": [
           {
            "fillpattern": {
             "fillmode": "overlay",
             "size": 10,
             "solidity": 0.2
            },
            "type": "scatter"
           }
          ],
          "scatter3d": [
           {
            "line": {
             "colorbar": {
              "outlinewidth": 0,
              "ticks": ""
             }
            },
            "marker": {
             "colorbar": {
              "outlinewidth": 0,
              "ticks": ""
             }
            },
            "type": "scatter3d"
           }
          ],
          "scattercarpet": [
           {
            "marker": {
             "colorbar": {
              "outlinewidth": 0,
              "ticks": ""
             }
            },
            "type": "scattercarpet"
           }
          ],
          "scattergeo": [
           {
            "marker": {
             "colorbar": {
              "outlinewidth": 0,
              "ticks": ""
             }
            },
            "type": "scattergeo"
           }
          ],
          "scattergl": [
           {
            "marker": {
             "colorbar": {
              "outlinewidth": 0,
              "ticks": ""
             }
            },
            "type": "scattergl"
           }
          ],
          "scattermapbox": [
           {
            "marker": {
             "colorbar": {
              "outlinewidth": 0,
              "ticks": ""
             }
            },
            "type": "scattermapbox"
           }
          ],
          "scatterpolar": [
           {
            "marker": {
             "colorbar": {
              "outlinewidth": 0,
              "ticks": ""
             }
            },
            "type": "scatterpolar"
           }
          ],
          "scatterpolargl": [
           {
            "marker": {
             "colorbar": {
              "outlinewidth": 0,
              "ticks": ""
             }
            },
            "type": "scatterpolargl"
           }
          ],
          "scatterternary": [
           {
            "marker": {
             "colorbar": {
              "outlinewidth": 0,
              "ticks": ""
             }
            },
            "type": "scatterternary"
           }
          ],
          "surface": [
           {
            "colorbar": {
             "outlinewidth": 0,
             "ticks": ""
            },
            "colorscale": [
             [
              0,
              "#0d0887"
             ],
             [
              0.1111111111111111,
              "#46039f"
             ],
             [
              0.2222222222222222,
              "#7201a8"
             ],
             [
              0.3333333333333333,
              "#9c179e"
             ],
             [
              0.4444444444444444,
              "#bd3786"
             ],
             [
              0.5555555555555556,
              "#d8576b"
             ],
             [
              0.6666666666666666,
              "#ed7953"
             ],
             [
              0.7777777777777778,
              "#fb9f3a"
             ],
             [
              0.8888888888888888,
              "#fdca26"
             ],
             [
              1,
              "#f0f921"
             ]
            ],
            "type": "surface"
           }
          ],
          "table": [
           {
            "cells": {
             "fill": {
              "color": "#EBF0F8"
             },
             "line": {
              "color": "white"
             }
            },
            "header": {
             "fill": {
              "color": "#C8D4E3"
             },
             "line": {
              "color": "white"
             }
            },
            "type": "table"
           }
          ]
         },
         "layout": {
          "annotationdefaults": {
           "arrowcolor": "#2a3f5f",
           "arrowhead": 0,
           "arrowwidth": 1
          },
          "autotypenumbers": "strict",
          "coloraxis": {
           "colorbar": {
            "outlinewidth": 0,
            "ticks": ""
           }
          },
          "colorscale": {
           "diverging": [
            [
             0,
             "#8e0152"
            ],
            [
             0.1,
             "#c51b7d"
            ],
            [
             0.2,
             "#de77ae"
            ],
            [
             0.3,
             "#f1b6da"
            ],
            [
             0.4,
             "#fde0ef"
            ],
            [
             0.5,
             "#f7f7f7"
            ],
            [
             0.6,
             "#e6f5d0"
            ],
            [
             0.7,
             "#b8e186"
            ],
            [
             0.8,
             "#7fbc41"
            ],
            [
             0.9,
             "#4d9221"
            ],
            [
             1,
             "#276419"
            ]
           ],
           "sequential": [
            [
             0,
             "#0d0887"
            ],
            [
             0.1111111111111111,
             "#46039f"
            ],
            [
             0.2222222222222222,
             "#7201a8"
            ],
            [
             0.3333333333333333,
             "#9c179e"
            ],
            [
             0.4444444444444444,
             "#bd3786"
            ],
            [
             0.5555555555555556,
             "#d8576b"
            ],
            [
             0.6666666666666666,
             "#ed7953"
            ],
            [
             0.7777777777777778,
             "#fb9f3a"
            ],
            [
             0.8888888888888888,
             "#fdca26"
            ],
            [
             1,
             "#f0f921"
            ]
           ],
           "sequentialminus": [
            [
             0,
             "#0d0887"
            ],
            [
             0.1111111111111111,
             "#46039f"
            ],
            [
             0.2222222222222222,
             "#7201a8"
            ],
            [
             0.3333333333333333,
             "#9c179e"
            ],
            [
             0.4444444444444444,
             "#bd3786"
            ],
            [
             0.5555555555555556,
             "#d8576b"
            ],
            [
             0.6666666666666666,
             "#ed7953"
            ],
            [
             0.7777777777777778,
             "#fb9f3a"
            ],
            [
             0.8888888888888888,
             "#fdca26"
            ],
            [
             1,
             "#f0f921"
            ]
           ]
          },
          "colorway": [
           "#636efa",
           "#EF553B",
           "#00cc96",
           "#ab63fa",
           "#FFA15A",
           "#19d3f3",
           "#FF6692",
           "#B6E880",
           "#FF97FF",
           "#FECB52"
          ],
          "font": {
           "color": "#2a3f5f"
          },
          "geo": {
           "bgcolor": "white",
           "lakecolor": "white",
           "landcolor": "#E5ECF6",
           "showlakes": true,
           "showland": true,
           "subunitcolor": "white"
          },
          "hoverlabel": {
           "align": "left"
          },
          "hovermode": "closest",
          "mapbox": {
           "style": "light"
          },
          "paper_bgcolor": "white",
          "plot_bgcolor": "#E5ECF6",
          "polar": {
           "angularaxis": {
            "gridcolor": "white",
            "linecolor": "white",
            "ticks": ""
           },
           "bgcolor": "#E5ECF6",
           "radialaxis": {
            "gridcolor": "white",
            "linecolor": "white",
            "ticks": ""
           }
          },
          "scene": {
           "xaxis": {
            "backgroundcolor": "#E5ECF6",
            "gridcolor": "white",
            "gridwidth": 2,
            "linecolor": "white",
            "showbackground": true,
            "ticks": "",
            "zerolinecolor": "white"
           },
           "yaxis": {
            "backgroundcolor": "#E5ECF6",
            "gridcolor": "white",
            "gridwidth": 2,
            "linecolor": "white",
            "showbackground": true,
            "ticks": "",
            "zerolinecolor": "white"
           },
           "zaxis": {
            "backgroundcolor": "#E5ECF6",
            "gridcolor": "white",
            "gridwidth": 2,
            "linecolor": "white",
            "showbackground": true,
            "ticks": "",
            "zerolinecolor": "white"
           }
          },
          "shapedefaults": {
           "line": {
            "color": "#2a3f5f"
           }
          },
          "ternary": {
           "aaxis": {
            "gridcolor": "white",
            "linecolor": "white",
            "ticks": ""
           },
           "baxis": {
            "gridcolor": "white",
            "linecolor": "white",
            "ticks": ""
           },
           "bgcolor": "#E5ECF6",
           "caxis": {
            "gridcolor": "white",
            "linecolor": "white",
            "ticks": ""
           }
          },
          "title": {
           "x": 0.05
          },
          "xaxis": {
           "automargin": true,
           "gridcolor": "white",
           "linecolor": "white",
           "ticks": "",
           "title": {
            "standoff": 15
           },
           "zerolinecolor": "white",
           "zerolinewidth": 2
          },
          "yaxis": {
           "automargin": true,
           "gridcolor": "white",
           "linecolor": "white",
           "ticks": "",
           "title": {
            "standoff": 15
           },
           "zerolinecolor": "white",
           "zerolinewidth": 2
          }
         }
        },
        "xaxis": {
         "anchor": "y",
         "domain": [
          0,
          1
         ]
        },
        "yaxis": {
         "anchor": "x",
         "domain": [
          0,
          1
         ],
         "title": {
          "text": "outcome"
         }
        }
       }
      }
     },
     "metadata": {},
     "output_type": "display_data"
    }
   ],
   "source": [
    "px.box(data, y='outcome')"
   ]
  },
  {
   "cell_type": "markdown",
   "metadata": {},
   "source": [
    "Мы видим 1 очень выделяющийся выброс, связанный с покупкой курса по аналитике за 80 тыс. рублей. Я думаю, что его стоит удалить, чтобы он не смещал дальнейшие графики"
   ]
  },
  {
   "cell_type": "code",
   "execution_count": 6,
   "metadata": {},
   "outputs": [],
   "source": [
    "data = data[data['outcome'] < 80000]"
   ]
  },
  {
   "cell_type": "markdown",
   "metadata": {},
   "source": [
    "## Рассчитаем базовые статистики"
   ]
  },
  {
   "cell_type": "code",
   "execution_count": 7,
   "metadata": {},
   "outputs": [
    {
     "name": "stdout",
     "output_type": "stream",
     "text": [
      "\n",
      "<< Базовая статистика >>\n",
      "\n",
      "+ Средняя сумма трат: 455.6634844668346 руб\n",
      "\n",
      "+ Медианная сумма трат: 259.98 руб\n",
      "+ 20% моих трат меньше, чем 110.5 рублей\n",
      "+ 40% моих трат меньше, чем 200.0 рублей\n",
      "+ 60% моих трат меньше, чем 323.0 рублей\n",
      "+ 80% моих трат меньше, чем 533.0 рублей\n",
      "\n",
      "+ Максималная трата: 21020.0 руб\n",
      "+ Минимальная трата: 10.0 руб\n",
      "\n",
      "* Стандартное отклонение: 876.8872978496819 руб\n",
      "\n"
     ]
    }
   ],
   "source": [
    "mean = data['outcome'].mean()\n",
    "median = data['outcome'].median()\n",
    "percentile_20 = data['outcome'].quantile(q=0.2)\n",
    "percentile_40 = data['outcome'].quantile(q=0.4)\n",
    "percentile_60 = data['outcome'].quantile(q=0.6)\n",
    "percentile_80 = data['outcome'].quantile(q=0.8)\n",
    "maximun = data['outcome'].max()\n",
    "minimun = data['outcome'].min()\n",
    "standard_deviation = data['outcome'].std()\n",
    "\n",
    "result = f\"\"\"\n",
    "<< Базовая статистика >>\n",
    "\n",
    "+ Средняя сумма трат: {mean} руб\n",
    "\n",
    "+ Медианная сумма трат: {median} руб\n",
    "+ 20% моих трат меньше, чем {percentile_20} рублей\n",
    "+ 40% моих трат меньше, чем {percentile_40} рублей\n",
    "+ 60% моих трат меньше, чем {percentile_60} рублей\n",
    "+ 80% моих трат меньше, чем {percentile_80} рублей\n",
    "\n",
    "+ Максималная трата: {maximun} руб\n",
    "+ Минимальная трата: {minimun} руб\n",
    "\n",
    "* Стандартное отклонение: {standard_deviation} руб\n",
    "\"\"\"\n",
    "print(result)"
   ]
  },
  {
   "cell_type": "markdown",
   "metadata": {},
   "source": [
    "Теперь мне интересно посмотреть на эти басовые статистики не в целом, а по дням"
   ]
  },
  {
   "cell_type": "code",
   "execution_count": 8,
   "metadata": {},
   "outputs": [
    {
     "name": "stdout",
     "output_type": "stream",
     "text": [
      "\n",
      "<< Базовая статистика за день>>\n",
      "\n",
      "+ Средняя сумма трат (в день): 1462.7903234501346 руб\n",
      "\n",
      "+ Медианная сумма (в день) трат: 927.51 руб\n",
      "+ 20% моих трат (в день) меньше, чем 363.7 рублей\n",
      "+ 40% моих трат (в день) меньше, чем 778.97 рублей\n",
      "+ 60% моих трат (в день) меньше, чем 1194.98 рублей\n",
      "+ 80% моих трат (в день) меньше, чем 2009.4 рублей\n",
      "\n",
      "+ Максималная трата за день: 22039.0 руб\n",
      "+ Минимальная трата за день: 0.0 руб\n",
      "\n",
      "* Стандартное отклонение: 2030.589365446051 руб\n",
      "\n"
     ]
    }
   ],
   "source": [
    "data_by_days = data.groupby('date', as_index=False) \\\n",
    "                  .agg({'outcome' : 'sum'})\n",
    "all_dates = pd.date_range(start=data_by_days['date'].min(), end=data_by_days['date'].max(), freq='D').to_frame(index=False, name='date')\n",
    "\n",
    "data_by_days = pd.merge(all_dates, data_by_days, on='date', how='left').fillna({'outcome': 0})\n",
    "\n",
    "mean = data_by_days['outcome'].mean()\n",
    "median = data_by_days['outcome'].median()\n",
    "percentile_20 = data_by_days['outcome'].quantile(q=0.2)\n",
    "percentile_40 = data_by_days['outcome'].quantile(q=0.4)\n",
    "percentile_60 = data_by_days['outcome'].quantile(q=0.6)\n",
    "percentile_80 = data_by_days['outcome'].quantile(q=0.8)\n",
    "maximun = data_by_days['outcome'].max()\n",
    "minimun = data_by_days['outcome'].min()\n",
    "standard_deviation = data_by_days['outcome'].std()\n",
    "\n",
    "result = f\"\"\"\n",
    "<< Базовая статистика за день>>\n",
    "\n",
    "+ Средняя сумма трат (в день): {mean} руб\n",
    "\n",
    "+ Медианная сумма (в день) трат: {median} руб\n",
    "+ 20% моих трат (в день) меньше, чем {percentile_20} рублей\n",
    "+ 40% моих трат (в день) меньше, чем {percentile_40} рублей\n",
    "+ 60% моих трат (в день) меньше, чем {percentile_60} рублей\n",
    "+ 80% моих трат (в день) меньше, чем {percentile_80} рублей\n",
    "\n",
    "+ Максималная трата за день: {maximun} руб\n",
    "+ Минимальная трата за день: {minimun} руб\n",
    "\n",
    "* Стандартное отклонение: {standard_deviation} руб\n",
    "\"\"\"\n",
    "print(result)"
   ]
  },
  {
   "cell_type": "markdown",
   "metadata": {},
   "source": [
    "Тут все уже не так радужно. Медианно, я трачу около 1000 рублей в день, что довольно много. Всего 20% дней я тратил меньше, чем 364 рубля."
   ]
  },
  {
   "cell_type": "markdown",
   "metadata": {},
   "source": [
    "## Посмотрим на динамику трат с течением времени"
   ]
  },
  {
   "cell_type": "code",
   "execution_count": 9,
   "metadata": {},
   "outputs": [
    {
     "data": {
      "application/vnd.plotly.v1+json": {
       "config": {
        "plotlyServerURL": "https://plot.ly"
       },
       "data": [
        {
         "hovertemplate": "date=%{x}<br>outcome=%{y}<extra></extra>",
         "legendgroup": "",
         "line": {
          "color": "#636efa",
          "dash": "solid"
         },
         "marker": {
          "symbol": "circle"
         },
         "mode": "lines",
         "name": "",
         "orientation": "v",
         "showlegend": false,
         "type": "scatter",
         "x": [
          "2023-03-17T00:00:00",
          "2023-03-18T00:00:00",
          "2023-03-19T00:00:00",
          "2023-03-20T00:00:00",
          "2023-03-21T00:00:00",
          "2023-03-22T00:00:00",
          "2023-03-23T00:00:00",
          "2023-03-24T00:00:00",
          "2023-03-25T00:00:00",
          "2023-03-26T00:00:00",
          "2023-03-27T00:00:00",
          "2023-03-28T00:00:00",
          "2023-03-29T00:00:00",
          "2023-03-30T00:00:00",
          "2023-03-31T00:00:00",
          "2023-04-01T00:00:00",
          "2023-04-02T00:00:00",
          "2023-04-03T00:00:00",
          "2023-04-04T00:00:00",
          "2023-04-05T00:00:00",
          "2023-04-06T00:00:00",
          "2023-04-07T00:00:00",
          "2023-04-08T00:00:00",
          "2023-04-09T00:00:00",
          "2023-04-10T00:00:00",
          "2023-04-11T00:00:00",
          "2023-04-12T00:00:00",
          "2023-04-13T00:00:00",
          "2023-04-14T00:00:00",
          "2023-04-15T00:00:00",
          "2023-04-16T00:00:00",
          "2023-04-17T00:00:00",
          "2023-04-18T00:00:00",
          "2023-04-19T00:00:00",
          "2023-04-20T00:00:00",
          "2023-04-21T00:00:00",
          "2023-04-22T00:00:00",
          "2023-04-23T00:00:00",
          "2023-04-24T00:00:00",
          "2023-04-25T00:00:00",
          "2023-04-26T00:00:00",
          "2023-04-27T00:00:00",
          "2023-04-28T00:00:00",
          "2023-04-29T00:00:00",
          "2023-04-30T00:00:00",
          "2023-05-01T00:00:00",
          "2023-05-02T00:00:00",
          "2023-05-03T00:00:00",
          "2023-05-04T00:00:00",
          "2023-05-05T00:00:00",
          "2023-05-06T00:00:00",
          "2023-05-07T00:00:00",
          "2023-05-08T00:00:00",
          "2023-05-09T00:00:00",
          "2023-05-10T00:00:00",
          "2023-05-11T00:00:00",
          "2023-05-12T00:00:00",
          "2023-05-13T00:00:00",
          "2023-05-14T00:00:00",
          "2023-05-15T00:00:00",
          "2023-05-16T00:00:00",
          "2023-05-17T00:00:00",
          "2023-05-18T00:00:00",
          "2023-05-19T00:00:00",
          "2023-05-20T00:00:00",
          "2023-05-21T00:00:00",
          "2023-05-22T00:00:00",
          "2023-05-23T00:00:00",
          "2023-05-24T00:00:00",
          "2023-05-25T00:00:00",
          "2023-05-26T00:00:00",
          "2023-05-27T00:00:00",
          "2023-05-28T00:00:00",
          "2023-05-29T00:00:00",
          "2023-05-30T00:00:00",
          "2023-05-31T00:00:00",
          "2023-06-01T00:00:00",
          "2023-06-02T00:00:00",
          "2023-06-03T00:00:00",
          "2023-06-04T00:00:00",
          "2023-06-05T00:00:00",
          "2023-06-06T00:00:00",
          "2023-06-07T00:00:00",
          "2023-06-08T00:00:00",
          "2023-06-09T00:00:00",
          "2023-06-10T00:00:00",
          "2023-06-11T00:00:00",
          "2023-06-12T00:00:00",
          "2023-06-13T00:00:00",
          "2023-06-14T00:00:00",
          "2023-06-15T00:00:00",
          "2023-06-16T00:00:00",
          "2023-06-17T00:00:00",
          "2023-06-18T00:00:00",
          "2023-06-19T00:00:00",
          "2023-06-20T00:00:00",
          "2023-06-21T00:00:00",
          "2023-06-22T00:00:00",
          "2023-06-23T00:00:00",
          "2023-06-24T00:00:00",
          "2023-06-25T00:00:00",
          "2023-06-26T00:00:00",
          "2023-06-27T00:00:00",
          "2023-06-28T00:00:00",
          "2023-06-29T00:00:00",
          "2023-06-30T00:00:00",
          "2023-07-01T00:00:00",
          "2023-07-02T00:00:00",
          "2023-07-03T00:00:00",
          "2023-07-04T00:00:00",
          "2023-07-05T00:00:00",
          "2023-07-06T00:00:00",
          "2023-07-07T00:00:00",
          "2023-07-08T00:00:00",
          "2023-07-09T00:00:00",
          "2023-07-10T00:00:00",
          "2023-07-11T00:00:00",
          "2023-07-12T00:00:00",
          "2023-07-13T00:00:00",
          "2023-07-14T00:00:00",
          "2023-07-15T00:00:00",
          "2023-07-16T00:00:00",
          "2023-07-17T00:00:00",
          "2023-07-18T00:00:00",
          "2023-07-19T00:00:00",
          "2023-07-20T00:00:00",
          "2023-07-21T00:00:00",
          "2023-07-22T00:00:00",
          "2023-07-23T00:00:00",
          "2023-07-24T00:00:00",
          "2023-07-25T00:00:00",
          "2023-07-26T00:00:00",
          "2023-07-27T00:00:00",
          "2023-07-28T00:00:00",
          "2023-07-29T00:00:00",
          "2023-07-30T00:00:00",
          "2023-07-31T00:00:00",
          "2023-08-01T00:00:00",
          "2023-08-02T00:00:00",
          "2023-08-03T00:00:00",
          "2023-08-04T00:00:00",
          "2023-08-05T00:00:00",
          "2023-08-06T00:00:00",
          "2023-08-07T00:00:00",
          "2023-08-08T00:00:00",
          "2023-08-09T00:00:00",
          "2023-08-10T00:00:00",
          "2023-08-11T00:00:00",
          "2023-08-12T00:00:00",
          "2023-08-13T00:00:00",
          "2023-08-14T00:00:00",
          "2023-08-15T00:00:00",
          "2023-08-16T00:00:00",
          "2023-08-17T00:00:00",
          "2023-08-18T00:00:00",
          "2023-08-19T00:00:00",
          "2023-08-20T00:00:00",
          "2023-08-21T00:00:00",
          "2023-08-22T00:00:00",
          "2023-08-23T00:00:00",
          "2023-08-24T00:00:00",
          "2023-08-25T00:00:00",
          "2023-08-26T00:00:00",
          "2023-08-27T00:00:00",
          "2023-08-28T00:00:00",
          "2023-08-29T00:00:00",
          "2023-08-30T00:00:00",
          "2023-08-31T00:00:00",
          "2023-09-01T00:00:00",
          "2023-09-02T00:00:00",
          "2023-09-03T00:00:00",
          "2023-09-04T00:00:00",
          "2023-09-05T00:00:00",
          "2023-09-06T00:00:00",
          "2023-09-07T00:00:00",
          "2023-09-08T00:00:00",
          "2023-09-09T00:00:00",
          "2023-09-10T00:00:00",
          "2023-09-11T00:00:00",
          "2023-09-12T00:00:00",
          "2023-09-13T00:00:00",
          "2023-09-14T00:00:00",
          "2023-09-15T00:00:00",
          "2023-09-16T00:00:00",
          "2023-09-17T00:00:00",
          "2023-09-18T00:00:00",
          "2023-09-19T00:00:00",
          "2023-09-20T00:00:00",
          "2023-09-21T00:00:00",
          "2023-09-22T00:00:00",
          "2023-09-23T00:00:00",
          "2023-09-24T00:00:00",
          "2023-09-25T00:00:00",
          "2023-09-26T00:00:00",
          "2023-09-27T00:00:00",
          "2023-09-28T00:00:00",
          "2023-09-29T00:00:00",
          "2023-09-30T00:00:00",
          "2023-10-01T00:00:00",
          "2023-10-02T00:00:00",
          "2023-10-03T00:00:00",
          "2023-10-04T00:00:00",
          "2023-10-05T00:00:00",
          "2023-10-06T00:00:00",
          "2023-10-07T00:00:00",
          "2023-10-08T00:00:00",
          "2023-10-09T00:00:00",
          "2023-10-10T00:00:00",
          "2023-10-11T00:00:00",
          "2023-10-12T00:00:00",
          "2023-10-13T00:00:00",
          "2023-10-14T00:00:00",
          "2023-10-15T00:00:00",
          "2023-10-16T00:00:00",
          "2023-10-17T00:00:00",
          "2023-10-18T00:00:00",
          "2023-10-19T00:00:00",
          "2023-10-20T00:00:00",
          "2023-10-21T00:00:00",
          "2023-10-22T00:00:00",
          "2023-10-23T00:00:00",
          "2023-10-24T00:00:00",
          "2023-10-25T00:00:00",
          "2023-10-26T00:00:00",
          "2023-10-27T00:00:00",
          "2023-10-28T00:00:00",
          "2023-10-29T00:00:00",
          "2023-10-30T00:00:00",
          "2023-10-31T00:00:00",
          "2023-11-01T00:00:00",
          "2023-11-02T00:00:00",
          "2023-11-03T00:00:00",
          "2023-11-04T00:00:00",
          "2023-11-05T00:00:00",
          "2023-11-06T00:00:00",
          "2023-11-07T00:00:00",
          "2023-11-08T00:00:00",
          "2023-11-09T00:00:00",
          "2023-11-10T00:00:00",
          "2023-11-11T00:00:00",
          "2023-11-12T00:00:00",
          "2023-11-13T00:00:00",
          "2023-11-14T00:00:00",
          "2023-11-15T00:00:00",
          "2023-11-16T00:00:00",
          "2023-11-17T00:00:00",
          "2023-11-18T00:00:00",
          "2023-11-19T00:00:00",
          "2023-11-20T00:00:00",
          "2023-11-21T00:00:00",
          "2023-11-22T00:00:00",
          "2023-11-23T00:00:00",
          "2023-11-24T00:00:00",
          "2023-11-25T00:00:00",
          "2023-11-26T00:00:00",
          "2023-11-27T00:00:00",
          "2023-11-28T00:00:00",
          "2023-11-29T00:00:00",
          "2023-11-30T00:00:00",
          "2023-12-01T00:00:00",
          "2023-12-02T00:00:00",
          "2023-12-03T00:00:00",
          "2023-12-04T00:00:00",
          "2023-12-05T00:00:00",
          "2023-12-06T00:00:00",
          "2023-12-07T00:00:00",
          "2023-12-08T00:00:00",
          "2023-12-09T00:00:00",
          "2023-12-10T00:00:00",
          "2023-12-11T00:00:00",
          "2023-12-12T00:00:00",
          "2023-12-13T00:00:00",
          "2023-12-14T00:00:00",
          "2023-12-15T00:00:00",
          "2023-12-16T00:00:00",
          "2023-12-17T00:00:00",
          "2023-12-18T00:00:00",
          "2023-12-19T00:00:00",
          "2023-12-20T00:00:00",
          "2023-12-21T00:00:00",
          "2023-12-22T00:00:00",
          "2023-12-23T00:00:00",
          "2023-12-24T00:00:00",
          "2023-12-25T00:00:00",
          "2023-12-26T00:00:00",
          "2023-12-27T00:00:00",
          "2023-12-28T00:00:00",
          "2023-12-29T00:00:00",
          "2023-12-30T00:00:00",
          "2023-12-31T00:00:00",
          "2024-01-01T00:00:00",
          "2024-01-02T00:00:00",
          "2024-01-03T00:00:00",
          "2024-01-04T00:00:00",
          "2024-01-05T00:00:00",
          "2024-01-06T00:00:00",
          "2024-01-07T00:00:00",
          "2024-01-08T00:00:00",
          "2024-01-09T00:00:00",
          "2024-01-10T00:00:00",
          "2024-01-11T00:00:00",
          "2024-01-12T00:00:00",
          "2024-01-13T00:00:00",
          "2024-01-14T00:00:00",
          "2024-01-15T00:00:00",
          "2024-01-16T00:00:00",
          "2024-01-17T00:00:00",
          "2024-01-18T00:00:00",
          "2024-01-19T00:00:00",
          "2024-01-20T00:00:00",
          "2024-01-21T00:00:00",
          "2024-01-22T00:00:00",
          "2024-01-23T00:00:00",
          "2024-01-24T00:00:00",
          "2024-01-25T00:00:00",
          "2024-01-26T00:00:00",
          "2024-01-27T00:00:00",
          "2024-01-28T00:00:00",
          "2024-01-29T00:00:00",
          "2024-01-30T00:00:00",
          "2024-01-31T00:00:00",
          "2024-02-01T00:00:00",
          "2024-02-02T00:00:00",
          "2024-02-03T00:00:00",
          "2024-02-04T00:00:00",
          "2024-02-05T00:00:00",
          "2024-02-06T00:00:00",
          "2024-02-07T00:00:00",
          "2024-02-08T00:00:00",
          "2024-02-09T00:00:00",
          "2024-02-10T00:00:00",
          "2024-02-11T00:00:00",
          "2024-02-12T00:00:00",
          "2024-02-13T00:00:00",
          "2024-02-14T00:00:00",
          "2024-02-15T00:00:00",
          "2024-02-16T00:00:00",
          "2024-02-17T00:00:00",
          "2024-02-18T00:00:00",
          "2024-02-19T00:00:00",
          "2024-02-20T00:00:00",
          "2024-02-21T00:00:00",
          "2024-02-22T00:00:00",
          "2024-02-23T00:00:00",
          "2024-02-24T00:00:00",
          "2024-02-25T00:00:00",
          "2024-02-26T00:00:00",
          "2024-02-27T00:00:00",
          "2024-02-28T00:00:00",
          "2024-02-29T00:00:00",
          "2024-03-01T00:00:00",
          "2024-03-02T00:00:00",
          "2024-03-03T00:00:00",
          "2024-03-04T00:00:00",
          "2024-03-05T00:00:00",
          "2024-03-06T00:00:00",
          "2024-03-07T00:00:00",
          "2024-03-08T00:00:00",
          "2024-03-09T00:00:00",
          "2024-03-10T00:00:00",
          "2024-03-11T00:00:00",
          "2024-03-12T00:00:00",
          "2024-03-13T00:00:00",
          "2024-03-14T00:00:00",
          "2024-03-15T00:00:00",
          "2024-03-16T00:00:00",
          "2024-03-17T00:00:00",
          "2024-03-18T00:00:00",
          "2024-03-19T00:00:00",
          "2024-03-20T00:00:00",
          "2024-03-21T00:00:00"
         ],
         "xaxis": "x",
         "y": [
          237.6,
          381,
          665,
          100,
          248,
          0,
          299,
          737.99,
          198,
          328,
          200,
          2344.58,
          0,
          218.75,
          333,
          0,
          0,
          0,
          0,
          574.45,
          419.4,
          495,
          863.45,
          403.07,
          710.07,
          614.75,
          831,
          1520.51,
          469,
          579,
          3366.13,
          1001.64,
          244.98000000000002,
          912,
          1491.04,
          160,
          1693.38,
          758,
          418.09000000000003,
          363.16999999999996,
          600.19,
          413.57,
          836.4100000000001,
          1838,
          4459.89,
          0,
          334.99,
          100,
          880.34,
          830,
          1194.98,
          404,
          79.99,
          0,
          1379,
          418,
          0,
          200,
          604,
          729.98,
          6703.39,
          154.97,
          589,
          898.48,
          213.76,
          2327.99,
          1260.35,
          105,
          302.37,
          0,
          680.95,
          976,
          1521.27,
          215,
          1921,
          1385.99,
          2272,
          366.83000000000004,
          1036.18,
          218.37,
          1192.1399999999999,
          1933.95,
          1147,
          900.6800000000001,
          862.96,
          1413.53,
          764.97,
          2137.9300000000003,
          1044,
          1019.33,
          823,
          1893.27,
          1325.18,
          2277.14,
          2124,
          2067.41,
          1144.15,
          987.9200000000001,
          929.83,
          834.99,
          1507.87,
          1000,
          940.38,
          1135.99,
          1339.58,
          2189.82,
          1559,
          2973.59,
          1376.9,
          5034,
          2146.98,
          1389.99,
          578.99,
          201.97,
          687.49,
          524,
          1098.99,
          526.98,
          3166.98,
          890.99,
          228,
          511.89,
          0,
          821,
          0,
          1406.06,
          0,
          0,
          0,
          0,
          321.96999999999997,
          498,
          1005.98,
          0,
          1613,
          0,
          0,
          0,
          0,
          797.95,
          1500,
          1320.25,
          370,
          1329.96,
          358.78,
          3283.78,
          4886.82,
          4103.95,
          3472.9,
          2589.98,
          4866.96,
          13650.15,
          4637.49,
          6287.99,
          1903,
          8580.92,
          2579.65,
          1285.4,
          1319,
          1214,
          2343.08,
          463.4,
          1181.16,
          1009,
          3123.4,
          0,
          660.1700000000001,
          536,
          2163.34,
          1054,
          969.99,
          380.47,
          1299.5,
          2013.99,
          2247.4,
          1879.05,
          1001.98,
          395,
          2051.91,
          0,
          461.86,
          1455.99,
          333,
          1726.93,
          0,
          8044.34,
          1601,
          340,
          1013.98,
          986.76,
          1468.4,
          2532.95,
          5005.37,
          32.4,
          873.94,
          711.4,
          913.4,
          567.38,
          4073.44,
          795,
          630,
          776.5,
          403.8,
          2368.2799999999997,
          1594.29,
          827.09,
          2108,
          532.95,
          1338.37,
          592.8,
          740.26,
          2009.4,
          781.18,
          436.77,
          255,
          778.97,
          1142.92,
          430.14,
          500,
          504.15999999999997,
          0,
          541.29,
          817.59,
          2316.5099999999998,
          147,
          535,
          808,
          659.4,
          772.8199999999999,
          1420.11,
          662.96,
          2115.96,
          456,
          524,
          1548.55,
          614.24,
          5244.4,
          2727.3900000000003,
          1742,
          129,
          3671.39,
          2709.4,
          795.4,
          1543.01,
          447.4,
          1209,
          6502,
          0,
          256.97,
          0,
          659,
          2037.93,
          200,
          822.35,
          340,
          3830.3,
          102.4,
          1554.8,
          1446.58,
          1506.44,
          0,
          966,
          362,
          1301.74,
          1091,
          318.33,
          1144.07,
          575.97,
          363.7,
          3524.9,
          2989.99,
          5002.07,
          1332.78,
          1845.4,
          542.58,
          2118,
          7540.5,
          1731,
          7237,
          961.96,
          870.4300000000001,
          7085,
          1263,
          2077.4,
          1665.92,
          824.92,
          1582.99,
          1728,
          8333.380000000001,
          935,
          30,
          0,
          648.94,
          2456,
          1302.92,
          2148.7200000000003,
          1038,
          1781.8400000000001,
          917,
          1532,
          866.26,
          2600,
          1386.4,
          3655.27,
          1046,
          831.5799999999999,
          1098,
          1357.95,
          1249.95,
          693.47,
          948,
          790.97,
          1540.96,
          889,
          756,
          1266.35,
          2972.84,
          997.4200000000001,
          137,
          869.5,
          399.97,
          933.4100000000001,
          1937.83,
          0,
          220,
          4713.87,
          1153,
          3795.95,
          387.4,
          707.33,
          1946.0800000000002,
          5572.35,
          1675,
          1379,
          1198.79,
          394.4,
          729.98,
          1809.96,
          198,
          256.27,
          1851.32,
          2762.3,
          2081.4700000000003,
          766.07,
          4016,
          2634.38,
          3543.62,
          1299,
          230,
          2414,
          849.55,
          927.51,
          1813.01,
          1260,
          15201.64,
          2185,
          918.46,
          1392.1,
          851.76,
          606,
          480,
          374.3,
          1282.46,
          1286,
          915.97,
          1028.4,
          888.43,
          3856.26,
          1601.4,
          22039,
          460
         ],
         "yaxis": "y"
        }
       ],
       "layout": {
        "legend": {
         "tracegroupgap": 0
        },
        "template": {
         "data": {
          "bar": [
           {
            "error_x": {
             "color": "#2a3f5f"
            },
            "error_y": {
             "color": "#2a3f5f"
            },
            "marker": {
             "line": {
              "color": "#E5ECF6",
              "width": 0.5
             },
             "pattern": {
              "fillmode": "overlay",
              "size": 10,
              "solidity": 0.2
             }
            },
            "type": "bar"
           }
          ],
          "barpolar": [
           {
            "marker": {
             "line": {
              "color": "#E5ECF6",
              "width": 0.5
             },
             "pattern": {
              "fillmode": "overlay",
              "size": 10,
              "solidity": 0.2
             }
            },
            "type": "barpolar"
           }
          ],
          "carpet": [
           {
            "aaxis": {
             "endlinecolor": "#2a3f5f",
             "gridcolor": "white",
             "linecolor": "white",
             "minorgridcolor": "white",
             "startlinecolor": "#2a3f5f"
            },
            "baxis": {
             "endlinecolor": "#2a3f5f",
             "gridcolor": "white",
             "linecolor": "white",
             "minorgridcolor": "white",
             "startlinecolor": "#2a3f5f"
            },
            "type": "carpet"
           }
          ],
          "choropleth": [
           {
            "colorbar": {
             "outlinewidth": 0,
             "ticks": ""
            },
            "type": "choropleth"
           }
          ],
          "contour": [
           {
            "colorbar": {
             "outlinewidth": 0,
             "ticks": ""
            },
            "colorscale": [
             [
              0,
              "#0d0887"
             ],
             [
              0.1111111111111111,
              "#46039f"
             ],
             [
              0.2222222222222222,
              "#7201a8"
             ],
             [
              0.3333333333333333,
              "#9c179e"
             ],
             [
              0.4444444444444444,
              "#bd3786"
             ],
             [
              0.5555555555555556,
              "#d8576b"
             ],
             [
              0.6666666666666666,
              "#ed7953"
             ],
             [
              0.7777777777777778,
              "#fb9f3a"
             ],
             [
              0.8888888888888888,
              "#fdca26"
             ],
             [
              1,
              "#f0f921"
             ]
            ],
            "type": "contour"
           }
          ],
          "contourcarpet": [
           {
            "colorbar": {
             "outlinewidth": 0,
             "ticks": ""
            },
            "type": "contourcarpet"
           }
          ],
          "heatmap": [
           {
            "colorbar": {
             "outlinewidth": 0,
             "ticks": ""
            },
            "colorscale": [
             [
              0,
              "#0d0887"
             ],
             [
              0.1111111111111111,
              "#46039f"
             ],
             [
              0.2222222222222222,
              "#7201a8"
             ],
             [
              0.3333333333333333,
              "#9c179e"
             ],
             [
              0.4444444444444444,
              "#bd3786"
             ],
             [
              0.5555555555555556,
              "#d8576b"
             ],
             [
              0.6666666666666666,
              "#ed7953"
             ],
             [
              0.7777777777777778,
              "#fb9f3a"
             ],
             [
              0.8888888888888888,
              "#fdca26"
             ],
             [
              1,
              "#f0f921"
             ]
            ],
            "type": "heatmap"
           }
          ],
          "heatmapgl": [
           {
            "colorbar": {
             "outlinewidth": 0,
             "ticks": ""
            },
            "colorscale": [
             [
              0,
              "#0d0887"
             ],
             [
              0.1111111111111111,
              "#46039f"
             ],
             [
              0.2222222222222222,
              "#7201a8"
             ],
             [
              0.3333333333333333,
              "#9c179e"
             ],
             [
              0.4444444444444444,
              "#bd3786"
             ],
             [
              0.5555555555555556,
              "#d8576b"
             ],
             [
              0.6666666666666666,
              "#ed7953"
             ],
             [
              0.7777777777777778,
              "#fb9f3a"
             ],
             [
              0.8888888888888888,
              "#fdca26"
             ],
             [
              1,
              "#f0f921"
             ]
            ],
            "type": "heatmapgl"
           }
          ],
          "histogram": [
           {
            "marker": {
             "pattern": {
              "fillmode": "overlay",
              "size": 10,
              "solidity": 0.2
             }
            },
            "type": "histogram"
           }
          ],
          "histogram2d": [
           {
            "colorbar": {
             "outlinewidth": 0,
             "ticks": ""
            },
            "colorscale": [
             [
              0,
              "#0d0887"
             ],
             [
              0.1111111111111111,
              "#46039f"
             ],
             [
              0.2222222222222222,
              "#7201a8"
             ],
             [
              0.3333333333333333,
              "#9c179e"
             ],
             [
              0.4444444444444444,
              "#bd3786"
             ],
             [
              0.5555555555555556,
              "#d8576b"
             ],
             [
              0.6666666666666666,
              "#ed7953"
             ],
             [
              0.7777777777777778,
              "#fb9f3a"
             ],
             [
              0.8888888888888888,
              "#fdca26"
             ],
             [
              1,
              "#f0f921"
             ]
            ],
            "type": "histogram2d"
           }
          ],
          "histogram2dcontour": [
           {
            "colorbar": {
             "outlinewidth": 0,
             "ticks": ""
            },
            "colorscale": [
             [
              0,
              "#0d0887"
             ],
             [
              0.1111111111111111,
              "#46039f"
             ],
             [
              0.2222222222222222,
              "#7201a8"
             ],
             [
              0.3333333333333333,
              "#9c179e"
             ],
             [
              0.4444444444444444,
              "#bd3786"
             ],
             [
              0.5555555555555556,
              "#d8576b"
             ],
             [
              0.6666666666666666,
              "#ed7953"
             ],
             [
              0.7777777777777778,
              "#fb9f3a"
             ],
             [
              0.8888888888888888,
              "#fdca26"
             ],
             [
              1,
              "#f0f921"
             ]
            ],
            "type": "histogram2dcontour"
           }
          ],
          "mesh3d": [
           {
            "colorbar": {
             "outlinewidth": 0,
             "ticks": ""
            },
            "type": "mesh3d"
           }
          ],
          "parcoords": [
           {
            "line": {
             "colorbar": {
              "outlinewidth": 0,
              "ticks": ""
             }
            },
            "type": "parcoords"
           }
          ],
          "pie": [
           {
            "automargin": true,
            "type": "pie"
           }
          ],
          "scatter": [
           {
            "fillpattern": {
             "fillmode": "overlay",
             "size": 10,
             "solidity": 0.2
            },
            "type": "scatter"
           }
          ],
          "scatter3d": [
           {
            "line": {
             "colorbar": {
              "outlinewidth": 0,
              "ticks": ""
             }
            },
            "marker": {
             "colorbar": {
              "outlinewidth": 0,
              "ticks": ""
             }
            },
            "type": "scatter3d"
           }
          ],
          "scattercarpet": [
           {
            "marker": {
             "colorbar": {
              "outlinewidth": 0,
              "ticks": ""
             }
            },
            "type": "scattercarpet"
           }
          ],
          "scattergeo": [
           {
            "marker": {
             "colorbar": {
              "outlinewidth": 0,
              "ticks": ""
             }
            },
            "type": "scattergeo"
           }
          ],
          "scattergl": [
           {
            "marker": {
             "colorbar": {
              "outlinewidth": 0,
              "ticks": ""
             }
            },
            "type": "scattergl"
           }
          ],
          "scattermapbox": [
           {
            "marker": {
             "colorbar": {
              "outlinewidth": 0,
              "ticks": ""
             }
            },
            "type": "scattermapbox"
           }
          ],
          "scatterpolar": [
           {
            "marker": {
             "colorbar": {
              "outlinewidth": 0,
              "ticks": ""
             }
            },
            "type": "scatterpolar"
           }
          ],
          "scatterpolargl": [
           {
            "marker": {
             "colorbar": {
              "outlinewidth": 0,
              "ticks": ""
             }
            },
            "type": "scatterpolargl"
           }
          ],
          "scatterternary": [
           {
            "marker": {
             "colorbar": {
              "outlinewidth": 0,
              "ticks": ""
             }
            },
            "type": "scatterternary"
           }
          ],
          "surface": [
           {
            "colorbar": {
             "outlinewidth": 0,
             "ticks": ""
            },
            "colorscale": [
             [
              0,
              "#0d0887"
             ],
             [
              0.1111111111111111,
              "#46039f"
             ],
             [
              0.2222222222222222,
              "#7201a8"
             ],
             [
              0.3333333333333333,
              "#9c179e"
             ],
             [
              0.4444444444444444,
              "#bd3786"
             ],
             [
              0.5555555555555556,
              "#d8576b"
             ],
             [
              0.6666666666666666,
              "#ed7953"
             ],
             [
              0.7777777777777778,
              "#fb9f3a"
             ],
             [
              0.8888888888888888,
              "#fdca26"
             ],
             [
              1,
              "#f0f921"
             ]
            ],
            "type": "surface"
           }
          ],
          "table": [
           {
            "cells": {
             "fill": {
              "color": "#EBF0F8"
             },
             "line": {
              "color": "white"
             }
            },
            "header": {
             "fill": {
              "color": "#C8D4E3"
             },
             "line": {
              "color": "white"
             }
            },
            "type": "table"
           }
          ]
         },
         "layout": {
          "annotationdefaults": {
           "arrowcolor": "#2a3f5f",
           "arrowhead": 0,
           "arrowwidth": 1
          },
          "autotypenumbers": "strict",
          "coloraxis": {
           "colorbar": {
            "outlinewidth": 0,
            "ticks": ""
           }
          },
          "colorscale": {
           "diverging": [
            [
             0,
             "#8e0152"
            ],
            [
             0.1,
             "#c51b7d"
            ],
            [
             0.2,
             "#de77ae"
            ],
            [
             0.3,
             "#f1b6da"
            ],
            [
             0.4,
             "#fde0ef"
            ],
            [
             0.5,
             "#f7f7f7"
            ],
            [
             0.6,
             "#e6f5d0"
            ],
            [
             0.7,
             "#b8e186"
            ],
            [
             0.8,
             "#7fbc41"
            ],
            [
             0.9,
             "#4d9221"
            ],
            [
             1,
             "#276419"
            ]
           ],
           "sequential": [
            [
             0,
             "#0d0887"
            ],
            [
             0.1111111111111111,
             "#46039f"
            ],
            [
             0.2222222222222222,
             "#7201a8"
            ],
            [
             0.3333333333333333,
             "#9c179e"
            ],
            [
             0.4444444444444444,
             "#bd3786"
            ],
            [
             0.5555555555555556,
             "#d8576b"
            ],
            [
             0.6666666666666666,
             "#ed7953"
            ],
            [
             0.7777777777777778,
             "#fb9f3a"
            ],
            [
             0.8888888888888888,
             "#fdca26"
            ],
            [
             1,
             "#f0f921"
            ]
           ],
           "sequentialminus": [
            [
             0,
             "#0d0887"
            ],
            [
             0.1111111111111111,
             "#46039f"
            ],
            [
             0.2222222222222222,
             "#7201a8"
            ],
            [
             0.3333333333333333,
             "#9c179e"
            ],
            [
             0.4444444444444444,
             "#bd3786"
            ],
            [
             0.5555555555555556,
             "#d8576b"
            ],
            [
             0.6666666666666666,
             "#ed7953"
            ],
            [
             0.7777777777777778,
             "#fb9f3a"
            ],
            [
             0.8888888888888888,
             "#fdca26"
            ],
            [
             1,
             "#f0f921"
            ]
           ]
          },
          "colorway": [
           "#636efa",
           "#EF553B",
           "#00cc96",
           "#ab63fa",
           "#FFA15A",
           "#19d3f3",
           "#FF6692",
           "#B6E880",
           "#FF97FF",
           "#FECB52"
          ],
          "font": {
           "color": "#2a3f5f"
          },
          "geo": {
           "bgcolor": "white",
           "lakecolor": "white",
           "landcolor": "#E5ECF6",
           "showlakes": true,
           "showland": true,
           "subunitcolor": "white"
          },
          "hoverlabel": {
           "align": "left"
          },
          "hovermode": "closest",
          "mapbox": {
           "style": "light"
          },
          "paper_bgcolor": "white",
          "plot_bgcolor": "#E5ECF6",
          "polar": {
           "angularaxis": {
            "gridcolor": "white",
            "linecolor": "white",
            "ticks": ""
           },
           "bgcolor": "#E5ECF6",
           "radialaxis": {
            "gridcolor": "white",
            "linecolor": "white",
            "ticks": ""
           }
          },
          "scene": {
           "xaxis": {
            "backgroundcolor": "#E5ECF6",
            "gridcolor": "white",
            "gridwidth": 2,
            "linecolor": "white",
            "showbackground": true,
            "ticks": "",
            "zerolinecolor": "white"
           },
           "yaxis": {
            "backgroundcolor": "#E5ECF6",
            "gridcolor": "white",
            "gridwidth": 2,
            "linecolor": "white",
            "showbackground": true,
            "ticks": "",
            "zerolinecolor": "white"
           },
           "zaxis": {
            "backgroundcolor": "#E5ECF6",
            "gridcolor": "white",
            "gridwidth": 2,
            "linecolor": "white",
            "showbackground": true,
            "ticks": "",
            "zerolinecolor": "white"
           }
          },
          "shapedefaults": {
           "line": {
            "color": "#2a3f5f"
           }
          },
          "ternary": {
           "aaxis": {
            "gridcolor": "white",
            "linecolor": "white",
            "ticks": ""
           },
           "baxis": {
            "gridcolor": "white",
            "linecolor": "white",
            "ticks": ""
           },
           "bgcolor": "#E5ECF6",
           "caxis": {
            "gridcolor": "white",
            "linecolor": "white",
            "ticks": ""
           }
          },
          "title": {
           "x": 0.05
          },
          "xaxis": {
           "automargin": true,
           "gridcolor": "white",
           "linecolor": "white",
           "ticks": "",
           "title": {
            "standoff": 15
           },
           "zerolinecolor": "white",
           "zerolinewidth": 2
          },
          "yaxis": {
           "automargin": true,
           "gridcolor": "white",
           "linecolor": "white",
           "ticks": "",
           "title": {
            "standoff": 15
           },
           "zerolinecolor": "white",
           "zerolinewidth": 2
          }
         }
        },
        "title": {
         "text": "Динамика расходов с течением времени"
        },
        "xaxis": {
         "anchor": "y",
         "domain": [
          0,
          1
         ],
         "title": {
          "text": "date"
         }
        },
        "yaxis": {
         "anchor": "x",
         "domain": [
          0,
          1
         ],
         "title": {
          "text": "outcome"
         }
        }
       }
      }
     },
     "metadata": {},
     "output_type": "display_data"
    }
   ],
   "source": [
    "px.line(data_by_days, x='date', y='outcome',\n",
    "        title='Динамика расходов с течением времени')"
   ]
  },
  {
   "cell_type": "markdown",
   "metadata": {},
   "source": [
    "В среднем, сумма трат довольно стабильная, но есть редкие выбросы, связанные с крупными покупками"
   ]
  },
  {
   "cell_type": "markdown",
   "metadata": {},
   "source": [
    "#### Рассмотрим тренд моих трат"
   ]
  },
  {
   "cell_type": "code",
   "execution_count": 10,
   "metadata": {},
   "outputs": [
    {
     "data": {
      "application/vnd.plotly.v1+json": {
       "config": {
        "plotlyServerURL": "https://plot.ly"
       },
       "data": [
        {
         "hovertemplate": "date=%{x}<br>outcome=%{y}<extra></extra>",
         "legendgroup": "",
         "marker": {
          "color": "#636efa",
          "symbol": "circle"
         },
         "mode": "markers",
         "name": "",
         "orientation": "v",
         "showlegend": false,
         "type": "scatter",
         "x": [
          "2023-03-17T00:00:00",
          "2023-03-18T00:00:00",
          "2023-03-19T00:00:00",
          "2023-03-20T00:00:00",
          "2023-03-21T00:00:00",
          "2023-03-23T00:00:00",
          "2023-03-24T00:00:00",
          "2023-03-25T00:00:00",
          "2023-03-26T00:00:00",
          "2023-03-27T00:00:00",
          "2023-03-28T00:00:00",
          "2023-03-30T00:00:00",
          "2023-03-31T00:00:00",
          "2023-04-05T00:00:00",
          "2023-04-06T00:00:00",
          "2023-04-07T00:00:00",
          "2023-04-08T00:00:00",
          "2023-04-09T00:00:00",
          "2023-04-10T00:00:00",
          "2023-04-11T00:00:00",
          "2023-04-12T00:00:00",
          "2023-04-13T00:00:00",
          "2023-04-14T00:00:00",
          "2023-04-15T00:00:00",
          "2023-04-16T00:00:00",
          "2023-04-17T00:00:00",
          "2023-04-18T00:00:00",
          "2023-04-19T00:00:00",
          "2023-04-20T00:00:00",
          "2023-04-21T00:00:00",
          "2023-04-22T00:00:00",
          "2023-04-23T00:00:00",
          "2023-04-24T00:00:00",
          "2023-04-25T00:00:00",
          "2023-04-26T00:00:00",
          "2023-04-27T00:00:00",
          "2023-04-28T00:00:00",
          "2023-04-29T00:00:00",
          "2023-04-30T00:00:00",
          "2023-05-02T00:00:00",
          "2023-05-03T00:00:00",
          "2023-05-04T00:00:00",
          "2023-05-05T00:00:00",
          "2023-05-06T00:00:00",
          "2023-05-07T00:00:00",
          "2023-05-08T00:00:00",
          "2023-05-10T00:00:00",
          "2023-05-11T00:00:00",
          "2023-05-13T00:00:00",
          "2023-05-14T00:00:00",
          "2023-05-15T00:00:00",
          "2023-05-16T00:00:00",
          "2023-05-17T00:00:00",
          "2023-05-18T00:00:00",
          "2023-05-19T00:00:00",
          "2023-05-20T00:00:00",
          "2023-05-21T00:00:00",
          "2023-05-22T00:00:00",
          "2023-05-23T00:00:00",
          "2023-05-24T00:00:00",
          "2023-05-26T00:00:00",
          "2023-05-27T00:00:00",
          "2023-05-28T00:00:00",
          "2023-05-29T00:00:00",
          "2023-05-30T00:00:00",
          "2023-05-31T00:00:00",
          "2023-06-01T00:00:00",
          "2023-06-02T00:00:00",
          "2023-06-03T00:00:00",
          "2023-06-04T00:00:00",
          "2023-06-05T00:00:00",
          "2023-06-06T00:00:00",
          "2023-06-07T00:00:00",
          "2023-06-08T00:00:00",
          "2023-06-09T00:00:00",
          "2023-06-10T00:00:00",
          "2023-06-11T00:00:00",
          "2023-06-12T00:00:00",
          "2023-06-13T00:00:00",
          "2023-06-14T00:00:00",
          "2023-06-15T00:00:00",
          "2023-06-16T00:00:00",
          "2023-06-17T00:00:00",
          "2023-06-18T00:00:00",
          "2023-06-19T00:00:00",
          "2023-06-20T00:00:00",
          "2023-06-21T00:00:00",
          "2023-06-22T00:00:00",
          "2023-06-23T00:00:00",
          "2023-06-24T00:00:00",
          "2023-06-25T00:00:00",
          "2023-06-26T00:00:00",
          "2023-06-27T00:00:00",
          "2023-06-28T00:00:00",
          "2023-06-29T00:00:00",
          "2023-06-30T00:00:00",
          "2023-07-01T00:00:00",
          "2023-07-02T00:00:00",
          "2023-07-03T00:00:00",
          "2023-07-04T00:00:00",
          "2023-07-05T00:00:00",
          "2023-07-06T00:00:00",
          "2023-07-07T00:00:00",
          "2023-07-08T00:00:00",
          "2023-07-09T00:00:00",
          "2023-07-10T00:00:00",
          "2023-07-11T00:00:00",
          "2023-07-12T00:00:00",
          "2023-07-13T00:00:00",
          "2023-07-14T00:00:00",
          "2023-07-15T00:00:00",
          "2023-07-16T00:00:00",
          "2023-07-18T00:00:00",
          "2023-07-20T00:00:00",
          "2023-07-25T00:00:00",
          "2023-07-26T00:00:00",
          "2023-07-27T00:00:00",
          "2023-07-29T00:00:00",
          "2023-08-03T00:00:00",
          "2023-08-04T00:00:00",
          "2023-08-05T00:00:00",
          "2023-08-06T00:00:00",
          "2023-08-07T00:00:00",
          "2023-08-08T00:00:00",
          "2023-08-09T00:00:00",
          "2023-08-10T00:00:00",
          "2023-08-11T00:00:00",
          "2023-08-12T00:00:00",
          "2023-08-13T00:00:00",
          "2023-08-14T00:00:00",
          "2023-08-15T00:00:00",
          "2023-08-16T00:00:00",
          "2023-08-17T00:00:00",
          "2023-08-18T00:00:00",
          "2023-08-19T00:00:00",
          "2023-08-20T00:00:00",
          "2023-08-21T00:00:00",
          "2023-08-22T00:00:00",
          "2023-08-23T00:00:00",
          "2023-08-24T00:00:00",
          "2023-08-25T00:00:00",
          "2023-08-26T00:00:00",
          "2023-08-27T00:00:00",
          "2023-08-28T00:00:00",
          "2023-08-30T00:00:00",
          "2023-08-31T00:00:00",
          "2023-09-01T00:00:00",
          "2023-09-02T00:00:00",
          "2023-09-03T00:00:00",
          "2023-09-04T00:00:00",
          "2023-09-05T00:00:00",
          "2023-09-06T00:00:00",
          "2023-09-07T00:00:00",
          "2023-09-08T00:00:00",
          "2023-09-09T00:00:00",
          "2023-09-10T00:00:00",
          "2023-09-11T00:00:00",
          "2023-09-13T00:00:00",
          "2023-09-14T00:00:00",
          "2023-09-15T00:00:00",
          "2023-09-16T00:00:00",
          "2023-09-18T00:00:00",
          "2023-09-19T00:00:00",
          "2023-09-20T00:00:00",
          "2023-09-21T00:00:00",
          "2023-09-22T00:00:00",
          "2023-09-23T00:00:00",
          "2023-09-24T00:00:00",
          "2023-09-25T00:00:00",
          "2023-09-26T00:00:00",
          "2023-09-27T00:00:00",
          "2023-09-28T00:00:00",
          "2023-09-29T00:00:00",
          "2023-09-30T00:00:00",
          "2023-10-01T00:00:00",
          "2023-10-02T00:00:00",
          "2023-10-03T00:00:00",
          "2023-10-04T00:00:00",
          "2023-10-05T00:00:00",
          "2023-10-06T00:00:00",
          "2023-10-07T00:00:00",
          "2023-10-08T00:00:00",
          "2023-10-09T00:00:00",
          "2023-10-10T00:00:00",
          "2023-10-11T00:00:00",
          "2023-10-12T00:00:00",
          "2023-10-13T00:00:00",
          "2023-10-14T00:00:00",
          "2023-10-15T00:00:00",
          "2023-10-16T00:00:00",
          "2023-10-17T00:00:00",
          "2023-10-18T00:00:00",
          "2023-10-19T00:00:00",
          "2023-10-20T00:00:00",
          "2023-10-21T00:00:00",
          "2023-10-22T00:00:00",
          "2023-10-24T00:00:00",
          "2023-10-25T00:00:00",
          "2023-10-26T00:00:00",
          "2023-10-27T00:00:00",
          "2023-10-28T00:00:00",
          "2023-10-29T00:00:00",
          "2023-10-30T00:00:00",
          "2023-10-31T00:00:00",
          "2023-11-01T00:00:00",
          "2023-11-02T00:00:00",
          "2023-11-03T00:00:00",
          "2023-11-04T00:00:00",
          "2023-11-05T00:00:00",
          "2023-11-06T00:00:00",
          "2023-11-07T00:00:00",
          "2023-11-08T00:00:00",
          "2023-11-09T00:00:00",
          "2023-11-10T00:00:00",
          "2023-11-11T00:00:00",
          "2023-11-12T00:00:00",
          "2023-11-13T00:00:00",
          "2023-11-14T00:00:00",
          "2023-11-15T00:00:00",
          "2023-11-16T00:00:00",
          "2023-11-17T00:00:00",
          "2023-11-18T00:00:00",
          "2023-11-20T00:00:00",
          "2023-11-22T00:00:00",
          "2023-11-23T00:00:00",
          "2023-11-24T00:00:00",
          "2023-11-25T00:00:00",
          "2023-11-26T00:00:00",
          "2023-11-27T00:00:00",
          "2023-11-28T00:00:00",
          "2023-11-29T00:00:00",
          "2023-11-30T00:00:00",
          "2023-12-01T00:00:00",
          "2023-12-03T00:00:00",
          "2023-12-04T00:00:00",
          "2023-12-05T00:00:00",
          "2023-12-06T00:00:00",
          "2023-12-07T00:00:00",
          "2023-12-08T00:00:00",
          "2023-12-09T00:00:00",
          "2023-12-10T00:00:00",
          "2023-12-11T00:00:00",
          "2023-12-12T00:00:00",
          "2023-12-13T00:00:00",
          "2023-12-14T00:00:00",
          "2023-12-15T00:00:00",
          "2023-12-16T00:00:00",
          "2023-12-17T00:00:00",
          "2023-12-18T00:00:00",
          "2023-12-19T00:00:00",
          "2023-12-20T00:00:00",
          "2023-12-21T00:00:00",
          "2023-12-22T00:00:00",
          "2023-12-23T00:00:00",
          "2023-12-24T00:00:00",
          "2023-12-25T00:00:00",
          "2023-12-26T00:00:00",
          "2023-12-27T00:00:00",
          "2023-12-28T00:00:00",
          "2023-12-29T00:00:00",
          "2023-12-30T00:00:00",
          "2023-12-31T00:00:00",
          "2024-01-01T00:00:00",
          "2024-01-03T00:00:00",
          "2024-01-04T00:00:00",
          "2024-01-05T00:00:00",
          "2024-01-06T00:00:00",
          "2024-01-07T00:00:00",
          "2024-01-08T00:00:00",
          "2024-01-09T00:00:00",
          "2024-01-10T00:00:00",
          "2024-01-11T00:00:00",
          "2024-01-12T00:00:00",
          "2024-01-13T00:00:00",
          "2024-01-14T00:00:00",
          "2024-01-15T00:00:00",
          "2024-01-16T00:00:00",
          "2024-01-17T00:00:00",
          "2024-01-18T00:00:00",
          "2024-01-19T00:00:00",
          "2024-01-20T00:00:00",
          "2024-01-21T00:00:00",
          "2024-01-22T00:00:00",
          "2024-01-23T00:00:00",
          "2024-01-24T00:00:00",
          "2024-01-25T00:00:00",
          "2024-01-26T00:00:00",
          "2024-01-27T00:00:00",
          "2024-01-28T00:00:00",
          "2024-01-29T00:00:00",
          "2024-01-30T00:00:00",
          "2024-01-31T00:00:00",
          "2024-02-01T00:00:00",
          "2024-02-02T00:00:00",
          "2024-02-04T00:00:00",
          "2024-02-05T00:00:00",
          "2024-02-06T00:00:00",
          "2024-02-07T00:00:00",
          "2024-02-08T00:00:00",
          "2024-02-09T00:00:00",
          "2024-02-10T00:00:00",
          "2024-02-11T00:00:00",
          "2024-02-12T00:00:00",
          "2024-02-13T00:00:00",
          "2024-02-14T00:00:00",
          "2024-02-15T00:00:00",
          "2024-02-16T00:00:00",
          "2024-02-17T00:00:00",
          "2024-02-18T00:00:00",
          "2024-02-19T00:00:00",
          "2024-02-20T00:00:00",
          "2024-02-21T00:00:00",
          "2024-02-22T00:00:00",
          "2024-02-23T00:00:00",
          "2024-02-24T00:00:00",
          "2024-02-25T00:00:00",
          "2024-02-26T00:00:00",
          "2024-02-27T00:00:00",
          "2024-02-28T00:00:00",
          "2024-02-29T00:00:00",
          "2024-03-01T00:00:00",
          "2024-03-02T00:00:00",
          "2024-03-03T00:00:00",
          "2024-03-04T00:00:00",
          "2024-03-05T00:00:00",
          "2024-03-06T00:00:00",
          "2024-03-07T00:00:00",
          "2024-03-08T00:00:00",
          "2024-03-09T00:00:00",
          "2024-03-10T00:00:00",
          "2024-03-11T00:00:00",
          "2024-03-12T00:00:00",
          "2024-03-13T00:00:00",
          "2024-03-14T00:00:00",
          "2024-03-15T00:00:00",
          "2024-03-16T00:00:00",
          "2024-03-17T00:00:00",
          "2024-03-18T00:00:00",
          "2024-03-19T00:00:00",
          "2024-03-20T00:00:00",
          "2024-03-21T00:00:00"
         ],
         "xaxis": "x",
         "y": [
          237.6,
          381,
          665,
          100,
          248,
          299,
          737.99,
          198,
          328,
          200,
          2344.58,
          218.75,
          333,
          574.45,
          419.4,
          495,
          863.45,
          403.07,
          710.07,
          614.75,
          831,
          1520.51,
          469,
          579,
          3366.13,
          1001.64,
          244.98000000000002,
          912,
          1491.04,
          160,
          1693.38,
          758,
          418.09000000000003,
          363.16999999999996,
          600.19,
          413.57,
          836.4100000000001,
          1838,
          4459.89,
          334.99,
          100,
          880.34,
          830,
          1194.98,
          404,
          79.99,
          1379,
          418,
          200,
          604,
          729.98,
          6703.39,
          154.97,
          589,
          898.48,
          213.76,
          2327.99,
          1260.35,
          105,
          302.37,
          680.95,
          976,
          1521.27,
          215,
          1921,
          1385.99,
          2272,
          366.83000000000004,
          1036.18,
          218.37,
          1192.1399999999999,
          1933.95,
          1147,
          900.6800000000001,
          862.96,
          1413.53,
          764.97,
          2137.9300000000003,
          1044,
          1019.33,
          823,
          1893.27,
          1325.18,
          2277.14,
          2124,
          2067.41,
          1144.15,
          987.9200000000001,
          929.83,
          834.99,
          1507.87,
          1000,
          940.38,
          1135.99,
          1339.58,
          2189.82,
          1559,
          2973.59,
          1376.9,
          5034,
          2146.98,
          1389.99,
          578.99,
          201.97,
          687.49,
          524,
          1098.99,
          526.98,
          3166.98,
          890.99,
          228,
          511.89,
          821,
          1406.06,
          321.96999999999997,
          498,
          1005.98,
          1613,
          797.95,
          1500,
          1320.25,
          370,
          1329.96,
          358.78,
          3283.78,
          4886.82,
          4103.95,
          3472.9,
          2589.98,
          4866.96,
          13650.15,
          4637.49,
          6287.99,
          1903,
          8580.92,
          2579.65,
          1285.4,
          1319,
          1214,
          2343.08,
          463.4,
          1181.16,
          1009,
          3123.4,
          660.1700000000001,
          536,
          2163.34,
          1054,
          969.99,
          380.47,
          1299.5,
          2013.99,
          2247.4,
          1879.05,
          1001.98,
          395,
          2051.91,
          461.86,
          1455.99,
          333,
          1726.93,
          8044.34,
          1601,
          340,
          1013.98,
          986.76,
          1468.4,
          2532.95,
          5005.37,
          32.4,
          873.94,
          711.4,
          913.4,
          567.38,
          4073.44,
          795,
          630,
          776.5,
          403.8,
          2368.2799999999997,
          1594.29,
          827.09,
          2108,
          532.95,
          1338.37,
          592.8,
          740.26,
          2009.4,
          781.18,
          436.77,
          255,
          778.97,
          1142.92,
          430.14,
          500,
          504.15999999999997,
          541.29,
          817.59,
          2316.5099999999998,
          147,
          535,
          808,
          659.4,
          772.8199999999999,
          1420.11,
          662.96,
          2115.96,
          456,
          524,
          1548.55,
          614.24,
          5244.4,
          2727.3900000000003,
          1742,
          129,
          3671.39,
          2709.4,
          795.4,
          1543.01,
          447.4,
          1209,
          6502,
          256.97,
          659,
          2037.93,
          200,
          822.35,
          340,
          3830.3,
          102.4,
          1554.8,
          1446.58,
          1506.44,
          966,
          362,
          1301.74,
          1091,
          318.33,
          1144.07,
          575.97,
          363.7,
          3524.9,
          2989.99,
          5002.07,
          1332.78,
          1845.4,
          542.58,
          2118,
          7540.5,
          1731,
          7237,
          961.96,
          870.4300000000001,
          7085,
          1263,
          2077.4,
          1665.92,
          824.92,
          1582.99,
          1728,
          8333.380000000001,
          935,
          30,
          648.94,
          2456,
          1302.92,
          2148.7200000000003,
          1038,
          1781.8400000000001,
          917,
          1532,
          866.26,
          2600,
          1386.4,
          3655.27,
          1046,
          831.5799999999999,
          1098,
          1357.95,
          1249.95,
          693.47,
          948,
          790.97,
          1540.96,
          889,
          756,
          1266.35,
          2972.84,
          997.4200000000001,
          137,
          869.5,
          399.97,
          933.4100000000001,
          1937.83,
          220,
          4713.87,
          1153,
          3795.95,
          387.4,
          707.33,
          1946.0800000000002,
          5572.35,
          1675,
          1379,
          1198.79,
          394.4,
          729.98,
          1809.96,
          198,
          256.27,
          1851.32,
          2762.3,
          2081.4700000000003,
          766.07,
          4016,
          2634.38,
          3543.62,
          1299,
          230,
          2414,
          849.55,
          927.51,
          1813.01,
          1260,
          15201.64,
          2185,
          918.46,
          1392.1,
          851.76,
          606,
          480,
          374.3,
          1282.46,
          1286,
          915.97,
          1028.4,
          888.43,
          3856.26,
          1601.4,
          22039,
          460
         ],
         "yaxis": "y"
        },
        {
         "hovertemplate": "<b>OLS trendline</b><br>outcome = 3.88529e-05 * date + -64280.7<br>R<sup>2</sup>=0.030385<br><br>date=%{x}<br>outcome=%{y} <b>(trend)</b><extra></extra>",
         "legendgroup": "",
         "marker": {
          "color": "#636efa",
          "symbol": "circle"
         },
         "mode": "lines",
         "name": "",
         "showlegend": false,
         "type": "scatter",
         "x": [
          "2023-03-17T00:00:00",
          "2023-03-18T00:00:00",
          "2023-03-19T00:00:00",
          "2023-03-20T00:00:00",
          "2023-03-21T00:00:00",
          "2023-03-23T00:00:00",
          "2023-03-24T00:00:00",
          "2023-03-25T00:00:00",
          "2023-03-26T00:00:00",
          "2023-03-27T00:00:00",
          "2023-03-28T00:00:00",
          "2023-03-30T00:00:00",
          "2023-03-31T00:00:00",
          "2023-04-05T00:00:00",
          "2023-04-06T00:00:00",
          "2023-04-07T00:00:00",
          "2023-04-08T00:00:00",
          "2023-04-09T00:00:00",
          "2023-04-10T00:00:00",
          "2023-04-11T00:00:00",
          "2023-04-12T00:00:00",
          "2023-04-13T00:00:00",
          "2023-04-14T00:00:00",
          "2023-04-15T00:00:00",
          "2023-04-16T00:00:00",
          "2023-04-17T00:00:00",
          "2023-04-18T00:00:00",
          "2023-04-19T00:00:00",
          "2023-04-20T00:00:00",
          "2023-04-21T00:00:00",
          "2023-04-22T00:00:00",
          "2023-04-23T00:00:00",
          "2023-04-24T00:00:00",
          "2023-04-25T00:00:00",
          "2023-04-26T00:00:00",
          "2023-04-27T00:00:00",
          "2023-04-28T00:00:00",
          "2023-04-29T00:00:00",
          "2023-04-30T00:00:00",
          "2023-05-02T00:00:00",
          "2023-05-03T00:00:00",
          "2023-05-04T00:00:00",
          "2023-05-05T00:00:00",
          "2023-05-06T00:00:00",
          "2023-05-07T00:00:00",
          "2023-05-08T00:00:00",
          "2023-05-10T00:00:00",
          "2023-05-11T00:00:00",
          "2023-05-13T00:00:00",
          "2023-05-14T00:00:00",
          "2023-05-15T00:00:00",
          "2023-05-16T00:00:00",
          "2023-05-17T00:00:00",
          "2023-05-18T00:00:00",
          "2023-05-19T00:00:00",
          "2023-05-20T00:00:00",
          "2023-05-21T00:00:00",
          "2023-05-22T00:00:00",
          "2023-05-23T00:00:00",
          "2023-05-24T00:00:00",
          "2023-05-26T00:00:00",
          "2023-05-27T00:00:00",
          "2023-05-28T00:00:00",
          "2023-05-29T00:00:00",
          "2023-05-30T00:00:00",
          "2023-05-31T00:00:00",
          "2023-06-01T00:00:00",
          "2023-06-02T00:00:00",
          "2023-06-03T00:00:00",
          "2023-06-04T00:00:00",
          "2023-06-05T00:00:00",
          "2023-06-06T00:00:00",
          "2023-06-07T00:00:00",
          "2023-06-08T00:00:00",
          "2023-06-09T00:00:00",
          "2023-06-10T00:00:00",
          "2023-06-11T00:00:00",
          "2023-06-12T00:00:00",
          "2023-06-13T00:00:00",
          "2023-06-14T00:00:00",
          "2023-06-15T00:00:00",
          "2023-06-16T00:00:00",
          "2023-06-17T00:00:00",
          "2023-06-18T00:00:00",
          "2023-06-19T00:00:00",
          "2023-06-20T00:00:00",
          "2023-06-21T00:00:00",
          "2023-06-22T00:00:00",
          "2023-06-23T00:00:00",
          "2023-06-24T00:00:00",
          "2023-06-25T00:00:00",
          "2023-06-26T00:00:00",
          "2023-06-27T00:00:00",
          "2023-06-28T00:00:00",
          "2023-06-29T00:00:00",
          "2023-06-30T00:00:00",
          "2023-07-01T00:00:00",
          "2023-07-02T00:00:00",
          "2023-07-03T00:00:00",
          "2023-07-04T00:00:00",
          "2023-07-05T00:00:00",
          "2023-07-06T00:00:00",
          "2023-07-07T00:00:00",
          "2023-07-08T00:00:00",
          "2023-07-09T00:00:00",
          "2023-07-10T00:00:00",
          "2023-07-11T00:00:00",
          "2023-07-12T00:00:00",
          "2023-07-13T00:00:00",
          "2023-07-14T00:00:00",
          "2023-07-15T00:00:00",
          "2023-07-16T00:00:00",
          "2023-07-18T00:00:00",
          "2023-07-20T00:00:00",
          "2023-07-25T00:00:00",
          "2023-07-26T00:00:00",
          "2023-07-27T00:00:00",
          "2023-07-29T00:00:00",
          "2023-08-03T00:00:00",
          "2023-08-04T00:00:00",
          "2023-08-05T00:00:00",
          "2023-08-06T00:00:00",
          "2023-08-07T00:00:00",
          "2023-08-08T00:00:00",
          "2023-08-09T00:00:00",
          "2023-08-10T00:00:00",
          "2023-08-11T00:00:00",
          "2023-08-12T00:00:00",
          "2023-08-13T00:00:00",
          "2023-08-14T00:00:00",
          "2023-08-15T00:00:00",
          "2023-08-16T00:00:00",
          "2023-08-17T00:00:00",
          "2023-08-18T00:00:00",
          "2023-08-19T00:00:00",
          "2023-08-20T00:00:00",
          "2023-08-21T00:00:00",
          "2023-08-22T00:00:00",
          "2023-08-23T00:00:00",
          "2023-08-24T00:00:00",
          "2023-08-25T00:00:00",
          "2023-08-26T00:00:00",
          "2023-08-27T00:00:00",
          "2023-08-28T00:00:00",
          "2023-08-30T00:00:00",
          "2023-08-31T00:00:00",
          "2023-09-01T00:00:00",
          "2023-09-02T00:00:00",
          "2023-09-03T00:00:00",
          "2023-09-04T00:00:00",
          "2023-09-05T00:00:00",
          "2023-09-06T00:00:00",
          "2023-09-07T00:00:00",
          "2023-09-08T00:00:00",
          "2023-09-09T00:00:00",
          "2023-09-10T00:00:00",
          "2023-09-11T00:00:00",
          "2023-09-13T00:00:00",
          "2023-09-14T00:00:00",
          "2023-09-15T00:00:00",
          "2023-09-16T00:00:00",
          "2023-09-18T00:00:00",
          "2023-09-19T00:00:00",
          "2023-09-20T00:00:00",
          "2023-09-21T00:00:00",
          "2023-09-22T00:00:00",
          "2023-09-23T00:00:00",
          "2023-09-24T00:00:00",
          "2023-09-25T00:00:00",
          "2023-09-26T00:00:00",
          "2023-09-27T00:00:00",
          "2023-09-28T00:00:00",
          "2023-09-29T00:00:00",
          "2023-09-30T00:00:00",
          "2023-10-01T00:00:00",
          "2023-10-02T00:00:00",
          "2023-10-03T00:00:00",
          "2023-10-04T00:00:00",
          "2023-10-05T00:00:00",
          "2023-10-06T00:00:00",
          "2023-10-07T00:00:00",
          "2023-10-08T00:00:00",
          "2023-10-09T00:00:00",
          "2023-10-10T00:00:00",
          "2023-10-11T00:00:00",
          "2023-10-12T00:00:00",
          "2023-10-13T00:00:00",
          "2023-10-14T00:00:00",
          "2023-10-15T00:00:00",
          "2023-10-16T00:00:00",
          "2023-10-17T00:00:00",
          "2023-10-18T00:00:00",
          "2023-10-19T00:00:00",
          "2023-10-20T00:00:00",
          "2023-10-21T00:00:00",
          "2023-10-22T00:00:00",
          "2023-10-24T00:00:00",
          "2023-10-25T00:00:00",
          "2023-10-26T00:00:00",
          "2023-10-27T00:00:00",
          "2023-10-28T00:00:00",
          "2023-10-29T00:00:00",
          "2023-10-30T00:00:00",
          "2023-10-31T00:00:00",
          "2023-11-01T00:00:00",
          "2023-11-02T00:00:00",
          "2023-11-03T00:00:00",
          "2023-11-04T00:00:00",
          "2023-11-05T00:00:00",
          "2023-11-06T00:00:00",
          "2023-11-07T00:00:00",
          "2023-11-08T00:00:00",
          "2023-11-09T00:00:00",
          "2023-11-10T00:00:00",
          "2023-11-11T00:00:00",
          "2023-11-12T00:00:00",
          "2023-11-13T00:00:00",
          "2023-11-14T00:00:00",
          "2023-11-15T00:00:00",
          "2023-11-16T00:00:00",
          "2023-11-17T00:00:00",
          "2023-11-18T00:00:00",
          "2023-11-20T00:00:00",
          "2023-11-22T00:00:00",
          "2023-11-23T00:00:00",
          "2023-11-24T00:00:00",
          "2023-11-25T00:00:00",
          "2023-11-26T00:00:00",
          "2023-11-27T00:00:00",
          "2023-11-28T00:00:00",
          "2023-11-29T00:00:00",
          "2023-11-30T00:00:00",
          "2023-12-01T00:00:00",
          "2023-12-03T00:00:00",
          "2023-12-04T00:00:00",
          "2023-12-05T00:00:00",
          "2023-12-06T00:00:00",
          "2023-12-07T00:00:00",
          "2023-12-08T00:00:00",
          "2023-12-09T00:00:00",
          "2023-12-10T00:00:00",
          "2023-12-11T00:00:00",
          "2023-12-12T00:00:00",
          "2023-12-13T00:00:00",
          "2023-12-14T00:00:00",
          "2023-12-15T00:00:00",
          "2023-12-16T00:00:00",
          "2023-12-17T00:00:00",
          "2023-12-18T00:00:00",
          "2023-12-19T00:00:00",
          "2023-12-20T00:00:00",
          "2023-12-21T00:00:00",
          "2023-12-22T00:00:00",
          "2023-12-23T00:00:00",
          "2023-12-24T00:00:00",
          "2023-12-25T00:00:00",
          "2023-12-26T00:00:00",
          "2023-12-27T00:00:00",
          "2023-12-28T00:00:00",
          "2023-12-29T00:00:00",
          "2023-12-30T00:00:00",
          "2023-12-31T00:00:00",
          "2024-01-01T00:00:00",
          "2024-01-03T00:00:00",
          "2024-01-04T00:00:00",
          "2024-01-05T00:00:00",
          "2024-01-06T00:00:00",
          "2024-01-07T00:00:00",
          "2024-01-08T00:00:00",
          "2024-01-09T00:00:00",
          "2024-01-10T00:00:00",
          "2024-01-11T00:00:00",
          "2024-01-12T00:00:00",
          "2024-01-13T00:00:00",
          "2024-01-14T00:00:00",
          "2024-01-15T00:00:00",
          "2024-01-16T00:00:00",
          "2024-01-17T00:00:00",
          "2024-01-18T00:00:00",
          "2024-01-19T00:00:00",
          "2024-01-20T00:00:00",
          "2024-01-21T00:00:00",
          "2024-01-22T00:00:00",
          "2024-01-23T00:00:00",
          "2024-01-24T00:00:00",
          "2024-01-25T00:00:00",
          "2024-01-26T00:00:00",
          "2024-01-27T00:00:00",
          "2024-01-28T00:00:00",
          "2024-01-29T00:00:00",
          "2024-01-30T00:00:00",
          "2024-01-31T00:00:00",
          "2024-02-01T00:00:00",
          "2024-02-02T00:00:00",
          "2024-02-04T00:00:00",
          "2024-02-05T00:00:00",
          "2024-02-06T00:00:00",
          "2024-02-07T00:00:00",
          "2024-02-08T00:00:00",
          "2024-02-09T00:00:00",
          "2024-02-10T00:00:00",
          "2024-02-11T00:00:00",
          "2024-02-12T00:00:00",
          "2024-02-13T00:00:00",
          "2024-02-14T00:00:00",
          "2024-02-15T00:00:00",
          "2024-02-16T00:00:00",
          "2024-02-17T00:00:00",
          "2024-02-18T00:00:00",
          "2024-02-19T00:00:00",
          "2024-02-20T00:00:00",
          "2024-02-21T00:00:00",
          "2024-02-22T00:00:00",
          "2024-02-23T00:00:00",
          "2024-02-24T00:00:00",
          "2024-02-25T00:00:00",
          "2024-02-26T00:00:00",
          "2024-02-27T00:00:00",
          "2024-02-28T00:00:00",
          "2024-02-29T00:00:00",
          "2024-03-01T00:00:00",
          "2024-03-02T00:00:00",
          "2024-03-03T00:00:00",
          "2024-03-04T00:00:00",
          "2024-03-05T00:00:00",
          "2024-03-06T00:00:00",
          "2024-03-07T00:00:00",
          "2024-03-08T00:00:00",
          "2024-03-09T00:00:00",
          "2024-03-10T00:00:00",
          "2024-03-11T00:00:00",
          "2024-03-12T00:00:00",
          "2024-03-13T00:00:00",
          "2024-03-14T00:00:00",
          "2024-03-15T00:00:00",
          "2024-03-16T00:00:00",
          "2024-03-17T00:00:00",
          "2024-03-18T00:00:00",
          "2024-03-19T00:00:00",
          "2024-03-20T00:00:00",
          "2024-03-21T00:00:00"
         ],
         "xaxis": "x",
         "y": [
          953.8094523280597,
          957.1663466524406,
          960.5232409768214,
          963.8801353012022,
          967.2370296255831,
          973.9508182743448,
          977.3077125987256,
          980.6646069231065,
          984.0215012474873,
          987.3783955718682,
          990.735289896249,
          997.4490785450107,
          1000.8059728693916,
          1017.5904444913031,
          1020.9473388156839,
          1024.3042331400648,
          1027.6611274644456,
          1031.0180217888264,
          1034.3749161132073,
          1037.7318104375881,
          1041.088704761969,
          1044.4455990863498,
          1047.8024934107307,
          1051.1593877351115,
          1054.5162820594924,
          1057.8731763838732,
          1061.230070708254,
          1064.586965032635,
          1067.943859357023,
          1071.3007536814039,
          1074.6576480057847,
          1078.0145423301656,
          1081.3714366545464,
          1084.7283309789273,
          1088.085225303308,
          1091.442119627689,
          1094.7990139520698,
          1098.1559082764506,
          1101.5128026008315,
          1108.2265912495932,
          1111.583485573974,
          1114.9403798983549,
          1118.2972742227357,
          1121.6541685471166,
          1125.0110628715047,
          1128.3679571958855,
          1135.0817458446472,
          1138.438640169028,
          1145.1524288177898,
          1148.5093231421706,
          1151.8662174665515,
          1155.2231117909323,
          1158.5800061153132,
          1161.936900439694,
          1165.2937947640748,
          1168.6506890884557,
          1172.0075834128365,
          1175.3644777372174,
          1178.7213720615982,
          1182.0782663859864,
          1188.792055034748,
          1192.148949359129,
          1195.5058436835097,
          1198.8627380078906,
          1202.2196323322714,
          1205.5765266566523,
          1208.9334209810331,
          1212.290315305414,
          1215.6472096297948,
          1219.0041039541757,
          1222.3609982785565,
          1225.7178926029374,
          1229.0747869273182,
          1232.431681251699,
          1235.78857557608,
          1239.145469900468,
          1242.5023642248489,
          1245.8592585492297,
          1249.2161528736106,
          1252.5730471979914,
          1255.9299415223722,
          1259.2868358467458,
          1262.643730171134,
          1266.0006244955075,
          1269.3575188198956,
          1272.7144131442838,
          1276.0713074686573,
          1279.4282017930454,
          1282.785096117419,
          1286.1419904418071,
          1289.4988847661807,
          1292.8557790905688,
          1296.2126734149424,
          1299.5695677393305,
          1302.926462063704,
          1306.2833563880922,
          1309.6402507124658,
          1312.997145036854,
          1316.3540393612275,
          1319.7109336856156,
          1323.0678280099892,
          1326.4247223343773,
          1329.7816166587654,
          1333.138510983139,
          1336.495405307527,
          1339.8522996319007,
          1343.2091939562888,
          1346.5660882806624,
          1349.9229826050505,
          1353.279876929424,
          1356.6367712538122,
          1359.9936655781858,
          1366.7074542269474,
          1373.4212428757091,
          1390.2057144976206,
          1393.5626088220088,
          1396.9195031463823,
          1403.633291795144,
          1420.4177634170555,
          1423.774657741429,
          1427.1315520658172,
          1430.4884463901908,
          1433.845340714579,
          1437.2022350389525,
          1440.5591293633406,
          1443.9160236877287,
          1447.2729180121023,
          1450.6298123364904,
          1453.986706660864,
          1457.3436009852521,
          1460.7004953096257,
          1464.0573896340138,
          1467.4142839583874,
          1470.7711782827755,
          1474.128072607149,
          1477.4849669315372,
          1480.8418612559108,
          1484.198755580299,
          1487.5556499046725,
          1490.9125442290606,
          1494.2694385534342,
          1497.6263328778223,
          1500.9832272022104,
          1504.340121526584,
          1511.0539101753457,
          1514.4108044997338,
          1517.7676988241074,
          1521.1245931484955,
          1524.481487472869,
          1527.8383817972572,
          1531.1952761216307,
          1534.5521704460189,
          1537.9090647703924,
          1541.2659590947806,
          1544.6228534191541,
          1547.9797477435422,
          1551.3366420679158,
          1558.050430716692,
          1561.4073250410656,
          1564.7642193654538,
          1568.1211136898273,
          1574.834902338589,
          1578.1917966629771,
          1581.5486909873507,
          1584.9055853117388,
          1588.2624796361124,
          1591.6193739605005,
          1594.976268284874,
          1598.3331626092622,
          1601.6900569336358,
          1605.046951258024,
          1608.4038455823975,
          1611.7607399067856,
          1615.1176342311737,
          1618.4745285555473,
          1621.8314228799354,
          1625.188317204309,
          1628.545211528697,
          1631.9021058530707,
          1635.2590001774588,
          1638.6158945018324,
          1641.9727888262205,
          1645.329683150594,
          1648.6865774749822,
          1652.0434717993558,
          1655.4003661237439,
          1658.7572604481174,
          1662.1141547725056,
          1665.4710490968791,
          1668.8279434212673,
          1672.1848377456554,
          1675.541732070029,
          1678.898626394417,
          1682.2555207187906,
          1685.6124150431788,
          1688.9693093675523,
          1695.683098016314,
          1699.0399923407022,
          1702.3968866650757,
          1705.7537809894638,
          1709.1106753138374,
          1712.4675696382255,
          1715.824463962599,
          1719.1813582869872,
          1722.5382526113608,
          1725.895146935749,
          1729.252041260137,
          1732.6089355845106,
          1735.9658299088987,
          1739.3227242332723,
          1742.6796185576604,
          1746.036512882034,
          1749.3934072064221,
          1752.7503015307957,
          1756.1071958551838,
          1759.4640901795574,
          1762.8209845039455,
          1766.177878828319,
          1769.5347731527072,
          1772.8916674770808,
          1776.248561801469,
          1779.6054561258425,
          1786.3192447746187,
          1793.0330334233804,
          1796.389927747754,
          1799.746822072142,
          1803.1037163965157,
          1806.4606107209038,
          1809.8175050452774,
          1813.1743993696655,
          1816.531293694039,
          1819.8881880184272,
          1823.2450823428007,
          1829.9588709915624,
          1833.3157653159506,
          1836.6726596403241,
          1840.0295539647122,
          1843.3864482891004,
          1846.743342613474,
          1850.100236937862,
          1853.4571312622356,
          1856.8140255866238,
          1860.1709199109973,
          1863.5278142353854,
          1866.884708559759,
          1870.2416028841471,
          1873.5984972085207,
          1876.9553915329088,
          1880.3122858572824,
          1883.6691801816705,
          1887.026074506044,
          1890.3829688304322,
          1893.7398631548058,
          1897.096757479194,
          1900.453651803582,
          1903.8105461279556,
          1907.1674404523437,
          1910.5243347767173,
          1913.8812291011054,
          1917.238123425479,
          1920.595017749867,
          1923.9519120742407,
          1927.3088063986288,
          1934.0225950473905,
          1937.379489371764,
          1940.7363836961522,
          1944.0932780205258,
          1947.4501723449139,
          1950.8070666692875,
          1954.1639609936756,
          1957.5208553180637,
          1960.8777496424373,
          1964.2346439668254,
          1967.591538291199,
          1970.948432615587,
          1974.3053269399607,
          1977.6622212643488,
          1981.0191155887223,
          1984.3760099131105,
          1987.732904237484,
          1991.0897985618722,
          1994.4466928862457,
          1997.8035872106339,
          2001.1604815350074,
          2004.5173758593955,
          2007.874270183769,
          2011.2311645081572,
          2014.5880588325454,
          2017.944953156919,
          2021.301847481307,
          2024.6587418056806,
          2028.0156361300687,
          2031.3725304544423,
          2034.7294247788304,
          2041.4432134275921,
          2044.8001077519657,
          2048.157002076354,
          2051.5138964007274,
          2054.8707907251155,
          2058.227685049489,
          2061.584579373877,
          2064.941473698251,
          2068.298368022639,
          2071.655262347027,
          2075.0121566714006,
          2078.3690509957887,
          2081.7259453201623,
          2085.0828396445504,
          2088.439733968924,
          2091.796628293312,
          2095.1535226176857,
          2098.510416942074,
          2101.8673112664474,
          2105.2242055908355,
          2108.581099915209,
          2111.937994239597,
          2115.2948885639707,
          2118.651782888359,
          2122.0086772127324,
          2125.3655715371206,
          2128.7224658615087,
          2132.0793601858823,
          2135.4362545102704,
          2138.793148834644,
          2142.150043159032,
          2145.5069374834056,
          2148.8638318077938,
          2152.2207261321673,
          2155.5776204565555,
          2158.934514780929,
          2162.291409105317,
          2165.6483034296907,
          2169.005197754079,
          2172.3620920784524,
          2175.7189864028405,
          2179.075880727214,
          2182.432775051602,
          2185.7896693759903,
          2189.146563700364,
          2192.503458024752,
          2195.8603523491256
         ],
         "yaxis": "y"
        },
        {
         "mode": "lines",
         "name": "Скользящее среднее",
         "type": "scatter",
         "x": [
          "2023-03-17T00:00:00",
          "2023-03-18T00:00:00",
          "2023-03-19T00:00:00",
          "2023-03-20T00:00:00",
          "2023-03-21T00:00:00",
          "2023-03-23T00:00:00",
          "2023-03-24T00:00:00",
          "2023-03-25T00:00:00",
          "2023-03-26T00:00:00",
          "2023-03-27T00:00:00",
          "2023-03-28T00:00:00",
          "2023-03-30T00:00:00",
          "2023-03-31T00:00:00",
          "2023-04-05T00:00:00",
          "2023-04-06T00:00:00",
          "2023-04-07T00:00:00",
          "2023-04-08T00:00:00",
          "2023-04-09T00:00:00",
          "2023-04-10T00:00:00",
          "2023-04-11T00:00:00",
          "2023-04-12T00:00:00",
          "2023-04-13T00:00:00",
          "2023-04-14T00:00:00",
          "2023-04-15T00:00:00",
          "2023-04-16T00:00:00",
          "2023-04-17T00:00:00",
          "2023-04-18T00:00:00",
          "2023-04-19T00:00:00",
          "2023-04-20T00:00:00",
          "2023-04-21T00:00:00",
          "2023-04-22T00:00:00",
          "2023-04-23T00:00:00",
          "2023-04-24T00:00:00",
          "2023-04-25T00:00:00",
          "2023-04-26T00:00:00",
          "2023-04-27T00:00:00",
          "2023-04-28T00:00:00",
          "2023-04-29T00:00:00",
          "2023-04-30T00:00:00",
          "2023-05-02T00:00:00",
          "2023-05-03T00:00:00",
          "2023-05-04T00:00:00",
          "2023-05-05T00:00:00",
          "2023-05-06T00:00:00",
          "2023-05-07T00:00:00",
          "2023-05-08T00:00:00",
          "2023-05-10T00:00:00",
          "2023-05-11T00:00:00",
          "2023-05-13T00:00:00",
          "2023-05-14T00:00:00",
          "2023-05-15T00:00:00",
          "2023-05-16T00:00:00",
          "2023-05-17T00:00:00",
          "2023-05-18T00:00:00",
          "2023-05-19T00:00:00",
          "2023-05-20T00:00:00",
          "2023-05-21T00:00:00",
          "2023-05-22T00:00:00",
          "2023-05-23T00:00:00",
          "2023-05-24T00:00:00",
          "2023-05-26T00:00:00",
          "2023-05-27T00:00:00",
          "2023-05-28T00:00:00",
          "2023-05-29T00:00:00",
          "2023-05-30T00:00:00",
          "2023-05-31T00:00:00",
          "2023-06-01T00:00:00",
          "2023-06-02T00:00:00",
          "2023-06-03T00:00:00",
          "2023-06-04T00:00:00",
          "2023-06-05T00:00:00",
          "2023-06-06T00:00:00",
          "2023-06-07T00:00:00",
          "2023-06-08T00:00:00",
          "2023-06-09T00:00:00",
          "2023-06-10T00:00:00",
          "2023-06-11T00:00:00",
          "2023-06-12T00:00:00",
          "2023-06-13T00:00:00",
          "2023-06-14T00:00:00",
          "2023-06-15T00:00:00",
          "2023-06-16T00:00:00",
          "2023-06-17T00:00:00",
          "2023-06-18T00:00:00",
          "2023-06-19T00:00:00",
          "2023-06-20T00:00:00",
          "2023-06-21T00:00:00",
          "2023-06-22T00:00:00",
          "2023-06-23T00:00:00",
          "2023-06-24T00:00:00",
          "2023-06-25T00:00:00",
          "2023-06-26T00:00:00",
          "2023-06-27T00:00:00",
          "2023-06-28T00:00:00",
          "2023-06-29T00:00:00",
          "2023-06-30T00:00:00",
          "2023-07-01T00:00:00",
          "2023-07-02T00:00:00",
          "2023-07-03T00:00:00",
          "2023-07-04T00:00:00",
          "2023-07-05T00:00:00",
          "2023-07-06T00:00:00",
          "2023-07-07T00:00:00",
          "2023-07-08T00:00:00",
          "2023-07-09T00:00:00",
          "2023-07-10T00:00:00",
          "2023-07-11T00:00:00",
          "2023-07-12T00:00:00",
          "2023-07-13T00:00:00",
          "2023-07-14T00:00:00",
          "2023-07-15T00:00:00",
          "2023-07-16T00:00:00",
          "2023-07-18T00:00:00",
          "2023-07-20T00:00:00",
          "2023-07-25T00:00:00",
          "2023-07-26T00:00:00",
          "2023-07-27T00:00:00",
          "2023-07-29T00:00:00",
          "2023-08-03T00:00:00",
          "2023-08-04T00:00:00",
          "2023-08-05T00:00:00",
          "2023-08-06T00:00:00",
          "2023-08-07T00:00:00",
          "2023-08-08T00:00:00",
          "2023-08-09T00:00:00",
          "2023-08-10T00:00:00",
          "2023-08-11T00:00:00",
          "2023-08-12T00:00:00",
          "2023-08-13T00:00:00",
          "2023-08-14T00:00:00",
          "2023-08-15T00:00:00",
          "2023-08-16T00:00:00",
          "2023-08-17T00:00:00",
          "2023-08-18T00:00:00",
          "2023-08-19T00:00:00",
          "2023-08-20T00:00:00",
          "2023-08-21T00:00:00",
          "2023-08-22T00:00:00",
          "2023-08-23T00:00:00",
          "2023-08-24T00:00:00",
          "2023-08-25T00:00:00",
          "2023-08-26T00:00:00",
          "2023-08-27T00:00:00",
          "2023-08-28T00:00:00",
          "2023-08-30T00:00:00",
          "2023-08-31T00:00:00",
          "2023-09-01T00:00:00",
          "2023-09-02T00:00:00",
          "2023-09-03T00:00:00",
          "2023-09-04T00:00:00",
          "2023-09-05T00:00:00",
          "2023-09-06T00:00:00",
          "2023-09-07T00:00:00",
          "2023-09-08T00:00:00",
          "2023-09-09T00:00:00",
          "2023-09-10T00:00:00",
          "2023-09-11T00:00:00",
          "2023-09-13T00:00:00",
          "2023-09-14T00:00:00",
          "2023-09-15T00:00:00",
          "2023-09-16T00:00:00",
          "2023-09-18T00:00:00",
          "2023-09-19T00:00:00",
          "2023-09-20T00:00:00",
          "2023-09-21T00:00:00",
          "2023-09-22T00:00:00",
          "2023-09-23T00:00:00",
          "2023-09-24T00:00:00",
          "2023-09-25T00:00:00",
          "2023-09-26T00:00:00",
          "2023-09-27T00:00:00",
          "2023-09-28T00:00:00",
          "2023-09-29T00:00:00",
          "2023-09-30T00:00:00",
          "2023-10-01T00:00:00",
          "2023-10-02T00:00:00",
          "2023-10-03T00:00:00",
          "2023-10-04T00:00:00",
          "2023-10-05T00:00:00",
          "2023-10-06T00:00:00",
          "2023-10-07T00:00:00",
          "2023-10-08T00:00:00",
          "2023-10-09T00:00:00",
          "2023-10-10T00:00:00",
          "2023-10-11T00:00:00",
          "2023-10-12T00:00:00",
          "2023-10-13T00:00:00",
          "2023-10-14T00:00:00",
          "2023-10-15T00:00:00",
          "2023-10-16T00:00:00",
          "2023-10-17T00:00:00",
          "2023-10-18T00:00:00",
          "2023-10-19T00:00:00",
          "2023-10-20T00:00:00",
          "2023-10-21T00:00:00",
          "2023-10-22T00:00:00",
          "2023-10-24T00:00:00",
          "2023-10-25T00:00:00",
          "2023-10-26T00:00:00",
          "2023-10-27T00:00:00",
          "2023-10-28T00:00:00",
          "2023-10-29T00:00:00",
          "2023-10-30T00:00:00",
          "2023-10-31T00:00:00",
          "2023-11-01T00:00:00",
          "2023-11-02T00:00:00",
          "2023-11-03T00:00:00",
          "2023-11-04T00:00:00",
          "2023-11-05T00:00:00",
          "2023-11-06T00:00:00",
          "2023-11-07T00:00:00",
          "2023-11-08T00:00:00",
          "2023-11-09T00:00:00",
          "2023-11-10T00:00:00",
          "2023-11-11T00:00:00",
          "2023-11-12T00:00:00",
          "2023-11-13T00:00:00",
          "2023-11-14T00:00:00",
          "2023-11-15T00:00:00",
          "2023-11-16T00:00:00",
          "2023-11-17T00:00:00",
          "2023-11-18T00:00:00",
          "2023-11-20T00:00:00",
          "2023-11-22T00:00:00",
          "2023-11-23T00:00:00",
          "2023-11-24T00:00:00",
          "2023-11-25T00:00:00",
          "2023-11-26T00:00:00",
          "2023-11-27T00:00:00",
          "2023-11-28T00:00:00",
          "2023-11-29T00:00:00",
          "2023-11-30T00:00:00",
          "2023-12-01T00:00:00",
          "2023-12-03T00:00:00",
          "2023-12-04T00:00:00",
          "2023-12-05T00:00:00",
          "2023-12-06T00:00:00",
          "2023-12-07T00:00:00",
          "2023-12-08T00:00:00",
          "2023-12-09T00:00:00",
          "2023-12-10T00:00:00",
          "2023-12-11T00:00:00",
          "2023-12-12T00:00:00",
          "2023-12-13T00:00:00",
          "2023-12-14T00:00:00",
          "2023-12-15T00:00:00",
          "2023-12-16T00:00:00",
          "2023-12-17T00:00:00",
          "2023-12-18T00:00:00",
          "2023-12-19T00:00:00",
          "2023-12-20T00:00:00",
          "2023-12-21T00:00:00",
          "2023-12-22T00:00:00",
          "2023-12-23T00:00:00",
          "2023-12-24T00:00:00",
          "2023-12-25T00:00:00",
          "2023-12-26T00:00:00",
          "2023-12-27T00:00:00",
          "2023-12-28T00:00:00",
          "2023-12-29T00:00:00",
          "2023-12-30T00:00:00",
          "2023-12-31T00:00:00",
          "2024-01-01T00:00:00",
          "2024-01-03T00:00:00",
          "2024-01-04T00:00:00",
          "2024-01-05T00:00:00",
          "2024-01-06T00:00:00",
          "2024-01-07T00:00:00",
          "2024-01-08T00:00:00",
          "2024-01-09T00:00:00",
          "2024-01-10T00:00:00",
          "2024-01-11T00:00:00",
          "2024-01-12T00:00:00",
          "2024-01-13T00:00:00",
          "2024-01-14T00:00:00",
          "2024-01-15T00:00:00",
          "2024-01-16T00:00:00",
          "2024-01-17T00:00:00",
          "2024-01-18T00:00:00",
          "2024-01-19T00:00:00",
          "2024-01-20T00:00:00",
          "2024-01-21T00:00:00",
          "2024-01-22T00:00:00",
          "2024-01-23T00:00:00",
          "2024-01-24T00:00:00",
          "2024-01-25T00:00:00",
          "2024-01-26T00:00:00",
          "2024-01-27T00:00:00",
          "2024-01-28T00:00:00",
          "2024-01-29T00:00:00",
          "2024-01-30T00:00:00",
          "2024-01-31T00:00:00",
          "2024-02-01T00:00:00",
          "2024-02-02T00:00:00",
          "2024-02-04T00:00:00",
          "2024-02-05T00:00:00",
          "2024-02-06T00:00:00",
          "2024-02-07T00:00:00",
          "2024-02-08T00:00:00",
          "2024-02-09T00:00:00",
          "2024-02-10T00:00:00",
          "2024-02-11T00:00:00",
          "2024-02-12T00:00:00",
          "2024-02-13T00:00:00",
          "2024-02-14T00:00:00",
          "2024-02-15T00:00:00",
          "2024-02-16T00:00:00",
          "2024-02-17T00:00:00",
          "2024-02-18T00:00:00",
          "2024-02-19T00:00:00",
          "2024-02-20T00:00:00",
          "2024-02-21T00:00:00",
          "2024-02-22T00:00:00",
          "2024-02-23T00:00:00",
          "2024-02-24T00:00:00",
          "2024-02-25T00:00:00",
          "2024-02-26T00:00:00",
          "2024-02-27T00:00:00",
          "2024-02-28T00:00:00",
          "2024-02-29T00:00:00",
          "2024-03-01T00:00:00",
          "2024-03-02T00:00:00",
          "2024-03-03T00:00:00",
          "2024-03-04T00:00:00",
          "2024-03-05T00:00:00",
          "2024-03-06T00:00:00",
          "2024-03-07T00:00:00",
          "2024-03-08T00:00:00",
          "2024-03-09T00:00:00",
          "2024-03-10T00:00:00",
          "2024-03-11T00:00:00",
          "2024-03-12T00:00:00",
          "2024-03-13T00:00:00",
          "2024-03-14T00:00:00",
          "2024-03-15T00:00:00",
          "2024-03-16T00:00:00",
          "2024-03-17T00:00:00",
          "2024-03-18T00:00:00",
          "2024-03-19T00:00:00",
          "2024-03-20T00:00:00",
          "2024-03-21T00:00:00"
         ],
         "y": [
          null,
          null,
          null,
          null,
          null,
          339.459,
          550.1569999999999,
          533.932,
          500.73199999999997,
          548.177,
          565.317,
          584.917,
          597.463,
          617.97,
          656.177,
          697.652,
          546.2940000000001,
          676.47,
          690.07,
          690.525,
          985.198,
          1035.862,
          974.015,
          1024.908,
          1103.0049999999999,
          1057.53,
          1143.768,
          1067.517,
          1062.426,
          1040.843,
          764.249,
          705.442,
          764.585,
          857.1850000000001,
          1154.0700000000002,
          1171.569,
          1012.2310000000001,
          1024.4650000000001,
          1065.6560000000002,
          1148.837,
          1129.218,
          1095.8600000000001,
          1150.1190000000001,
          1008.119,
          582.13,
          609.0310000000001,
          672.029,
          1254.334,
          1186.831,
          1126.233,
          1175.681,
          1189.0580000000002,
          1283.9569999999999,
          1368.192,
          1358.692,
          1328.529,
          1323.6259999999997,
          750.887,
          887.517,
          850.117,
          952.369,
          1069.592,
          1063.993,
          974.641,
          1067.759,
          1059.3590000000002,
          1110.478,
          1206.273,
          1168.846,
          1237.414,
          1131.6100000000001,
          1134.364,
          983.6610000000001,
          1160.7710000000002,
          1161.553,
          1241.649,
          1204.7350000000001,
          1200.6670000000001,
          1218.4850000000001,
          1356.131,
          1482.235,
          1547.623,
          1585.541,
          1470.54,
          1459.123,
          1440.6889999999999,
          1509.176,
          1419.8489999999997,
          1381.3690000000001,
          1267.254,
          1188.8120000000001,
          1201.0529999999999,
          1242.538,
          1441.105,
          1485.812,
          1905.7130000000002,
          1969.6240000000003,
          2008.623,
          1972.484,
          1879.0819999999999,
          1813.873,
          1647.291,
          1601.2900000000002,
          1356.6290000000001,
          1535.637,
          1121.3359999999998,
          929.4379999999999,
          841.6279999999999,
          865.829,
          986.238,
          949.6859999999999,
          947.086,
          937.7849999999999,
          1046.387,
          809.484,
          870.385,
          979.61,
          965.421,
          1016.3170000000002,
          911.5889999999999,
          1207.77,
          1646.652,
          1956.449,
          2142.439,
          2321.642,
          2658.338,
          3891.328,
          4318.076999999999,
          4813.88,
          4968.302000000001,
          5498.0160000000005,
          5267.299,
          4985.4439999999995,
          4770.053999999999,
          4632.456,
          4380.068,
          3061.393,
          2715.76,
          2187.861,
          2309.9010000000003,
          1517.826,
          1313.461,
          1401.2549999999999,
          1374.7549999999999,
          1350.3539999999998,
          1154.093,
          1237.703,
          1320.986,
          1444.826,
          1320.391,
          1354.5720000000001,
          1340.4720000000002,
          1329.3290000000002,
          1270.115,
          1318.715,
          1313.968,
          1356.711,
          1959.7459999999999,
          1895.1059999999998,
          1741.2009999999998,
          1742.4009999999998,
          1801.577,
          1743.2259999999999,
          1950.3349999999998,
          2305.273,
          2275.213,
          2189.9139999999998,
          1456.6200000000001,
          1387.8600000000001,
          1410.598,
          1716.5440000000003,
          1697.368,
          1613.528,
          1437.883,
          977.7259999999999,
          1211.3139999999999,
          1283.3490000000002,
          1294.918,
          1414.378,
          1410.935,
          1137.428,
          1117.208,
          1128.234,
          1251.524,
          1289.2620000000002,
          1096.111,
          962.182,
          957.3700000000001,
          860.8619999999999,
          850.5809999999999,
          766.744,
          757.88,
          737.983,
          618.802,
          772.3349999999999,
          743.358,
          771.358,
          774.261,
          725.9089999999999,
          760.1769999999999,
          852.1879999999999,
          868.068,
          1025.5349999999999,
          989.3759999999999,
          810.125,
          950.28,
          958.2040000000001,
          1401.8439999999998,
          1608.643,
          1705.5610000000001,
          1576.45,
          1877.2930000000001,
          1936.6370000000002,
          1970.577,
          2072.478,
          1962.3629999999998,
          2021.839,
          2147.5989999999997,
          1900.557,
          1792.257,
          1983.15,
          1636.011,
          1447.306,
          1401.766,
          1630.4950000000001,
          1595.9950000000001,
          1630.575,
          1125.033,
          1249.98,
          1280.68,
          1113.087,
          1223.261,
          1250.126,
          1247.959,
          979.336,
          1026.693,
          907.583,
          1115.415,
          1263.77,
          1667.3769999999997,
          1764.455,
          1818.821,
          1763.9789999999998,
          1943.946,
          2583.589,
          2699.0919999999996,
          3386.422,
          3130.1279999999997,
          2918.172,
          3126.465,
          3119.487,
          3142.687,
          3255.021,
          3125.7129999999997,
          2529.962,
          2529.6620000000003,
          2639.3,
          2636.6040000000003,
          2552.561,
          1908.955,
          2028.2549999999999,
          1950.8070000000002,
          1999.0870000000002,
          2020.3950000000004,
          2040.2800000000002,
          1959.1800000000003,
          1279.042,
          1272.1680000000001,
          1529.1680000000001,
          1602.914,
          1722.841,
          1697.149,
          1565.435,
          1571.435,
          1529.046,
          1562.341,
          1478.488,
          1486.662,
          1305.759,
          1321.2150000000001,
          1044.5880000000002,
          1015.5880000000001,
          1059.065,
          1246.549,
          1210.4959999999999,
          1099.201,
          1116.8039999999999,
          1062.001,
          1076.2450000000001,
          1115.9320000000002,
          1049.032,
          1444.819,
          1433.484,
          1515.795,
          1454.7930000000001,
          1511.826,
          1619.484,
          2136.722,
          2210.881,
          2154.9980000000005,
          2252.877,
          1820.9300000000003,
          1778.6280000000002,
          1580.029,
          1561.089,
          1515.983,
          1506.507,
          1225.502,
          1266.1490000000001,
          1204.8560000000002,
          1486.577,
          1710.575,
          1991.9389999999999,
          1940.843,
          1944.0430000000001,
          2159.816,
          2059.639,
          1876.1600000000003,
          1849.3139999999999,
          1898.7069999999999,
          3017.2709999999997,
          2972.3329999999996,
          2709.817,
          2719.127,
          2781.303,
          2600.5029999999997,
          2563.548,
          2508.227,
          2455.172,
          2457.772,
          1029.205,
          913.5450000000001,
          910.542,
          1156.958,
          1231.922,
          3375.222,
          3373.222,
          null,
          null,
          null,
          null
         ]
        }
       ],
       "layout": {
        "legend": {
         "tracegroupgap": 0
        },
        "template": {
         "data": {
          "bar": [
           {
            "error_x": {
             "color": "#2a3f5f"
            },
            "error_y": {
             "color": "#2a3f5f"
            },
            "marker": {
             "line": {
              "color": "#E5ECF6",
              "width": 0.5
             },
             "pattern": {
              "fillmode": "overlay",
              "size": 10,
              "solidity": 0.2
             }
            },
            "type": "bar"
           }
          ],
          "barpolar": [
           {
            "marker": {
             "line": {
              "color": "#E5ECF6",
              "width": 0.5
             },
             "pattern": {
              "fillmode": "overlay",
              "size": 10,
              "solidity": 0.2
             }
            },
            "type": "barpolar"
           }
          ],
          "carpet": [
           {
            "aaxis": {
             "endlinecolor": "#2a3f5f",
             "gridcolor": "white",
             "linecolor": "white",
             "minorgridcolor": "white",
             "startlinecolor": "#2a3f5f"
            },
            "baxis": {
             "endlinecolor": "#2a3f5f",
             "gridcolor": "white",
             "linecolor": "white",
             "minorgridcolor": "white",
             "startlinecolor": "#2a3f5f"
            },
            "type": "carpet"
           }
          ],
          "choropleth": [
           {
            "colorbar": {
             "outlinewidth": 0,
             "ticks": ""
            },
            "type": "choropleth"
           }
          ],
          "contour": [
           {
            "colorbar": {
             "outlinewidth": 0,
             "ticks": ""
            },
            "colorscale": [
             [
              0,
              "#0d0887"
             ],
             [
              0.1111111111111111,
              "#46039f"
             ],
             [
              0.2222222222222222,
              "#7201a8"
             ],
             [
              0.3333333333333333,
              "#9c179e"
             ],
             [
              0.4444444444444444,
              "#bd3786"
             ],
             [
              0.5555555555555556,
              "#d8576b"
             ],
             [
              0.6666666666666666,
              "#ed7953"
             ],
             [
              0.7777777777777778,
              "#fb9f3a"
             ],
             [
              0.8888888888888888,
              "#fdca26"
             ],
             [
              1,
              "#f0f921"
             ]
            ],
            "type": "contour"
           }
          ],
          "contourcarpet": [
           {
            "colorbar": {
             "outlinewidth": 0,
             "ticks": ""
            },
            "type": "contourcarpet"
           }
          ],
          "heatmap": [
           {
            "colorbar": {
             "outlinewidth": 0,
             "ticks": ""
            },
            "colorscale": [
             [
              0,
              "#0d0887"
             ],
             [
              0.1111111111111111,
              "#46039f"
             ],
             [
              0.2222222222222222,
              "#7201a8"
             ],
             [
              0.3333333333333333,
              "#9c179e"
             ],
             [
              0.4444444444444444,
              "#bd3786"
             ],
             [
              0.5555555555555556,
              "#d8576b"
             ],
             [
              0.6666666666666666,
              "#ed7953"
             ],
             [
              0.7777777777777778,
              "#fb9f3a"
             ],
             [
              0.8888888888888888,
              "#fdca26"
             ],
             [
              1,
              "#f0f921"
             ]
            ],
            "type": "heatmap"
           }
          ],
          "heatmapgl": [
           {
            "colorbar": {
             "outlinewidth": 0,
             "ticks": ""
            },
            "colorscale": [
             [
              0,
              "#0d0887"
             ],
             [
              0.1111111111111111,
              "#46039f"
             ],
             [
              0.2222222222222222,
              "#7201a8"
             ],
             [
              0.3333333333333333,
              "#9c179e"
             ],
             [
              0.4444444444444444,
              "#bd3786"
             ],
             [
              0.5555555555555556,
              "#d8576b"
             ],
             [
              0.6666666666666666,
              "#ed7953"
             ],
             [
              0.7777777777777778,
              "#fb9f3a"
             ],
             [
              0.8888888888888888,
              "#fdca26"
             ],
             [
              1,
              "#f0f921"
             ]
            ],
            "type": "heatmapgl"
           }
          ],
          "histogram": [
           {
            "marker": {
             "pattern": {
              "fillmode": "overlay",
              "size": 10,
              "solidity": 0.2
             }
            },
            "type": "histogram"
           }
          ],
          "histogram2d": [
           {
            "colorbar": {
             "outlinewidth": 0,
             "ticks": ""
            },
            "colorscale": [
             [
              0,
              "#0d0887"
             ],
             [
              0.1111111111111111,
              "#46039f"
             ],
             [
              0.2222222222222222,
              "#7201a8"
             ],
             [
              0.3333333333333333,
              "#9c179e"
             ],
             [
              0.4444444444444444,
              "#bd3786"
             ],
             [
              0.5555555555555556,
              "#d8576b"
             ],
             [
              0.6666666666666666,
              "#ed7953"
             ],
             [
              0.7777777777777778,
              "#fb9f3a"
             ],
             [
              0.8888888888888888,
              "#fdca26"
             ],
             [
              1,
              "#f0f921"
             ]
            ],
            "type": "histogram2d"
           }
          ],
          "histogram2dcontour": [
           {
            "colorbar": {
             "outlinewidth": 0,
             "ticks": ""
            },
            "colorscale": [
             [
              0,
              "#0d0887"
             ],
             [
              0.1111111111111111,
              "#46039f"
             ],
             [
              0.2222222222222222,
              "#7201a8"
             ],
             [
              0.3333333333333333,
              "#9c179e"
             ],
             [
              0.4444444444444444,
              "#bd3786"
             ],
             [
              0.5555555555555556,
              "#d8576b"
             ],
             [
              0.6666666666666666,
              "#ed7953"
             ],
             [
              0.7777777777777778,
              "#fb9f3a"
             ],
             [
              0.8888888888888888,
              "#fdca26"
             ],
             [
              1,
              "#f0f921"
             ]
            ],
            "type": "histogram2dcontour"
           }
          ],
          "mesh3d": [
           {
            "colorbar": {
             "outlinewidth": 0,
             "ticks": ""
            },
            "type": "mesh3d"
           }
          ],
          "parcoords": [
           {
            "line": {
             "colorbar": {
              "outlinewidth": 0,
              "ticks": ""
             }
            },
            "type": "parcoords"
           }
          ],
          "pie": [
           {
            "automargin": true,
            "type": "pie"
           }
          ],
          "scatter": [
           {
            "fillpattern": {
             "fillmode": "overlay",
             "size": 10,
             "solidity": 0.2
            },
            "type": "scatter"
           }
          ],
          "scatter3d": [
           {
            "line": {
             "colorbar": {
              "outlinewidth": 0,
              "ticks": ""
             }
            },
            "marker": {
             "colorbar": {
              "outlinewidth": 0,
              "ticks": ""
             }
            },
            "type": "scatter3d"
           }
          ],
          "scattercarpet": [
           {
            "marker": {
             "colorbar": {
              "outlinewidth": 0,
              "ticks": ""
             }
            },
            "type": "scattercarpet"
           }
          ],
          "scattergeo": [
           {
            "marker": {
             "colorbar": {
              "outlinewidth": 0,
              "ticks": ""
             }
            },
            "type": "scattergeo"
           }
          ],
          "scattergl": [
           {
            "marker": {
             "colorbar": {
              "outlinewidth": 0,
              "ticks": ""
             }
            },
            "type": "scattergl"
           }
          ],
          "scattermapbox": [
           {
            "marker": {
             "colorbar": {
              "outlinewidth": 0,
              "ticks": ""
             }
            },
            "type": "scattermapbox"
           }
          ],
          "scatterpolar": [
           {
            "marker": {
             "colorbar": {
              "outlinewidth": 0,
              "ticks": ""
             }
            },
            "type": "scatterpolar"
           }
          ],
          "scatterpolargl": [
           {
            "marker": {
             "colorbar": {
              "outlinewidth": 0,
              "ticks": ""
             }
            },
            "type": "scatterpolargl"
           }
          ],
          "scatterternary": [
           {
            "marker": {
             "colorbar": {
              "outlinewidth": 0,
              "ticks": ""
             }
            },
            "type": "scatterternary"
           }
          ],
          "surface": [
           {
            "colorbar": {
             "outlinewidth": 0,
             "ticks": ""
            },
            "colorscale": [
             [
              0,
              "#0d0887"
             ],
             [
              0.1111111111111111,
              "#46039f"
             ],
             [
              0.2222222222222222,
              "#7201a8"
             ],
             [
              0.3333333333333333,
              "#9c179e"
             ],
             [
              0.4444444444444444,
              "#bd3786"
             ],
             [
              0.5555555555555556,
              "#d8576b"
             ],
             [
              0.6666666666666666,
              "#ed7953"
             ],
             [
              0.7777777777777778,
              "#fb9f3a"
             ],
             [
              0.8888888888888888,
              "#fdca26"
             ],
             [
              1,
              "#f0f921"
             ]
            ],
            "type": "surface"
           }
          ],
          "table": [
           {
            "cells": {
             "fill": {
              "color": "#EBF0F8"
             },
             "line": {
              "color": "white"
             }
            },
            "header": {
             "fill": {
              "color": "#C8D4E3"
             },
             "line": {
              "color": "white"
             }
            },
            "type": "table"
           }
          ]
         },
         "layout": {
          "annotationdefaults": {
           "arrowcolor": "#2a3f5f",
           "arrowhead": 0,
           "arrowwidth": 1
          },
          "autotypenumbers": "strict",
          "coloraxis": {
           "colorbar": {
            "outlinewidth": 0,
            "ticks": ""
           }
          },
          "colorscale": {
           "diverging": [
            [
             0,
             "#8e0152"
            ],
            [
             0.1,
             "#c51b7d"
            ],
            [
             0.2,
             "#de77ae"
            ],
            [
             0.3,
             "#f1b6da"
            ],
            [
             0.4,
             "#fde0ef"
            ],
            [
             0.5,
             "#f7f7f7"
            ],
            [
             0.6,
             "#e6f5d0"
            ],
            [
             0.7,
             "#b8e186"
            ],
            [
             0.8,
             "#7fbc41"
            ],
            [
             0.9,
             "#4d9221"
            ],
            [
             1,
             "#276419"
            ]
           ],
           "sequential": [
            [
             0,
             "#0d0887"
            ],
            [
             0.1111111111111111,
             "#46039f"
            ],
            [
             0.2222222222222222,
             "#7201a8"
            ],
            [
             0.3333333333333333,
             "#9c179e"
            ],
            [
             0.4444444444444444,
             "#bd3786"
            ],
            [
             0.5555555555555556,
             "#d8576b"
            ],
            [
             0.6666666666666666,
             "#ed7953"
            ],
            [
             0.7777777777777778,
             "#fb9f3a"
            ],
            [
             0.8888888888888888,
             "#fdca26"
            ],
            [
             1,
             "#f0f921"
            ]
           ],
           "sequentialminus": [
            [
             0,
             "#0d0887"
            ],
            [
             0.1111111111111111,
             "#46039f"
            ],
            [
             0.2222222222222222,
             "#7201a8"
            ],
            [
             0.3333333333333333,
             "#9c179e"
            ],
            [
             0.4444444444444444,
             "#bd3786"
            ],
            [
             0.5555555555555556,
             "#d8576b"
            ],
            [
             0.6666666666666666,
             "#ed7953"
            ],
            [
             0.7777777777777778,
             "#fb9f3a"
            ],
            [
             0.8888888888888888,
             "#fdca26"
            ],
            [
             1,
             "#f0f921"
            ]
           ]
          },
          "colorway": [
           "#636efa",
           "#EF553B",
           "#00cc96",
           "#ab63fa",
           "#FFA15A",
           "#19d3f3",
           "#FF6692",
           "#B6E880",
           "#FF97FF",
           "#FECB52"
          ],
          "font": {
           "color": "#2a3f5f"
          },
          "geo": {
           "bgcolor": "white",
           "lakecolor": "white",
           "landcolor": "#E5ECF6",
           "showlakes": true,
           "showland": true,
           "subunitcolor": "white"
          },
          "hoverlabel": {
           "align": "left"
          },
          "hovermode": "closest",
          "mapbox": {
           "style": "light"
          },
          "paper_bgcolor": "white",
          "plot_bgcolor": "#E5ECF6",
          "polar": {
           "angularaxis": {
            "gridcolor": "white",
            "linecolor": "white",
            "ticks": ""
           },
           "bgcolor": "#E5ECF6",
           "radialaxis": {
            "gridcolor": "white",
            "linecolor": "white",
            "ticks": ""
           }
          },
          "scene": {
           "xaxis": {
            "backgroundcolor": "#E5ECF6",
            "gridcolor": "white",
            "gridwidth": 2,
            "linecolor": "white",
            "showbackground": true,
            "ticks": "",
            "zerolinecolor": "white"
           },
           "yaxis": {
            "backgroundcolor": "#E5ECF6",
            "gridcolor": "white",
            "gridwidth": 2,
            "linecolor": "white",
            "showbackground": true,
            "ticks": "",
            "zerolinecolor": "white"
           },
           "zaxis": {
            "backgroundcolor": "#E5ECF6",
            "gridcolor": "white",
            "gridwidth": 2,
            "linecolor": "white",
            "showbackground": true,
            "ticks": "",
            "zerolinecolor": "white"
           }
          },
          "shapedefaults": {
           "line": {
            "color": "#2a3f5f"
           }
          },
          "ternary": {
           "aaxis": {
            "gridcolor": "white",
            "linecolor": "white",
            "ticks": ""
           },
           "baxis": {
            "gridcolor": "white",
            "linecolor": "white",
            "ticks": ""
           },
           "bgcolor": "#E5ECF6",
           "caxis": {
            "gridcolor": "white",
            "linecolor": "white",
            "ticks": ""
           }
          },
          "title": {
           "x": 0.05
          },
          "xaxis": {
           "automargin": true,
           "gridcolor": "white",
           "linecolor": "white",
           "ticks": "",
           "title": {
            "standoff": 15
           },
           "zerolinecolor": "white",
           "zerolinewidth": 2
          },
          "yaxis": {
           "automargin": true,
           "gridcolor": "white",
           "linecolor": "white",
           "ticks": "",
           "title": {
            "standoff": 15
           },
           "zerolinecolor": "white",
           "zerolinewidth": 2
          }
         }
        },
        "title": {
         "text": "Динамика моих расходов с течением времени (Скользящее среднее)"
        },
        "xaxis": {
         "anchor": "y",
         "domain": [
          0,
          1
         ],
         "title": {
          "text": "date"
         }
        },
        "yaxis": {
         "anchor": "x",
         "domain": [
          0,
          1
         ],
         "title": {
          "text": "outcome"
         }
        }
       }
      }
     },
     "metadata": {},
     "output_type": "display_data"
    }
   ],
   "source": [
    "plot_data = data.groupby('date', as_index=False) \\\n",
    "                .agg({'outcome' : 'sum'}) \\\n",
    "                .sort_values('date')\n",
    "\n",
    "plot_data['rolling'] = plot_data['outcome'].rolling(10, center=True).mean()\n",
    "\n",
    "# Используем px.scatter для добавления линии тренда к исходным данным дохода\n",
    "fig = px.scatter(plot_data, x='date', y='outcome', trendline=\"ols\",\n",
    "                 title='Динамика моих расходов с течением времени (Скользящее среднее)')\n",
    "\n",
    "# Добавляем линию скользящего среднего отдельно\n",
    "fig.add_scatter(x=plot_data['date'], y=plot_data['rolling'], mode='lines', name='Скользящее среднее')\n",
    "\n",
    "fig.show()"
   ]
  },
  {
   "cell_type": "markdown",
   "metadata": {},
   "source": [
    "Итого, мы можем увидеть, что мои все-таки возрасли с марта 2023 года. "
   ]
  },
  {
   "cell_type": "markdown",
   "metadata": {},
   "source": [
    "###  Изучим комментарии для трат"
   ]
  },
  {
   "cell_type": "code",
   "execution_count": 11,
   "metadata": {},
   "outputs": [
    {
     "name": "stdout",
     "output_type": "stream",
     "text": [
      "(496,)\n"
     ]
    },
    {
     "data": {
      "text/html": [
       "<div>\n",
       "<style scoped>\n",
       "    .dataframe tbody tr th:only-of-type {\n",
       "        vertical-align: middle;\n",
       "    }\n",
       "\n",
       "    .dataframe tbody tr th {\n",
       "        vertical-align: top;\n",
       "    }\n",
       "\n",
       "    .dataframe thead th {\n",
       "        text-align: right;\n",
       "    }\n",
       "</style>\n",
       "<table border=\"1\" class=\"dataframe\">\n",
       "  <thead>\n",
       "    <tr style=\"text-align: right;\">\n",
       "      <th></th>\n",
       "      <th>date</th>\n",
       "      <th>categoryName</th>\n",
       "      <th>payee</th>\n",
       "      <th>comment</th>\n",
       "      <th>createdDate</th>\n",
       "      <th>changedDate</th>\n",
       "      <th>outcomeAccountName</th>\n",
       "      <th>outcome</th>\n",
       "      <th>outcomeCurrencyShortTitle</th>\n",
       "    </tr>\n",
       "  </thead>\n",
       "  <tbody>\n",
       "    <tr>\n",
       "      <th>1</th>\n",
       "      <td>2023-03-17</td>\n",
       "      <td>Продукты / Сладости</td>\n",
       "      <td>NaN</td>\n",
       "      <td>Купил конфеты Нильс</td>\n",
       "      <td>2023-03-17 20:38:41</td>\n",
       "      <td>2023-03-17 17:38:49</td>\n",
       "      <td>Тинькофф</td>\n",
       "      <td>62.6</td>\n",
       "      <td>RUB</td>\n",
       "    </tr>\n",
       "    <tr>\n",
       "      <th>2</th>\n",
       "      <td>2023-03-18</td>\n",
       "      <td>Продукты</td>\n",
       "      <td>NaN</td>\n",
       "      <td>Купил сухой завтрак  (50 рублей оплатил баллами)</td>\n",
       "      <td>2023-03-18 16:07:54</td>\n",
       "      <td>2023-03-18 13:08:01</td>\n",
       "      <td>Тинькофф</td>\n",
       "      <td>167.0</td>\n",
       "      <td>RUB</td>\n",
       "    </tr>\n",
       "    <tr>\n",
       "      <th>3</th>\n",
       "      <td>2023-03-18</td>\n",
       "      <td>Продукты / Сладости</td>\n",
       "      <td>NaN</td>\n",
       "      <td>Купил пудинг и конфеты</td>\n",
       "      <td>2023-03-18 16:08:50</td>\n",
       "      <td>2023-03-18 13:08:55</td>\n",
       "      <td>Тинькофф</td>\n",
       "      <td>214.0</td>\n",
       "      <td>RUB</td>\n",
       "    </tr>\n",
       "    <tr>\n",
       "      <th>4</th>\n",
       "      <td>2023-03-19</td>\n",
       "      <td>Кафе и рестораны</td>\n",
       "      <td>ДоДо пицца</td>\n",
       "      <td>Заказал пиццу на ужин (Скинулись с друзьями)</td>\n",
       "      <td>2023-03-19 17:32:21</td>\n",
       "      <td>2023-03-19 14:32:28</td>\n",
       "      <td>Тинькофф</td>\n",
       "      <td>342.0</td>\n",
       "      <td>RUB</td>\n",
       "    </tr>\n",
       "    <tr>\n",
       "      <th>6</th>\n",
       "      <td>2023-03-20</td>\n",
       "      <td>Кафе и рестораны / Кофейни</td>\n",
       "      <td>NaN</td>\n",
       "      <td>Взял кофе в автомате</td>\n",
       "      <td>2023-03-20 10:33:25</td>\n",
       "      <td>2023-03-20 07:33:33</td>\n",
       "      <td>Тинькофф</td>\n",
       "      <td>100.0</td>\n",
       "      <td>RUB</td>\n",
       "    </tr>\n",
       "  </tbody>\n",
       "</table>\n",
       "</div>"
      ],
      "text/plain": [
       "        date                categoryName       payee  \\\n",
       "1 2023-03-17         Продукты / Сладости         NaN   \n",
       "2 2023-03-18                    Продукты         NaN   \n",
       "3 2023-03-18         Продукты / Сладости         NaN   \n",
       "4 2023-03-19            Кафе и рестораны  ДоДо пицца   \n",
       "6 2023-03-20  Кафе и рестораны / Кофейни         NaN   \n",
       "\n",
       "                                            comment         createdDate  \\\n",
       "1                               Купил конфеты Нильс 2023-03-17 20:38:41   \n",
       "2  Купил сухой завтрак  (50 рублей оплатил баллами) 2023-03-18 16:07:54   \n",
       "3                            Купил пудинг и конфеты 2023-03-18 16:08:50   \n",
       "4      Заказал пиццу на ужин (Скинулись с друзьями) 2023-03-19 17:32:21   \n",
       "6                              Взял кофе в автомате 2023-03-20 10:33:25   \n",
       "\n",
       "          changedDate outcomeAccountName  outcome outcomeCurrencyShortTitle  \n",
       "1 2023-03-17 17:38:49           Тинькофф     62.6                       RUB  \n",
       "2 2023-03-18 13:08:01           Тинькофф    167.0                       RUB  \n",
       "3 2023-03-18 13:08:55           Тинькофф    214.0                       RUB  \n",
       "4 2023-03-19 14:32:28           Тинькофф    342.0                       RUB  \n",
       "6 2023-03-20 07:33:33           Тинькофф    100.0                       RUB  "
      ]
     },
     "execution_count": 11,
     "metadata": {},
     "output_type": "execute_result"
    }
   ],
   "source": [
    "print(data[data['comment'].isna() == False]['comment'].shape)\n",
    "data[data['comment'].isna() == False].head()"
   ]
  },
  {
   "cell_type": "markdown",
   "metadata": {},
   "source": [
    "Суммарно, я оставил комментарий к 496 тратам"
   ]
  },
  {
   "cell_type": "code",
   "execution_count": 12,
   "metadata": {},
   "outputs": [
    {
     "data": {
      "text/plain": [
       "[('обед', 22),\n",
       " ('вода', 16),\n",
       " ('завтрак', 14),\n",
       " ('ужин', 14),\n",
       " ('оплатил', 13),\n",
       " ('нике', 13),\n",
       " ('кофе', 12),\n",
       " ('подписку', 12),\n",
       " ('дзен', 12),\n",
       " ('мани', 12),\n",
       " ('ники', 12),\n",
       " ('чай', 11),\n",
       " ('продукты', 11),\n",
       " ('яндекс', 10),\n",
       " ('плюс', 10),\n",
       " ('такси', 10),\n",
       " ('подписка', 9),\n",
       " ('оплата', 9),\n",
       " ('билет', 9),\n",
       " ('кино', 9)]"
      ]
     },
     "execution_count": 12,
     "metadata": {},
     "output_type": "execute_result"
    }
   ],
   "source": [
    "symbols_to_remove = ['.', ',', '(', ')', '+', '\"']\n",
    "all_comments = ' '.join(data[data['comment'].isna() == False]['comment'].to_list()).lower().replace('  ', ' ')\n",
    "for symbol in symbols_to_remove:\n",
    "    all_comments = all_comments.replace(symbol, '')\n",
    "\n",
    "all_comments = [word for word in all_comments.split() if word not in stopwords.words('russian')]\n",
    "Counter(all_comments).most_common(20)"
   ]
  },
  {
   "cell_type": "markdown",
   "metadata": {},
   "source": [
    "Итого, в топ 4 самых популярных слов среди моих трат вошли слова \"Завтрак\", \"Обед\" и \"Ужин\", что может указывать на то, что я относительно часто кушаю вне дома. Почетное второе место заняло слово \"Вода\", поскольку без нее тяжело. \n",
    "\n",
    "Ещё одно наблюдение - при должном внимании можно заметить, что в топ 20 вошли слова \"ники\" и \"нике\". Суммарно их частота составит 25 повторений, а это однозначно первое место. Видимо, наибольшее количество значимых/необычных трат я совершаю в какой-то связи со своей девушкой."
   ]
  },
  {
   "cell_type": "markdown",
   "metadata": {},
   "source": [
    "##### **Попробуем выяснить, в каких ситуациях я чаще оставляю комментарии для трат**"
   ]
  },
  {
   "cell_type": "code",
   "execution_count": 13,
   "metadata": {},
   "outputs": [
    {
     "data": {
      "text/html": [
       "<div>\n",
       "<style scoped>\n",
       "    .dataframe tbody tr th:only-of-type {\n",
       "        vertical-align: middle;\n",
       "    }\n",
       "\n",
       "    .dataframe tbody tr th {\n",
       "        vertical-align: top;\n",
       "    }\n",
       "\n",
       "    .dataframe thead th {\n",
       "        text-align: right;\n",
       "    }\n",
       "</style>\n",
       "<table border=\"1\" class=\"dataframe\">\n",
       "  <thead>\n",
       "    <tr style=\"text-align: right;\">\n",
       "      <th></th>\n",
       "      <th>categoryName</th>\n",
       "      <th>createdDate</th>\n",
       "      <th>outcome</th>\n",
       "    </tr>\n",
       "  </thead>\n",
       "  <tbody>\n",
       "    <tr>\n",
       "      <th>4</th>\n",
       "      <td>Кафе и рестораны</td>\n",
       "      <td>66</td>\n",
       "      <td>584.921212</td>\n",
       "    </tr>\n",
       "    <tr>\n",
       "      <th>20</th>\n",
       "      <td>Продукты</td>\n",
       "      <td>61</td>\n",
       "      <td>251.985902</td>\n",
       "    </tr>\n",
       "    <tr>\n",
       "      <th>21</th>\n",
       "      <td>Продукты / Сладости</td>\n",
       "      <td>56</td>\n",
       "      <td>266.305179</td>\n",
       "    </tr>\n",
       "    <tr>\n",
       "      <th>5</th>\n",
       "      <td>Кафе и рестораны / Кофейни</td>\n",
       "      <td>38</td>\n",
       "      <td>329.594211</td>\n",
       "    </tr>\n",
       "    <tr>\n",
       "      <th>2</th>\n",
       "      <td>Забота о себе</td>\n",
       "      <td>35</td>\n",
       "      <td>493.167429</td>\n",
       "    </tr>\n",
       "    <tr>\n",
       "      <th>26</th>\n",
       "      <td>Хобби</td>\n",
       "      <td>30</td>\n",
       "      <td>1440.896000</td>\n",
       "    </tr>\n",
       "    <tr>\n",
       "      <th>12</th>\n",
       "      <td>Отдых и развлечения</td>\n",
       "      <td>30</td>\n",
       "      <td>756.533000</td>\n",
       "    </tr>\n",
       "    <tr>\n",
       "      <th>23</th>\n",
       "      <td>Проезд</td>\n",
       "      <td>28</td>\n",
       "      <td>1326.895714</td>\n",
       "    </tr>\n",
       "    <tr>\n",
       "      <th>3</th>\n",
       "      <td>Здоровье и фитнес</td>\n",
       "      <td>25</td>\n",
       "      <td>1174.406000</td>\n",
       "    </tr>\n",
       "    <tr>\n",
       "      <th>18</th>\n",
       "      <td>Подарки</td>\n",
       "      <td>25</td>\n",
       "      <td>1718.157200</td>\n",
       "    </tr>\n",
       "    <tr>\n",
       "      <th>24</th>\n",
       "      <td>Товары для дома</td>\n",
       "      <td>23</td>\n",
       "      <td>594.462174</td>\n",
       "    </tr>\n",
       "    <tr>\n",
       "      <th>16</th>\n",
       "      <td>Платежи, комиссии / Подписки</td>\n",
       "      <td>19</td>\n",
       "      <td>423.071053</td>\n",
       "    </tr>\n",
       "    <tr>\n",
       "      <th>19</th>\n",
       "      <td>Покупки: одежда, техника</td>\n",
       "      <td>13</td>\n",
       "      <td>1269.275385</td>\n",
       "    </tr>\n",
       "    <tr>\n",
       "      <th>0</th>\n",
       "      <td>Доставка еды</td>\n",
       "      <td>10</td>\n",
       "      <td>593.100000</td>\n",
       "    </tr>\n",
       "    <tr>\n",
       "      <th>14</th>\n",
       "      <td>Платежи, комиссии</td>\n",
       "      <td>6</td>\n",
       "      <td>41.763333</td>\n",
       "    </tr>\n",
       "    <tr>\n",
       "      <th>8</th>\n",
       "      <td>Образование / Канцелярия</td>\n",
       "      <td>6</td>\n",
       "      <td>314.998333</td>\n",
       "    </tr>\n",
       "    <tr>\n",
       "      <th>7</th>\n",
       "      <td>Образование</td>\n",
       "      <td>5</td>\n",
       "      <td>820.618000</td>\n",
       "    </tr>\n",
       "    <tr>\n",
       "      <th>15</th>\n",
       "      <td>Платежи, комиссии / Оплата связи</td>\n",
       "      <td>2</td>\n",
       "      <td>69.500000</td>\n",
       "    </tr>\n",
       "    <tr>\n",
       "      <th>9</th>\n",
       "      <td>Образование / Книги</td>\n",
       "      <td>2</td>\n",
       "      <td>288.500000</td>\n",
       "    </tr>\n",
       "    <tr>\n",
       "      <th>1</th>\n",
       "      <td>Доставка еды, Товары для дома</td>\n",
       "      <td>1</td>\n",
       "      <td>1501.000000</td>\n",
       "    </tr>\n",
       "    <tr>\n",
       "      <th>17</th>\n",
       "      <td>Платежи, комиссии / Подписки, Отдых и развлечения</td>\n",
       "      <td>1</td>\n",
       "      <td>189.390000</td>\n",
       "    </tr>\n",
       "    <tr>\n",
       "      <th>11</th>\n",
       "      <td>Образование, Платежи, комиссии</td>\n",
       "      <td>1</td>\n",
       "      <td>299.000000</td>\n",
       "    </tr>\n",
       "    <tr>\n",
       "      <th>10</th>\n",
       "      <td>Образование / Книги, Товары для дома</td>\n",
       "      <td>1</td>\n",
       "      <td>887.000000</td>\n",
       "    </tr>\n",
       "    <tr>\n",
       "      <th>22</th>\n",
       "      <td>Продукты / Сладости, Доставка еды</td>\n",
       "      <td>1</td>\n",
       "      <td>378.000000</td>\n",
       "    </tr>\n",
       "    <tr>\n",
       "      <th>6</th>\n",
       "      <td>Корректировка</td>\n",
       "      <td>1</td>\n",
       "      <td>100.000000</td>\n",
       "    </tr>\n",
       "    <tr>\n",
       "      <th>25</th>\n",
       "      <td>Товары для дома, Продукты / Сладости</td>\n",
       "      <td>1</td>\n",
       "      <td>150.000000</td>\n",
       "    </tr>\n",
       "    <tr>\n",
       "      <th>13</th>\n",
       "      <td>Отдых и развлечения / Чай</td>\n",
       "      <td>1</td>\n",
       "      <td>365.000000</td>\n",
       "    </tr>\n",
       "  </tbody>\n",
       "</table>\n",
       "</div>"
      ],
      "text/plain": [
       "                                         categoryName  createdDate  \\\n",
       "4                                    Кафе и рестораны           66   \n",
       "20                                           Продукты           61   \n",
       "21                                Продукты / Сладости           56   \n",
       "5                          Кафе и рестораны / Кофейни           38   \n",
       "2                                       Забота о себе           35   \n",
       "26                                              Хобби           30   \n",
       "12                                Отдых и развлечения           30   \n",
       "23                                             Проезд           28   \n",
       "3                                   Здоровье и фитнес           25   \n",
       "18                                            Подарки           25   \n",
       "24                                    Товары для дома           23   \n",
       "16                       Платежи, комиссии / Подписки           19   \n",
       "19                           Покупки: одежда, техника           13   \n",
       "0                                        Доставка еды           10   \n",
       "14                                  Платежи, комиссии            6   \n",
       "8                            Образование / Канцелярия            6   \n",
       "7                                         Образование            5   \n",
       "15                   Платежи, комиссии / Оплата связи            2   \n",
       "9                                 Образование / Книги            2   \n",
       "1                       Доставка еды, Товары для дома            1   \n",
       "17  Платежи, комиссии / Подписки, Отдых и развлечения            1   \n",
       "11                     Образование, Платежи, комиссии            1   \n",
       "10               Образование / Книги, Товары для дома            1   \n",
       "22                  Продукты / Сладости, Доставка еды            1   \n",
       "6                                       Корректировка            1   \n",
       "25               Товары для дома, Продукты / Сладости            1   \n",
       "13                          Отдых и развлечения / Чай            1   \n",
       "\n",
       "        outcome  \n",
       "4    584.921212  \n",
       "20   251.985902  \n",
       "21   266.305179  \n",
       "5    329.594211  \n",
       "2    493.167429  \n",
       "26  1440.896000  \n",
       "12   756.533000  \n",
       "23  1326.895714  \n",
       "3   1174.406000  \n",
       "18  1718.157200  \n",
       "24   594.462174  \n",
       "16   423.071053  \n",
       "19  1269.275385  \n",
       "0    593.100000  \n",
       "14    41.763333  \n",
       "8    314.998333  \n",
       "7    820.618000  \n",
       "15    69.500000  \n",
       "9    288.500000  \n",
       "1   1501.000000  \n",
       "17   189.390000  \n",
       "11   299.000000  \n",
       "10   887.000000  \n",
       "22   378.000000  \n",
       "6    100.000000  \n",
       "25   150.000000  \n",
       "13   365.000000  "
      ]
     },
     "execution_count": 13,
     "metadata": {},
     "output_type": "execute_result"
    }
   ],
   "source": [
    "data[data['comment'].isna() == False] \\\n",
    "                    .groupby('categoryName', as_index=False) \\\n",
    "                    .agg({'createdDate' : 'count',\n",
    "                          'outcome' : 'mean'}) \\\n",
    "                    .sort_values('createdDate', ascending=False)"
   ]
  },
  {
   "cell_type": "markdown",
   "metadata": {},
   "source": [
    "Итого, чаще всего я оставляю комментарии для оплаты общепитов, а также продуктов или сладостей. Также, довольно часто я оставляю комментарии для трат на отдых и развлечения, а также для подарков. \n",
    "\n",
    "Как итог, могу предположить, что наличие комментария к трате является признаком необычной/значимой траты."
   ]
  },
  {
   "cell_type": "code",
   "execution_count": 14,
   "metadata": {},
   "outputs": [
    {
     "name": "stdout",
     "output_type": "stream",
     "text": [
      "Медианная сумма трат с комментарием: 340.0 \n",
      "Медианная сумма трат без комментариев: 230.0 \n",
      "\n",
      "Средняя сумма трат с комментарием: 674.8532258064515 \n",
      "Средняя сумма трат без комментария: 299.23454676258996 \n",
      "\n"
     ]
    }
   ],
   "source": [
    "print(f\"Медианная сумма трат с комментарием: {data[data['comment'].isna() == False]['outcome'].median()} \\n\"\n",
    "      f\"Медианная сумма трат без комментариев: {data[data['comment'].isna() == True]['outcome'].median()} \\n\\n\"\n",
    "      f\"Средняя сумма трат с комментарием: {data[data['comment'].isna() == False]['outcome'].mean()} \\n\"\n",
    "      f\"Средняя сумма трат без комментария: {data[data['comment'].isna() == True]['outcome'].mean()} \\n\")"
   ]
  },
  {
   "cell_type": "markdown",
   "metadata": {},
   "source": [
    "Базовые статистики суммы трат (медиана и среднее) подтверждают мою гипотезу о том, что комментарий является меткой того, что трата неординарная.\n",
    "Пускай медианные значения и довольно схожи, однако среднее занчение у трат без комментариев и с комментариями отличаются более чем в 2 раза. Это значит, что среди трат с комментариями есть яркие выбросы, в то время, как траты без комментариев довольно равномерные"
   ]
  },
  {
   "cell_type": "code",
   "execution_count": 15,
   "metadata": {},
   "outputs": [
    {
     "data": {
      "application/vnd.plotly.v1+json": {
       "config": {
        "plotlyServerURL": "https://plot.ly"
       },
       "data": [
        {
         "hovertemplate": "has_comment=False<br>date=%{x}<br>outcome=%{y}<extra></extra>",
         "legendgroup": "False",
         "marker": {
          "color": "#636efa",
          "symbol": "circle"
         },
         "mode": "markers",
         "name": "False",
         "showlegend": true,
         "type": "scattergl",
         "x": [
          "2023-03-17T00:00:00",
          "2023-03-19T00:00:00",
          "2023-03-21T00:00:00",
          "2023-03-24T00:00:00",
          "2023-03-24T00:00:00",
          "2023-03-25T00:00:00",
          "2023-03-25T00:00:00",
          "2023-03-26T00:00:00",
          "2023-03-27T00:00:00",
          "2023-03-28T00:00:00",
          "2023-03-30T00:00:00",
          "2023-03-31T00:00:00",
          "2023-04-05T00:00:00",
          "2023-04-06T00:00:00",
          "2023-04-06T00:00:00",
          "2023-04-07T00:00:00",
          "2023-04-07T00:00:00",
          "2023-04-08T00:00:00",
          "2023-04-08T00:00:00",
          "2023-04-09T00:00:00",
          "2023-04-09T00:00:00",
          "2023-04-10T00:00:00",
          "2023-04-11T00:00:00",
          "2023-04-11T00:00:00",
          "2023-04-12T00:00:00",
          "2023-04-12T00:00:00",
          "2023-04-13T00:00:00",
          "2023-04-13T00:00:00",
          "2023-04-14T00:00:00",
          "2023-04-14T00:00:00",
          "2023-04-15T00:00:00",
          "2023-04-15T00:00:00",
          "2023-04-16T00:00:00",
          "2023-04-17T00:00:00",
          "2023-04-17T00:00:00",
          "2023-04-17T00:00:00",
          "2023-04-18T00:00:00",
          "2023-04-18T00:00:00",
          "2023-04-19T00:00:00",
          "2023-04-20T00:00:00",
          "2023-04-22T00:00:00",
          "2023-04-22T00:00:00",
          "2023-04-22T00:00:00",
          "2023-04-22T00:00:00",
          "2023-04-22T00:00:00",
          "2023-04-23T00:00:00",
          "2023-04-23T00:00:00",
          "2023-04-23T00:00:00",
          "2023-04-24T00:00:00",
          "2023-04-24T00:00:00",
          "2023-04-24T00:00:00",
          "2023-04-25T00:00:00",
          "2023-04-25T00:00:00",
          "2023-04-26T00:00:00",
          "2023-04-27T00:00:00",
          "2023-04-27T00:00:00",
          "2023-04-28T00:00:00",
          "2023-04-28T00:00:00",
          "2023-04-28T00:00:00",
          "2023-04-28T00:00:00",
          "2023-04-29T00:00:00",
          "2023-04-29T00:00:00",
          "2023-04-29T00:00:00",
          "2023-04-30T00:00:00",
          "2023-05-02T00:00:00",
          "2023-05-02T00:00:00",
          "2023-05-03T00:00:00",
          "2023-05-04T00:00:00",
          "2023-05-04T00:00:00",
          "2023-05-05T00:00:00",
          "2023-05-05T00:00:00",
          "2023-05-06T00:00:00",
          "2023-05-06T00:00:00",
          "2023-05-07T00:00:00",
          "2023-05-10T00:00:00",
          "2023-05-15T00:00:00",
          "2023-05-15T00:00:00",
          "2023-05-15T00:00:00",
          "2023-05-15T00:00:00",
          "2023-05-16T00:00:00",
          "2023-05-16T00:00:00",
          "2023-05-17T00:00:00",
          "2023-05-19T00:00:00",
          "2023-05-19T00:00:00",
          "2023-05-19T00:00:00",
          "2023-05-19T00:00:00",
          "2023-05-21T00:00:00",
          "2023-05-22T00:00:00",
          "2023-05-22T00:00:00",
          "2023-05-22T00:00:00",
          "2023-05-23T00:00:00",
          "2023-05-24T00:00:00",
          "2023-05-26T00:00:00",
          "2023-05-26T00:00:00",
          "2023-05-27T00:00:00",
          "2023-05-27T00:00:00",
          "2023-05-28T00:00:00",
          "2023-05-28T00:00:00",
          "2023-05-29T00:00:00",
          "2023-05-30T00:00:00",
          "2023-05-30T00:00:00",
          "2023-05-30T00:00:00",
          "2023-05-31T00:00:00",
          "2023-05-31T00:00:00",
          "2023-06-01T00:00:00",
          "2023-06-01T00:00:00",
          "2023-06-03T00:00:00",
          "2023-06-04T00:00:00",
          "2023-06-04T00:00:00",
          "2023-06-06T00:00:00",
          "2023-06-06T00:00:00",
          "2023-06-06T00:00:00",
          "2023-06-07T00:00:00",
          "2023-06-07T00:00:00",
          "2023-06-07T00:00:00",
          "2023-06-08T00:00:00",
          "2023-06-08T00:00:00",
          "2023-06-08T00:00:00",
          "2023-06-09T00:00:00",
          "2023-06-09T00:00:00",
          "2023-06-09T00:00:00",
          "2023-06-09T00:00:00",
          "2023-06-09T00:00:00",
          "2023-06-10T00:00:00",
          "2023-06-10T00:00:00",
          "2023-06-10T00:00:00",
          "2023-06-11T00:00:00",
          "2023-06-11T00:00:00",
          "2023-06-13T00:00:00",
          "2023-06-13T00:00:00",
          "2023-06-13T00:00:00",
          "2023-06-14T00:00:00",
          "2023-06-14T00:00:00",
          "2023-06-14T00:00:00",
          "2023-06-15T00:00:00",
          "2023-06-15T00:00:00",
          "2023-06-16T00:00:00",
          "2023-06-16T00:00:00",
          "2023-06-16T00:00:00",
          "2023-06-16T00:00:00",
          "2023-06-17T00:00:00",
          "2023-06-17T00:00:00",
          "2023-06-17T00:00:00",
          "2023-06-18T00:00:00",
          "2023-06-18T00:00:00",
          "2023-06-19T00:00:00",
          "2023-06-19T00:00:00",
          "2023-06-20T00:00:00",
          "2023-06-21T00:00:00",
          "2023-06-21T00:00:00",
          "2023-06-21T00:00:00",
          "2023-06-21T00:00:00",
          "2023-06-21T00:00:00",
          "2023-06-22T00:00:00",
          "2023-06-22T00:00:00",
          "2023-06-22T00:00:00",
          "2023-06-22T00:00:00",
          "2023-06-23T00:00:00",
          "2023-06-23T00:00:00",
          "2023-06-23T00:00:00",
          "2023-06-24T00:00:00",
          "2023-06-24T00:00:00",
          "2023-06-24T00:00:00",
          "2023-06-24T00:00:00",
          "2023-06-25T00:00:00",
          "2023-06-25T00:00:00",
          "2023-06-25T00:00:00",
          "2023-06-26T00:00:00",
          "2023-06-27T00:00:00",
          "2023-06-27T00:00:00",
          "2023-06-27T00:00:00",
          "2023-06-28T00:00:00",
          "2023-06-28T00:00:00",
          "2023-06-28T00:00:00",
          "2023-06-29T00:00:00",
          "2023-06-29T00:00:00",
          "2023-06-29T00:00:00",
          "2023-06-30T00:00:00",
          "2023-06-30T00:00:00",
          "2023-07-01T00:00:00",
          "2023-07-01T00:00:00",
          "2023-07-02T00:00:00",
          "2023-07-03T00:00:00",
          "2023-07-03T00:00:00",
          "2023-07-04T00:00:00",
          "2023-07-04T00:00:00",
          "2023-07-04T00:00:00",
          "2023-07-04T00:00:00",
          "2023-07-05T00:00:00",
          "2023-07-05T00:00:00",
          "2023-07-09T00:00:00",
          "2023-07-09T00:00:00",
          "2023-07-09T00:00:00",
          "2023-07-10T00:00:00",
          "2023-07-11T00:00:00",
          "2023-07-11T00:00:00",
          "2023-07-11T00:00:00",
          "2023-07-12T00:00:00",
          "2023-07-12T00:00:00",
          "2023-07-13T00:00:00",
          "2023-07-13T00:00:00",
          "2023-07-13T00:00:00",
          "2023-07-13T00:00:00",
          "2023-07-14T00:00:00",
          "2023-07-15T00:00:00",
          "2023-07-16T00:00:00",
          "2023-07-18T00:00:00",
          "2023-07-18T00:00:00",
          "2023-07-20T00:00:00",
          "2023-07-26T00:00:00",
          "2023-07-27T00:00:00",
          "2023-07-29T00:00:00",
          "2023-08-03T00:00:00",
          "2023-08-03T00:00:00",
          "2023-08-05T00:00:00",
          "2023-08-07T00:00:00",
          "2023-08-09T00:00:00",
          "2023-08-09T00:00:00",
          "2023-08-10T00:00:00",
          "2023-08-10T00:00:00",
          "2023-08-11T00:00:00",
          "2023-08-11T00:00:00",
          "2023-08-11T00:00:00",
          "2023-08-12T00:00:00",
          "2023-08-12T00:00:00",
          "2023-08-12T00:00:00",
          "2023-08-13T00:00:00",
          "2023-08-13T00:00:00",
          "2023-08-13T00:00:00",
          "2023-08-14T00:00:00",
          "2023-08-15T00:00:00",
          "2023-08-16T00:00:00",
          "2023-08-16T00:00:00",
          "2023-08-16T00:00:00",
          "2023-08-16T00:00:00",
          "2023-08-16T00:00:00",
          "2023-08-17T00:00:00",
          "2023-08-17T00:00:00",
          "2023-08-17T00:00:00",
          "2023-08-18T00:00:00",
          "2023-08-19T00:00:00",
          "2023-08-20T00:00:00",
          "2023-08-20T00:00:00",
          "2023-08-20T00:00:00",
          "2023-08-21T00:00:00",
          "2023-08-21T00:00:00",
          "2023-08-22T00:00:00",
          "2023-08-22T00:00:00",
          "2023-08-22T00:00:00",
          "2023-08-22T00:00:00",
          "2023-08-23T00:00:00",
          "2023-08-24T00:00:00",
          "2023-08-24T00:00:00",
          "2023-08-24T00:00:00",
          "2023-08-24T00:00:00",
          "2023-08-25T00:00:00",
          "2023-08-25T00:00:00",
          "2023-08-26T00:00:00",
          "2023-08-27T00:00:00",
          "2023-08-28T00:00:00",
          "2023-08-28T00:00:00",
          "2023-08-28T00:00:00",
          "2023-08-30T00:00:00",
          "2023-08-31T00:00:00",
          "2023-08-31T00:00:00",
          "2023-08-31T00:00:00",
          "2023-09-01T00:00:00",
          "2023-09-01T00:00:00",
          "2023-09-01T00:00:00",
          "2023-09-02T00:00:00",
          "2023-09-02T00:00:00",
          "2023-09-02T00:00:00",
          "2023-09-03T00:00:00",
          "2023-09-04T00:00:00",
          "2023-09-04T00:00:00",
          "2023-09-06T00:00:00",
          "2023-09-06T00:00:00",
          "2023-09-07T00:00:00",
          "2023-09-07T00:00:00",
          "2023-09-08T00:00:00",
          "2023-09-08T00:00:00",
          "2023-09-08T00:00:00",
          "2023-09-08T00:00:00",
          "2023-09-08T00:00:00",
          "2023-09-08T00:00:00",
          "2023-09-09T00:00:00",
          "2023-09-09T00:00:00",
          "2023-09-09T00:00:00",
          "2023-09-10T00:00:00",
          "2023-09-10T00:00:00",
          "2023-09-11T00:00:00",
          "2023-09-11T00:00:00",
          "2023-09-11T00:00:00",
          "2023-09-14T00:00:00",
          "2023-09-14T00:00:00",
          "2023-09-15T00:00:00",
          "2023-09-16T00:00:00",
          "2023-09-18T00:00:00",
          "2023-09-18T00:00:00",
          "2023-09-18T00:00:00",
          "2023-09-21T00:00:00",
          "2023-09-21T00:00:00",
          "2023-09-22T00:00:00",
          "2023-09-22T00:00:00",
          "2023-09-22T00:00:00",
          "2023-09-23T00:00:00",
          "2023-09-23T00:00:00",
          "2023-09-23T00:00:00",
          "2023-09-24T00:00:00",
          "2023-09-24T00:00:00",
          "2023-09-25T00:00:00",
          "2023-09-25T00:00:00",
          "2023-09-25T00:00:00",
          "2023-09-26T00:00:00",
          "2023-09-27T00:00:00",
          "2023-09-27T00:00:00",
          "2023-09-28T00:00:00",
          "2023-09-28T00:00:00",
          "2023-09-28T00:00:00",
          "2023-09-29T00:00:00",
          "2023-09-29T00:00:00",
          "2023-09-29T00:00:00",
          "2023-09-29T00:00:00",
          "2023-09-30T00:00:00",
          "2023-10-01T00:00:00",
          "2023-10-01T00:00:00",
          "2023-10-01T00:00:00",
          "2023-10-02T00:00:00",
          "2023-10-03T00:00:00",
          "2023-10-04T00:00:00",
          "2023-10-05T00:00:00",
          "2023-10-05T00:00:00",
          "2023-10-05T00:00:00",
          "2023-10-06T00:00:00",
          "2023-10-07T00:00:00",
          "2023-10-07T00:00:00",
          "2023-10-08T00:00:00",
          "2023-10-08T00:00:00",
          "2023-10-09T00:00:00",
          "2023-10-11T00:00:00",
          "2023-10-11T00:00:00",
          "2023-10-12T00:00:00",
          "2023-10-12T00:00:00",
          "2023-10-12T00:00:00",
          "2023-10-12T00:00:00",
          "2023-10-13T00:00:00",
          "2023-10-13T00:00:00",
          "2023-10-14T00:00:00",
          "2023-10-14T00:00:00",
          "2023-10-15T00:00:00",
          "2023-10-15T00:00:00",
          "2023-10-15T00:00:00",
          "2023-10-15T00:00:00",
          "2023-10-16T00:00:00",
          "2023-10-16T00:00:00",
          "2023-10-17T00:00:00",
          "2023-10-18T00:00:00",
          "2023-10-18T00:00:00",
          "2023-10-18T00:00:00",
          "2023-10-19T00:00:00",
          "2023-10-19T00:00:00",
          "2023-10-19T00:00:00",
          "2023-10-22T00:00:00",
          "2023-10-22T00:00:00",
          "2023-10-24T00:00:00",
          "2023-10-24T00:00:00",
          "2023-10-24T00:00:00",
          "2023-10-25T00:00:00",
          "2023-10-25T00:00:00",
          "2023-10-26T00:00:00",
          "2023-10-26T00:00:00",
          "2023-10-26T00:00:00",
          "2023-10-27T00:00:00",
          "2023-10-28T00:00:00",
          "2023-10-28T00:00:00",
          "2023-10-29T00:00:00",
          "2023-10-29T00:00:00",
          "2023-10-30T00:00:00",
          "2023-10-30T00:00:00",
          "2023-10-30T00:00:00",
          "2023-10-30T00:00:00",
          "2023-10-31T00:00:00",
          "2023-11-02T00:00:00",
          "2023-11-02T00:00:00",
          "2023-11-03T00:00:00",
          "2023-11-03T00:00:00",
          "2023-11-04T00:00:00",
          "2023-11-05T00:00:00",
          "2023-11-06T00:00:00",
          "2023-11-06T00:00:00",
          "2023-11-06T00:00:00",
          "2023-11-06T00:00:00",
          "2023-11-07T00:00:00",
          "2023-11-07T00:00:00",
          "2023-11-08T00:00:00",
          "2023-11-09T00:00:00",
          "2023-11-09T00:00:00",
          "2023-11-09T00:00:00",
          "2023-11-10T00:00:00",
          "2023-11-10T00:00:00",
          "2023-11-10T00:00:00",
          "2023-11-11T00:00:00",
          "2023-11-12T00:00:00",
          "2023-11-12T00:00:00",
          "2023-11-13T00:00:00",
          "2023-11-13T00:00:00",
          "2023-11-14T00:00:00",
          "2023-11-14T00:00:00",
          "2023-11-14T00:00:00",
          "2023-11-14T00:00:00",
          "2023-11-15T00:00:00",
          "2023-11-15T00:00:00",
          "2023-11-16T00:00:00",
          "2023-11-16T00:00:00",
          "2023-11-17T00:00:00",
          "2023-11-17T00:00:00",
          "2023-11-18T00:00:00",
          "2023-11-18T00:00:00",
          "2023-11-20T00:00:00",
          "2023-11-22T00:00:00",
          "2023-11-22T00:00:00",
          "2023-11-23T00:00:00",
          "2023-11-23T00:00:00",
          "2023-11-23T00:00:00",
          "2023-11-23T00:00:00",
          "2023-11-23T00:00:00",
          "2023-11-24T00:00:00",
          "2023-11-25T00:00:00",
          "2023-11-26T00:00:00",
          "2023-11-27T00:00:00",
          "2023-11-27T00:00:00",
          "2023-11-27T00:00:00",
          "2023-11-27T00:00:00",
          "2023-11-27T00:00:00",
          "2023-11-27T00:00:00",
          "2023-11-27T00:00:00",
          "2023-11-28T00:00:00",
          "2023-11-28T00:00:00",
          "2023-11-29T00:00:00",
          "2023-11-29T00:00:00",
          "2023-11-30T00:00:00",
          "2023-11-30T00:00:00",
          "2023-11-30T00:00:00",
          "2023-11-30T00:00:00",
          "2023-12-01T00:00:00",
          "2023-12-01T00:00:00",
          "2023-12-01T00:00:00",
          "2023-12-01T00:00:00",
          "2023-12-01T00:00:00",
          "2023-12-03T00:00:00",
          "2023-12-03T00:00:00",
          "2023-12-04T00:00:00",
          "2023-12-04T00:00:00",
          "2023-12-05T00:00:00",
          "2023-12-05T00:00:00",
          "2023-12-05T00:00:00",
          "2023-12-06T00:00:00",
          "2023-12-06T00:00:00",
          "2023-12-07T00:00:00",
          "2023-12-08T00:00:00",
          "2023-12-08T00:00:00",
          "2023-12-08T00:00:00",
          "2023-12-09T00:00:00",
          "2023-12-10T00:00:00",
          "2023-12-10T00:00:00",
          "2023-12-10T00:00:00",
          "2023-12-11T00:00:00",
          "2023-12-12T00:00:00",
          "2023-12-12T00:00:00",
          "2023-12-12T00:00:00",
          "2023-12-13T00:00:00",
          "2023-12-13T00:00:00",
          "2023-12-13T00:00:00",
          "2023-12-13T00:00:00",
          "2023-12-13T00:00:00",
          "2023-12-13T00:00:00",
          "2023-12-14T00:00:00",
          "2023-12-14T00:00:00",
          "2023-12-14T00:00:00",
          "2023-12-15T00:00:00",
          "2023-12-15T00:00:00",
          "2023-12-15T00:00:00",
          "2023-12-15T00:00:00",
          "2023-12-16T00:00:00",
          "2023-12-16T00:00:00",
          "2023-12-16T00:00:00",
          "2023-12-18T00:00:00",
          "2023-12-18T00:00:00",
          "2023-12-18T00:00:00",
          "2023-12-19T00:00:00",
          "2023-12-19T00:00:00",
          "2023-12-19T00:00:00",
          "2023-12-20T00:00:00",
          "2023-12-20T00:00:00",
          "2023-12-21T00:00:00",
          "2023-12-21T00:00:00",
          "2023-12-21T00:00:00",
          "2023-12-22T00:00:00",
          "2023-12-24T00:00:00",
          "2023-12-25T00:00:00",
          "2023-12-25T00:00:00",
          "2023-12-25T00:00:00",
          "2023-12-25T00:00:00",
          "2023-12-25T00:00:00",
          "2023-12-26T00:00:00",
          "2023-12-26T00:00:00",
          "2023-12-26T00:00:00",
          "2023-12-27T00:00:00",
          "2023-12-27T00:00:00",
          "2023-12-27T00:00:00",
          "2023-12-27T00:00:00",
          "2023-12-28T00:00:00",
          "2023-12-28T00:00:00",
          "2023-12-29T00:00:00",
          "2023-12-30T00:00:00",
          "2023-12-30T00:00:00",
          "2023-12-30T00:00:00",
          "2024-01-01T00:00:00",
          "2024-01-03T00:00:00",
          "2024-01-03T00:00:00",
          "2024-01-04T00:00:00",
          "2024-01-04T00:00:00",
          "2024-01-04T00:00:00",
          "2024-01-05T00:00:00",
          "2024-01-05T00:00:00",
          "2024-01-06T00:00:00",
          "2024-01-08T00:00:00",
          "2024-01-08T00:00:00",
          "2024-01-09T00:00:00",
          "2024-01-10T00:00:00",
          "2024-01-10T00:00:00",
          "2024-01-11T00:00:00",
          "2024-01-11T00:00:00",
          "2024-01-11T00:00:00",
          "2024-01-12T00:00:00",
          "2024-01-12T00:00:00",
          "2024-01-12T00:00:00",
          "2024-01-12T00:00:00",
          "2024-01-12T00:00:00",
          "2024-01-12T00:00:00",
          "2024-01-13T00:00:00",
          "2024-01-13T00:00:00",
          "2024-01-13T00:00:00",
          "2024-01-13T00:00:00",
          "2024-01-13T00:00:00",
          "2024-01-14T00:00:00",
          "2024-01-14T00:00:00",
          "2024-01-14T00:00:00",
          "2024-01-14T00:00:00",
          "2024-01-14T00:00:00",
          "2024-01-14T00:00:00",
          "2024-01-14T00:00:00",
          "2024-01-14T00:00:00",
          "2024-01-15T00:00:00",
          "2024-01-15T00:00:00",
          "2024-01-16T00:00:00",
          "2024-01-16T00:00:00",
          "2024-01-16T00:00:00",
          "2024-01-17T00:00:00",
          "2024-01-17T00:00:00",
          "2024-01-17T00:00:00",
          "2024-01-18T00:00:00",
          "2024-01-18T00:00:00",
          "2024-01-18T00:00:00",
          "2024-01-18T00:00:00",
          "2024-01-19T00:00:00",
          "2024-01-19T00:00:00",
          "2024-01-19T00:00:00",
          "2024-01-19T00:00:00",
          "2024-01-20T00:00:00",
          "2024-01-21T00:00:00",
          "2024-01-22T00:00:00",
          "2024-01-22T00:00:00",
          "2024-01-23T00:00:00",
          "2024-01-23T00:00:00",
          "2024-01-24T00:00:00",
          "2024-01-24T00:00:00",
          "2024-01-25T00:00:00",
          "2024-01-25T00:00:00",
          "2024-01-26T00:00:00",
          "2024-01-26T00:00:00",
          "2024-01-27T00:00:00",
          "2024-01-28T00:00:00",
          "2024-01-28T00:00:00",
          "2024-01-30T00:00:00",
          "2024-01-30T00:00:00",
          "2024-01-31T00:00:00",
          "2024-02-01T00:00:00",
          "2024-02-01T00:00:00",
          "2024-02-02T00:00:00",
          "2024-02-02T00:00:00",
          "2024-02-02T00:00:00",
          "2024-02-04T00:00:00",
          "2024-02-05T00:00:00",
          "2024-02-05T00:00:00",
          "2024-02-05T00:00:00",
          "2024-02-05T00:00:00",
          "2024-02-06T00:00:00",
          "2024-02-06T00:00:00",
          "2024-02-06T00:00:00",
          "2024-02-06T00:00:00",
          "2024-02-07T00:00:00",
          "2024-02-07T00:00:00",
          "2024-02-07T00:00:00",
          "2024-02-07T00:00:00",
          "2024-02-07T00:00:00",
          "2024-02-08T00:00:00",
          "2024-02-08T00:00:00",
          "2024-02-08T00:00:00",
          "2024-02-09T00:00:00",
          "2024-02-09T00:00:00",
          "2024-02-12T00:00:00",
          "2024-02-13T00:00:00",
          "2024-02-13T00:00:00",
          "2024-02-13T00:00:00",
          "2024-02-14T00:00:00",
          "2024-02-14T00:00:00",
          "2024-02-14T00:00:00",
          "2024-02-14T00:00:00",
          "2024-02-15T00:00:00",
          "2024-02-15T00:00:00",
          "2024-02-16T00:00:00",
          "2024-02-16T00:00:00",
          "2024-02-16T00:00:00",
          "2024-02-17T00:00:00",
          "2024-02-18T00:00:00",
          "2024-02-18T00:00:00",
          "2024-02-19T00:00:00",
          "2024-02-20T00:00:00",
          "2024-02-20T00:00:00",
          "2024-02-20T00:00:00",
          "2024-02-21T00:00:00",
          "2024-02-21T00:00:00",
          "2024-02-22T00:00:00",
          "2024-02-22T00:00:00",
          "2024-02-22T00:00:00",
          "2024-02-23T00:00:00",
          "2024-02-25T00:00:00",
          "2024-02-25T00:00:00",
          "2024-02-25T00:00:00",
          "2024-02-25T00:00:00",
          "2024-02-25T00:00:00",
          "2024-02-26T00:00:00",
          "2024-02-27T00:00:00",
          "2024-02-27T00:00:00",
          "2024-02-28T00:00:00",
          "2024-02-29T00:00:00",
          "2024-02-29T00:00:00",
          "2024-02-29T00:00:00",
          "2024-02-29T00:00:00",
          "2024-03-01T00:00:00",
          "2024-03-01T00:00:00",
          "2024-03-02T00:00:00",
          "2024-03-03T00:00:00",
          "2024-03-04T00:00:00",
          "2024-03-05T00:00:00",
          "2024-03-05T00:00:00",
          "2024-03-05T00:00:00",
          "2024-03-05T00:00:00",
          "2024-03-06T00:00:00",
          "2024-03-06T00:00:00",
          "2024-03-07T00:00:00",
          "2024-03-07T00:00:00",
          "2024-03-08T00:00:00",
          "2024-03-09T00:00:00",
          "2024-03-10T00:00:00",
          "2024-03-11T00:00:00",
          "2024-03-12T00:00:00",
          "2024-03-12T00:00:00",
          "2024-03-13T00:00:00",
          "2024-03-13T00:00:00",
          "2024-03-13T00:00:00",
          "2024-03-13T00:00:00",
          "2024-03-13T00:00:00",
          "2024-03-14T00:00:00",
          "2024-03-14T00:00:00",
          "2024-03-14T00:00:00",
          "2024-03-14T00:00:00",
          "2024-03-15T00:00:00",
          "2024-03-15T00:00:00",
          "2024-03-15T00:00:00",
          "2024-03-16T00:00:00",
          "2024-03-16T00:00:00",
          "2024-03-16T00:00:00",
          "2024-03-17T00:00:00",
          "2024-03-18T00:00:00",
          "2024-03-18T00:00:00",
          "2024-03-19T00:00:00",
          "2024-03-19T00:00:00",
          "2024-03-19T00:00:00",
          "2024-03-20T00:00:00",
          "2024-03-20T00:00:00",
          "2024-03-20T00:00:00",
          "2024-03-20T00:00:00",
          "2024-03-21T00:00:00"
         ],
         "xaxis": "x",
         "y": [
          175,
          323,
          248,
          120,
          238.49,
          28,
          170,
          28,
          200,
          170,
          218.75,
          333,
          425.45,
          28,
          28,
          28,
          28,
          308.97,
          366.48,
          155,
          73.8,
          185,
          150,
          464.75,
          747,
          84,
          28,
          315.51,
          95,
          289,
          180,
          299,
          324.47,
          230,
          28,
          743.64,
          120,
          124.98,
          323,
          357.04,
          28,
          28,
          107.4,
          28,
          179.98,
          200,
          259,
          299,
          155,
          80,
          183.09,
          195,
          168.17,
          600.19,
          100,
          113.57,
          180,
          140,
          28,
          488.41,
          46,
          319,
          28,
          1355.89,
          155,
          79.99,
          100,
          118.97,
          761.37,
          60,
          170,
          124.98,
          230,
          229,
          179,
          200,
          279.98,
          130,
          120,
          180,
          640.39,
          154.97,
          200,
          125,
          200,
          173.48,
          37.99,
          125,
          90,
          1045.35,
          105,
          252.37,
          225,
          415.95,
          140,
          278,
          97,
          517.27,
          175,
          159.99,
          195,
          426.92,
          216,
          169.99,
          210,
          93.5,
          180,
          162.97,
          55.4,
          80,
          410.95,
          349,
          85,
          175,
          562,
          299,
          100,
          221.68,
          254.98,
          180,
          200,
          100,
          127.98,
          165,
          359,
          145,
          240,
          484.97,
          145,
          170,
          193,
          694.33,
          180,
          145,
          175,
          289,
          712.27,
          155,
          568,
          28,
          235,
          299,
          202.18,
          269,
          254.97,
          230,
          299,
          190,
          270,
          196,
          134,
          364.15,
          180,
          125,
          273.37,
          319.55,
          130,
          307.85,
          140,
          77.98,
          299,
          200,
          55.99,
          280,
          120,
          359,
          488.87,
          1000,
          411.04,
          155,
          155.34,
          110,
          28,
          230,
          120,
          285,
          359,
          170,
          175,
          28,
          28,
          146.59,
          1198,
          29,
          29,
          29,
          228,
          29,
          319,
          219.98,
          175,
          199,
          164.99,
          279,
          29,
          179,
          29,
          24,
          502.98,
          29,
          109.98,
          29,
          199,
          457,
          29,
          83.89,
          323,
          199,
          248,
          219,
          29,
          127,
          219.98,
          243.98,
          248,
          48,
          56,
          328,
          252.82,
          200,
          320,
          2035,
          339.95,
          109.9,
          564,
          401,
          285,
          200,
          89.99,
          900,
          877.45,
          323,
          250,
          462,
          603,
          500,
          753,
          1678,
          350,
          1160,
          200,
          97,
          551.65,
          300,
          368,
          32.4,
          189,
          289,
          200,
          162,
          669,
          195,
          379,
          130,
          1408,
          32.4,
          280,
          245,
          280,
          226,
          32.4,
          200,
          310.17,
          215,
          211,
          110,
          259.98,
          290,
          210,
          125,
          230,
          635,
          300,
          32.4,
          228.07,
          190,
          353,
          32.4,
          1077,
          51.3,
          270,
          339,
          32.4,
          410.35,
          126,
          229.98,
          145,
          249,
          200,
          195,
          32.4,
          345,
          24.7,
          28,
          503,
          333,
          353,
          79,
          116.34,
          769,
          370,
          314.98,
          280,
          469.36,
          32.4,
          114,
          24.4,
          590,
          299,
          967.36,
          4500,
          269.97,
          32.4,
          32.4,
          359,
          335.94,
          49,
          32.4,
          630,
          24.4,
          292,
          249,
          348,
          159.38,
          349,
          420.84,
          34.8,
          194,
          280,
          132.5,
          32.4,
          190,
          32.4,
          51.3,
          32.4,
          209.89,
          276.79,
          51.3,
          939,
          270,
          249.37,
          106,
          179,
          64.8,
          243,
          448.96,
          51.3,
          32.4,
          634,
          239,
          130.38,
          380,
          31.8,
          32.4,
          348.37,
          255,
          280,
          199.97,
          299,
          402.96,
          349,
          390.96,
          304.5,
          199.66,
          23.4,
          70,
          237.89,
          122,
          695.59,
          32.4,
          32.4,
          64.8,
          147,
          245,
          290,
          288,
          320,
          67,
          70,
          32.4,
          490,
          32.4,
          302.96,
          360,
          270,
          366.96,
          456,
          375,
          121,
          150,
          982.55,
          295,
          51.3,
          562.94,
          300,
          32.4,
          140,
          164.99,
          532,
          837,
          244,
          129,
          258,
          374,
          222,
          32.4,
          323,
          32.4,
          350,
          90,
          32.4,
          1510.61,
          32.4,
          225,
          143,
          567,
          300,
          370,
          256.97,
          260,
          399,
          85,
          320,
          980,
          260,
          130.97,
          200,
          822.35,
          250,
          91,
          72,
          93.5,
          36,
          113.4,
          38,
          666.4,
          70,
          32.4,
          280,
          64.8,
          385,
          280.98,
          129.6,
          651,
          150,
          300,
          200,
          100,
          223.44,
          300,
          200,
          69,
          293,
          502,
          230,
          420.74,
          106,
          424,
          32.4,
          32.4,
          211.67,
          570,
          154.98,
          51.3,
          32.4,
          280,
          32.4,
          420,
          179.99,
          2390,
          200,
          102.5,
          116,
          350,
          408,
          32.4,
          32.4,
          32.4,
          258.98,
          313,
          224,
          417,
          32.4,
          27.8,
          334,
          64.8,
          350,
          678.1,
          32.4,
          133,
          330,
          381,
          175,
          407,
          202,
          350,
          409.96,
          250,
          491,
          269,
          400,
          117,
          337,
          32.4,
          154,
          400,
          1061.92,
          350,
          116,
          32.4,
          326.52,
          220,
          894,
          548,
          51.3,
          3080,
          166,
          30,
          30,
          30,
          30,
          30,
          462,
          416,
          253,
          480,
          240,
          644.88,
          400,
          370,
          912,
          210,
          51.3,
          604.96,
          400,
          242,
          135,
          197,
          1471,
          155,
          68,
          150,
          312,
          32.4,
          50,
          1390,
          323,
          51.3,
          390,
          102,
          45,
          129,
          359.97,
          350,
          696,
          400,
          150,
          250,
          440,
          447,
          211,
          145,
          370,
          699.95,
          143,
          155,
          480,
          200,
          414.95,
          504.97,
          948,
          420.97,
          370,
          250,
          724.96,
          320,
          569,
          460,
          296,
          230,
          1036.35,
          99,
          99,
          508.43,
          370,
          499.5,
          399.97,
          460,
          323.42,
          380,
          370,
          997.83,
          220,
          380,
          152,
          922.37,
          110.5,
          109,
          380,
          132,
          532,
          380,
          449.97,
          259.98,
          2500,
          206,
          32.4,
          255,
          100,
          460,
          67.33,
          380,
          323,
          380,
          377,
          380,
          78.79,
          548,
          192,
          32.4,
          279,
          53,
          320,
          356.98,
          511.96,
          99,
          99,
          256.27,
          380,
          1249.32,
          222,
          51.3,
          361,
          380,
          328.47,
          1373,
          766.07,
          520,
          234.98,
          389,
          1458,
          32.4,
          460,
          380,
          420,
          230,
          350,
          99,
          699,
          99,
          460,
          389.55,
          793.21,
          208,
          380,
          410,
          745.34,
          51.3,
          318,
          460,
          155,
          320,
          598.46,
          296.12,
          553.88,
          606,
          440,
          51.3,
          323,
          32.4,
          198,
          200,
          404.97,
          148.09,
          146,
          295,
          188,
          657,
          241,
          240,
          434.97,
          32.4,
          275,
          136,
          888.43,
          410,
          401.26,
          39,
          440,
          32.4,
          82,
          460,
          265,
          212,
          460
         ],
         "yaxis": "y"
        },
        {
         "hovertemplate": "has_comment=True<br>date=%{x}<br>outcome=%{y}<extra></extra>",
         "legendgroup": "True",
         "marker": {
          "color": "#EF553B",
          "symbol": "circle"
         },
         "mode": "markers",
         "name": "True",
         "showlegend": true,
         "type": "scattergl",
         "x": [
          "2023-03-17T00:00:00",
          "2023-03-18T00:00:00",
          "2023-03-18T00:00:00",
          "2023-03-19T00:00:00",
          "2023-03-20T00:00:00",
          "2023-03-23T00:00:00",
          "2023-03-24T00:00:00",
          "2023-03-24T00:00:00",
          "2023-03-26T00:00:00",
          "2023-03-28T00:00:00",
          "2023-03-28T00:00:00",
          "2023-04-05T00:00:00",
          "2023-04-06T00:00:00",
          "2023-04-07T00:00:00",
          "2023-04-07T00:00:00",
          "2023-04-07T00:00:00",
          "2023-04-08T00:00:00",
          "2023-04-09T00:00:00",
          "2023-04-10T00:00:00",
          "2023-04-13T00:00:00",
          "2023-04-13T00:00:00",
          "2023-04-14T00:00:00",
          "2023-04-15T00:00:00",
          "2023-04-16T00:00:00",
          "2023-04-16T00:00:00",
          "2023-04-19T00:00:00",
          "2023-04-19T00:00:00",
          "2023-04-20T00:00:00",
          "2023-04-20T00:00:00",
          "2023-04-20T00:00:00",
          "2023-04-20T00:00:00",
          "2023-04-21T00:00:00",
          "2023-04-22T00:00:00",
          "2023-04-22T00:00:00",
          "2023-04-27T00:00:00",
          "2023-04-29T00:00:00",
          "2023-04-29T00:00:00",
          "2023-04-29T00:00:00",
          "2023-04-30T00:00:00",
          "2023-04-30T00:00:00",
          "2023-05-02T00:00:00",
          "2023-05-05T00:00:00",
          "2023-05-05T00:00:00",
          "2023-05-06T00:00:00",
          "2023-05-06T00:00:00",
          "2023-05-07T00:00:00",
          "2023-05-08T00:00:00",
          "2023-05-10T00:00:00",
          "2023-05-11T00:00:00",
          "2023-05-13T00:00:00",
          "2023-05-14T00:00:00",
          "2023-05-14T00:00:00",
          "2023-05-16T00:00:00",
          "2023-05-16T00:00:00",
          "2023-05-16T00:00:00",
          "2023-05-18T00:00:00",
          "2023-05-18T00:00:00",
          "2023-05-19T00:00:00",
          "2023-05-20T00:00:00",
          "2023-05-21T00:00:00",
          "2023-05-24T00:00:00",
          "2023-05-26T00:00:00",
          "2023-05-27T00:00:00",
          "2023-05-28T00:00:00",
          "2023-05-28T00:00:00",
          "2023-05-28T00:00:00",
          "2023-05-29T00:00:00",
          "2023-05-30T00:00:00",
          "2023-05-31T00:00:00",
          "2023-06-01T00:00:00",
          "2023-06-01T00:00:00",
          "2023-06-01T00:00:00",
          "2023-06-01T00:00:00",
          "2023-06-01T00:00:00",
          "2023-06-01T00:00:00",
          "2023-06-01T00:00:00",
          "2023-06-02T00:00:00",
          "2023-06-02T00:00:00",
          "2023-06-03T00:00:00",
          "2023-06-03T00:00:00",
          "2023-06-05T00:00:00",
          "2023-06-05T00:00:00",
          "2023-06-05T00:00:00",
          "2023-06-05T00:00:00",
          "2023-06-05T00:00:00",
          "2023-06-06T00:00:00",
          "2023-06-07T00:00:00",
          "2023-06-08T00:00:00",
          "2023-06-10T00:00:00",
          "2023-06-10T00:00:00",
          "2023-06-11T00:00:00",
          "2023-06-12T00:00:00",
          "2023-06-12T00:00:00",
          "2023-06-12T00:00:00",
          "2023-06-13T00:00:00",
          "2023-06-15T00:00:00",
          "2023-06-16T00:00:00",
          "2023-06-17T00:00:00",
          "2023-06-17T00:00:00",
          "2023-06-18T00:00:00",
          "2023-06-18T00:00:00",
          "2023-06-18T00:00:00",
          "2023-06-18T00:00:00",
          "2023-06-18T00:00:00",
          "2023-06-19T00:00:00",
          "2023-06-19T00:00:00",
          "2023-06-19T00:00:00",
          "2023-06-20T00:00:00",
          "2023-06-20T00:00:00",
          "2023-06-20T00:00:00",
          "2023-06-20T00:00:00",
          "2023-06-22T00:00:00",
          "2023-06-23T00:00:00",
          "2023-06-25T00:00:00",
          "2023-06-27T00:00:00",
          "2023-06-28T00:00:00",
          "2023-06-28T00:00:00",
          "2023-06-29T00:00:00",
          "2023-06-29T00:00:00",
          "2023-06-29T00:00:00",
          "2023-06-30T00:00:00",
          "2023-06-30T00:00:00",
          "2023-06-30T00:00:00",
          "2023-06-30T00:00:00",
          "2023-07-01T00:00:00",
          "2023-07-01T00:00:00",
          "2023-07-01T00:00:00",
          "2023-07-01T00:00:00",
          "2023-07-02T00:00:00",
          "2023-07-02T00:00:00",
          "2023-07-02T00:00:00",
          "2023-07-02T00:00:00",
          "2023-07-02T00:00:00",
          "2023-07-02T00:00:00",
          "2023-07-02T00:00:00",
          "2023-07-02T00:00:00",
          "2023-07-03T00:00:00",
          "2023-07-04T00:00:00",
          "2023-07-04T00:00:00",
          "2023-07-05T00:00:00",
          "2023-07-05T00:00:00",
          "2023-07-05T00:00:00",
          "2023-07-06T00:00:00",
          "2023-07-06T00:00:00",
          "2023-07-07T00:00:00",
          "2023-07-07T00:00:00",
          "2023-07-08T00:00:00",
          "2023-07-09T00:00:00",
          "2023-07-10T00:00:00",
          "2023-07-10T00:00:00",
          "2023-07-11T00:00:00",
          "2023-07-11T00:00:00",
          "2023-07-13T00:00:00",
          "2023-07-14T00:00:00",
          "2023-07-14T00:00:00",
          "2023-07-15T00:00:00",
          "2023-07-16T00:00:00",
          "2023-07-18T00:00:00",
          "2023-07-20T00:00:00",
          "2023-07-20T00:00:00",
          "2023-07-20T00:00:00",
          "2023-07-25T00:00:00",
          "2023-07-25T00:00:00",
          "2023-07-26T00:00:00",
          "2023-07-26T00:00:00",
          "2023-07-27T00:00:00",
          "2023-07-27T00:00:00",
          "2023-07-27T00:00:00",
          "2023-07-29T00:00:00",
          "2023-07-29T00:00:00",
          "2023-08-03T00:00:00",
          "2023-08-03T00:00:00",
          "2023-08-03T00:00:00",
          "2023-08-04T00:00:00",
          "2023-08-05T00:00:00",
          "2023-08-05T00:00:00",
          "2023-08-05T00:00:00",
          "2023-08-05T00:00:00",
          "2023-08-06T00:00:00",
          "2023-08-07T00:00:00",
          "2023-08-07T00:00:00",
          "2023-08-07T00:00:00",
          "2023-08-07T00:00:00",
          "2023-08-08T00:00:00",
          "2023-08-08T00:00:00",
          "2023-08-09T00:00:00",
          "2023-08-09T00:00:00",
          "2023-08-09T00:00:00",
          "2023-08-10T00:00:00",
          "2023-08-10T00:00:00",
          "2023-08-10T00:00:00",
          "2023-08-11T00:00:00",
          "2023-08-11T00:00:00",
          "2023-08-12T00:00:00",
          "2023-08-12T00:00:00",
          "2023-08-12T00:00:00",
          "2023-08-13T00:00:00",
          "2023-08-13T00:00:00",
          "2023-08-13T00:00:00",
          "2023-08-13T00:00:00",
          "2023-08-13T00:00:00",
          "2023-08-14T00:00:00",
          "2023-08-14T00:00:00",
          "2023-08-14T00:00:00",
          "2023-08-14T00:00:00",
          "2023-08-14T00:00:00",
          "2023-08-14T00:00:00",
          "2023-08-14T00:00:00",
          "2023-08-15T00:00:00",
          "2023-08-15T00:00:00",
          "2023-08-15T00:00:00",
          "2023-08-15T00:00:00",
          "2023-08-15T00:00:00",
          "2023-08-15T00:00:00",
          "2023-08-15T00:00:00",
          "2023-08-15T00:00:00",
          "2023-08-16T00:00:00",
          "2023-08-16T00:00:00",
          "2023-08-16T00:00:00",
          "2023-08-17T00:00:00",
          "2023-08-17T00:00:00",
          "2023-08-17T00:00:00",
          "2023-08-17T00:00:00",
          "2023-08-17T00:00:00",
          "2023-08-18T00:00:00",
          "2023-08-18T00:00:00",
          "2023-08-19T00:00:00",
          "2023-08-19T00:00:00",
          "2023-08-19T00:00:00",
          "2023-08-19T00:00:00",
          "2023-08-19T00:00:00",
          "2023-08-19T00:00:00",
          "2023-08-19T00:00:00",
          "2023-08-19T00:00:00",
          "2023-08-19T00:00:00",
          "2023-08-19T00:00:00",
          "2023-08-20T00:00:00",
          "2023-08-20T00:00:00",
          "2023-08-20T00:00:00",
          "2023-08-21T00:00:00",
          "2023-08-22T00:00:00",
          "2023-08-23T00:00:00",
          "2023-08-24T00:00:00",
          "2023-08-24T00:00:00",
          "2023-08-25T00:00:00",
          "2023-08-26T00:00:00",
          "2023-08-26T00:00:00",
          "2023-08-26T00:00:00",
          "2023-08-27T00:00:00",
          "2023-08-27T00:00:00",
          "2023-08-27T00:00:00",
          "2023-08-28T00:00:00",
          "2023-08-28T00:00:00",
          "2023-08-28T00:00:00",
          "2023-08-28T00:00:00",
          "2023-08-30T00:00:00",
          "2023-08-30T00:00:00",
          "2023-09-01T00:00:00",
          "2023-09-01T00:00:00",
          "2023-09-01T00:00:00",
          "2023-09-02T00:00:00",
          "2023-09-03T00:00:00",
          "2023-09-03T00:00:00",
          "2023-09-04T00:00:00",
          "2023-09-05T00:00:00",
          "2023-09-05T00:00:00",
          "2023-09-06T00:00:00",
          "2023-09-06T00:00:00",
          "2023-09-06T00:00:00",
          "2023-09-06T00:00:00",
          "2023-09-07T00:00:00",
          "2023-09-08T00:00:00",
          "2023-09-08T00:00:00",
          "2023-09-09T00:00:00",
          "2023-09-11T00:00:00",
          "2023-09-11T00:00:00",
          "2023-09-11T00:00:00",
          "2023-09-11T00:00:00",
          "2023-09-13T00:00:00",
          "2023-09-14T00:00:00",
          "2023-09-14T00:00:00",
          "2023-09-14T00:00:00",
          "2023-09-14T00:00:00",
          "2023-09-14T00:00:00",
          "2023-09-16T00:00:00",
          "2023-09-16T00:00:00",
          "2023-09-18T00:00:00",
          "2023-09-18T00:00:00",
          "2023-09-18T00:00:00",
          "2023-09-19T00:00:00",
          "2023-09-20T00:00:00",
          "2023-09-21T00:00:00",
          "2023-09-21T00:00:00",
          "2023-09-22T00:00:00",
          "2023-09-23T00:00:00",
          "2023-09-24T00:00:00",
          "2023-09-24T00:00:00",
          "2023-09-25T00:00:00",
          "2023-09-25T00:00:00",
          "2023-09-27T00:00:00",
          "2023-09-30T00:00:00",
          "2023-10-01T00:00:00",
          "2023-10-01T00:00:00",
          "2023-10-01T00:00:00",
          "2023-10-01T00:00:00",
          "2023-10-01T00:00:00",
          "2023-10-02T00:00:00",
          "2023-10-03T00:00:00",
          "2023-10-04T00:00:00",
          "2023-10-04T00:00:00",
          "2023-10-04T00:00:00",
          "2023-10-05T00:00:00",
          "2023-10-06T00:00:00",
          "2023-10-06T00:00:00",
          "2023-10-06T00:00:00",
          "2023-10-06T00:00:00",
          "2023-10-06T00:00:00",
          "2023-10-06T00:00:00",
          "2023-10-07T00:00:00",
          "2023-10-07T00:00:00",
          "2023-10-07T00:00:00",
          "2023-10-08T00:00:00",
          "2023-10-09T00:00:00",
          "2023-10-09T00:00:00",
          "2023-10-09T00:00:00",
          "2023-10-10T00:00:00",
          "2023-10-10T00:00:00",
          "2023-10-11T00:00:00",
          "2023-10-11T00:00:00",
          "2023-10-13T00:00:00",
          "2023-10-14T00:00:00",
          "2023-10-14T00:00:00",
          "2023-10-16T00:00:00",
          "2023-10-20T00:00:00",
          "2023-10-21T00:00:00",
          "2023-10-24T00:00:00",
          "2023-10-26T00:00:00",
          "2023-10-26T00:00:00",
          "2023-10-26T00:00:00",
          "2023-10-29T00:00:00",
          "2023-10-31T00:00:00",
          "2023-11-01T00:00:00",
          "2023-11-01T00:00:00",
          "2023-11-03T00:00:00",
          "2023-11-03T00:00:00",
          "2023-11-05T00:00:00",
          "2023-11-08T00:00:00",
          "2023-11-08T00:00:00",
          "2023-11-08T00:00:00",
          "2023-11-09T00:00:00",
          "2023-11-10T00:00:00",
          "2023-11-12T00:00:00",
          "2023-11-12T00:00:00",
          "2023-11-13T00:00:00",
          "2023-11-16T00:00:00",
          "2023-11-17T00:00:00",
          "2023-11-18T00:00:00",
          "2023-11-18T00:00:00",
          "2023-11-18T00:00:00",
          "2023-11-23T00:00:00",
          "2023-11-26T00:00:00",
          "2023-11-27T00:00:00",
          "2023-11-27T00:00:00",
          "2023-11-29T00:00:00",
          "2023-12-01T00:00:00",
          "2023-12-03T00:00:00",
          "2023-12-05T00:00:00",
          "2023-12-06T00:00:00",
          "2023-12-07T00:00:00",
          "2023-12-08T00:00:00",
          "2023-12-09T00:00:00",
          "2023-12-09T00:00:00",
          "2023-12-11T00:00:00",
          "2023-12-11T00:00:00",
          "2023-12-11T00:00:00",
          "2023-12-13T00:00:00",
          "2023-12-14T00:00:00",
          "2023-12-14T00:00:00",
          "2023-12-14T00:00:00",
          "2023-12-15T00:00:00",
          "2023-12-16T00:00:00",
          "2023-12-16T00:00:00",
          "2023-12-17T00:00:00",
          "2023-12-17T00:00:00",
          "2023-12-17T00:00:00",
          "2023-12-18T00:00:00",
          "2023-12-19T00:00:00",
          "2023-12-20T00:00:00",
          "2023-12-20T00:00:00",
          "2023-12-22T00:00:00",
          "2023-12-22T00:00:00",
          "2023-12-23T00:00:00",
          "2023-12-23T00:00:00",
          "2023-12-23T00:00:00",
          "2023-12-24T00:00:00",
          "2023-12-25T00:00:00",
          "2023-12-25T00:00:00",
          "2023-12-26T00:00:00",
          "2023-12-28T00:00:00",
          "2023-12-28T00:00:00",
          "2023-12-29T00:00:00",
          "2023-12-30T00:00:00",
          "2023-12-30T00:00:00",
          "2023-12-30T00:00:00",
          "2023-12-30T00:00:00",
          "2023-12-30T00:00:00",
          "2023-12-30T00:00:00",
          "2023-12-30T00:00:00",
          "2023-12-31T00:00:00",
          "2023-12-31T00:00:00",
          "2024-01-03T00:00:00",
          "2024-01-03T00:00:00",
          "2024-01-04T00:00:00",
          "2024-01-04T00:00:00",
          "2024-01-04T00:00:00",
          "2024-01-04T00:00:00",
          "2024-01-05T00:00:00",
          "2024-01-05T00:00:00",
          "2024-01-06T00:00:00",
          "2024-01-06T00:00:00",
          "2024-01-07T00:00:00",
          "2024-01-07T00:00:00",
          "2024-01-08T00:00:00",
          "2024-01-09T00:00:00",
          "2024-01-10T00:00:00",
          "2024-01-13T00:00:00",
          "2024-01-13T00:00:00",
          "2024-01-13T00:00:00",
          "2024-01-14T00:00:00",
          "2024-01-14T00:00:00",
          "2024-01-16T00:00:00",
          "2024-01-20T00:00:00",
          "2024-01-23T00:00:00",
          "2024-01-27T00:00:00",
          "2024-01-27T00:00:00",
          "2024-01-27T00:00:00",
          "2024-01-27T00:00:00",
          "2024-01-27T00:00:00",
          "2024-01-27T00:00:00",
          "2024-01-28T00:00:00",
          "2024-01-28T00:00:00",
          "2024-01-29T00:00:00",
          "2024-02-01T00:00:00",
          "2024-02-02T00:00:00",
          "2024-02-05T00:00:00",
          "2024-02-05T00:00:00",
          "2024-02-09T00:00:00",
          "2024-02-10T00:00:00",
          "2024-02-10T00:00:00",
          "2024-02-10T00:00:00",
          "2024-02-11T00:00:00",
          "2024-02-12T00:00:00",
          "2024-02-13T00:00:00",
          "2024-02-15T00:00:00",
          "2024-02-17T00:00:00",
          "2024-02-17T00:00:00",
          "2024-02-17T00:00:00",
          "2024-02-21T00:00:00",
          "2024-02-21T00:00:00",
          "2024-02-24T00:00:00",
          "2024-02-24T00:00:00",
          "2024-02-24T00:00:00",
          "2024-02-24T00:00:00",
          "2024-02-26T00:00:00",
          "2024-02-26T00:00:00",
          "2024-02-27T00:00:00",
          "2024-02-29T00:00:00",
          "2024-02-29T00:00:00",
          "2024-02-29T00:00:00",
          "2024-03-02T00:00:00",
          "2024-03-03T00:00:00",
          "2024-03-03T00:00:00",
          "2024-03-03T00:00:00",
          "2024-03-03T00:00:00",
          "2024-03-03T00:00:00",
          "2024-03-04T00:00:00",
          "2024-03-04T00:00:00",
          "2024-03-05T00:00:00",
          "2024-03-05T00:00:00",
          "2024-03-05T00:00:00",
          "2024-03-05T00:00:00",
          "2024-03-05T00:00:00",
          "2024-03-05T00:00:00",
          "2024-03-06T00:00:00",
          "2024-03-06T00:00:00",
          "2024-03-06T00:00:00",
          "2024-03-08T00:00:00",
          "2024-03-08T00:00:00",
          "2024-03-09T00:00:00",
          "2024-03-11T00:00:00",
          "2024-03-13T00:00:00",
          "2024-03-16T00:00:00",
          "2024-03-18T00:00:00",
          "2024-03-18T00:00:00",
          "2024-03-19T00:00:00",
          "2024-03-20T00:00:00"
         ],
         "xaxis": "x",
         "y": [
          62.6,
          167,
          214,
          342,
          100,
          299,
          185,
          194.5,
          300,
          91.58,
          2083,
          149,
          363.4,
          200,
          59,
          180,
          188,
          174.27,
          525.07,
          1077,
          100,
          85,
          100,
          2975,
          66.66,
          290,
          299,
          210,
          199,
          250,
          475,
          160,
          1200,
          122,
          200,
          200,
          75,
          1170,
          3024,
          80,
          100,
          451,
          149,
          690,
          150,
          175,
          79.99,
          1200,
          418,
          200,
          138,
          466,
          2500,
          400,
          2983,
          290,
          299,
          200,
          213.76,
          2290,
          50,
          40,
          558,
          97,
          300,
          510,
          40,
          1139.09,
          1000,
          93.5,
          350,
          289,
          259,
          335,
          542,
          100,
          186.84,
          179.99,
          730,
          126.18,
          80.7,
          300,
          149,
          167.5,
          494.94,
          1094,
          325,
          280,
          299,
          445.53,
          40,
          350,
          392.93,
          1395,
          536,
          359,
          430,
          290,
          299,
          650,
          130,
          359,
          389,
          225.17,
          405,
          1000,
          190,
          505,
          707.41,
          105,
          560,
          140,
          404,
          540,
          219,
          663,
          104.99,
          320,
          155.58,
          100,
          1174,
          355.96,
          172.78,
          142.08,
          100,
          170,
          700,
          533,
          1000,
          187,
          600,
          150,
          76,
          325,
          135,
          354,
          149.9,
          4400,
          319,
          59,
          149,
          1400,
          759.99,
          630,
          560,
          18.99,
          201.97,
          148.5,
          89,
          156,
          812,
          49.99,
          2800,
          64.99,
          369,
          199,
          428,
          299,
          866,
          215.97,
          76.09,
          104.99,
          216.98,
          179,
          100,
          149.98,
          457,
          370,
          952,
          534,
          179,
          44.99,
          110,
          1500,
          149,
          119.99,
          403.26,
          400,
          370,
          359,
          234,
          198.99,
          489.97,
          68,
          290.78,
          540,
          2320,
          39.78,
          3500,
          894,
          40,
          800,
          609,
          1600,
          218,
          580,
          36.99,
          450,
          890,
          488,
          150,
          700,
          1170,
          135.98,
          138.98,
          920,
          600,
          302,
          3750,
          200,
          195.8,
          2500,
          3951,
          35.9,
          300,
          1840,
          709.5,
          1700,
          89.99,
          299,
          17.99,
          1000,
          1745,
          445,
          93,
          650,
          400,
          3190,
          500,
          600,
          1171,
          393,
          440,
          458,
          728.92,
          500,
          80,
          1500,
          51,
          885,
          479,
          545,
          111,
          120.08,
          151,
          435,
          351.16,
          150,
          250,
          349,
          130,
          120,
          444,
          600,
          1501,
          130,
          220,
          79.36,
          1009,
          315,
          64,
          69.99,
          600,
          120,
          1150.5,
          149,
          59.99,
          220,
          450,
          741,
          1138,
          460,
          190,
          378,
          1119.81,
          235,
          195,
          100,
          461.86,
          220,
          50,
          54.99,
          399,
          201,
          299,
          1074.93,
          5944,
          501,
          635,
          1601,
          340,
          80,
          249,
          205,
          740,
          1151,
          115.59,
          103,
          100,
          179,
          408,
          260,
          1930,
          260,
          50,
          768.8,
          601,
          350,
          120,
          51,
          473,
          149,
          177,
          139.99,
          204.99,
          330,
          1200,
          265,
          140,
          456,
          756,
          499,
          328,
          271,
          570,
          379.96,
          152.99,
          224,
          595,
          240,
          285,
          1058,
          56,
          430.14,
          500,
          210,
          150,
          1500,
          536.91,
          200,
          740.42,
          238,
          1182.11,
          140,
          1339,
          149,
          1300,
          479,
          3165.4,
          2390,
          129,
          2850,
          189.39,
          2455,
          190,
          499,
          2597,
          1005,
          2230,
          261.96,
          90,
          720,
          2000,
          1210,
          533,
          466,
          149,
          561,
          285.93,
          330,
          241,
          179.99,
          242.5,
          250,
          3000,
          3793.17,
          10,
          700,
          299,
          859,
          61.98,
          54,
          253,
          246,
          1619,
          6480,
          887,
          5450,
          1205,
          150,
          470.43,
          738,
          3202,
          3145,
          772,
          623,
          299,
          50,
          299,
          169.99,
          1180,
          2615,
          400,
          59.99,
          890.09,
          448,
          260,
          363,
          366,
          569,
          558.94,
          30,
          620,
          199,
          990,
          125,
          149,
          484.92,
          1338.75,
          329.97,
          698,
          340,
          896.96,
          517,
          250,
          150,
          325,
          299,
          388,
          477,
          31.58,
          188.5,
          566,
          655,
          536,
          480.44,
          500,
          551.4,
          151,
          190,
          199.99,
          137,
          149.99,
          190,
          149,
          3000,
          180,
          569.69,
          300,
          1076.39,
          5572.35,
          1295,
          299,
          83,
          50,
          1198,
          50,
          1826,
          524,
          420,
          1352,
          1824,
          420,
          1085,
          1998.62,
          499,
          365,
          600,
          202,
          134.3,
          547.01,
          248,
          200,
          250,
          360,
          430,
          450,
          1570,
          149,
          2500,
          1548,
          3910,
          4000,
          720,
          400,
          450,
          700,
          395.98,
          297.88,
          40,
          299,
          585,
          41,
          3004,
          1090,
          21020
         ],
         "yaxis": "y"
        }
       ],
       "layout": {
        "legend": {
         "title": {
          "text": "has_comment"
         },
         "tracegroupgap": 0
        },
        "margin": {
         "t": 60
        },
        "template": {
         "data": {
          "bar": [
           {
            "error_x": {
             "color": "#2a3f5f"
            },
            "error_y": {
             "color": "#2a3f5f"
            },
            "marker": {
             "line": {
              "color": "#E5ECF6",
              "width": 0.5
             },
             "pattern": {
              "fillmode": "overlay",
              "size": 10,
              "solidity": 0.2
             }
            },
            "type": "bar"
           }
          ],
          "barpolar": [
           {
            "marker": {
             "line": {
              "color": "#E5ECF6",
              "width": 0.5
             },
             "pattern": {
              "fillmode": "overlay",
              "size": 10,
              "solidity": 0.2
             }
            },
            "type": "barpolar"
           }
          ],
          "carpet": [
           {
            "aaxis": {
             "endlinecolor": "#2a3f5f",
             "gridcolor": "white",
             "linecolor": "white",
             "minorgridcolor": "white",
             "startlinecolor": "#2a3f5f"
            },
            "baxis": {
             "endlinecolor": "#2a3f5f",
             "gridcolor": "white",
             "linecolor": "white",
             "minorgridcolor": "white",
             "startlinecolor": "#2a3f5f"
            },
            "type": "carpet"
           }
          ],
          "choropleth": [
           {
            "colorbar": {
             "outlinewidth": 0,
             "ticks": ""
            },
            "type": "choropleth"
           }
          ],
          "contour": [
           {
            "colorbar": {
             "outlinewidth": 0,
             "ticks": ""
            },
            "colorscale": [
             [
              0,
              "#0d0887"
             ],
             [
              0.1111111111111111,
              "#46039f"
             ],
             [
              0.2222222222222222,
              "#7201a8"
             ],
             [
              0.3333333333333333,
              "#9c179e"
             ],
             [
              0.4444444444444444,
              "#bd3786"
             ],
             [
              0.5555555555555556,
              "#d8576b"
             ],
             [
              0.6666666666666666,
              "#ed7953"
             ],
             [
              0.7777777777777778,
              "#fb9f3a"
             ],
             [
              0.8888888888888888,
              "#fdca26"
             ],
             [
              1,
              "#f0f921"
             ]
            ],
            "type": "contour"
           }
          ],
          "contourcarpet": [
           {
            "colorbar": {
             "outlinewidth": 0,
             "ticks": ""
            },
            "type": "contourcarpet"
           }
          ],
          "heatmap": [
           {
            "colorbar": {
             "outlinewidth": 0,
             "ticks": ""
            },
            "colorscale": [
             [
              0,
              "#0d0887"
             ],
             [
              0.1111111111111111,
              "#46039f"
             ],
             [
              0.2222222222222222,
              "#7201a8"
             ],
             [
              0.3333333333333333,
              "#9c179e"
             ],
             [
              0.4444444444444444,
              "#bd3786"
             ],
             [
              0.5555555555555556,
              "#d8576b"
             ],
             [
              0.6666666666666666,
              "#ed7953"
             ],
             [
              0.7777777777777778,
              "#fb9f3a"
             ],
             [
              0.8888888888888888,
              "#fdca26"
             ],
             [
              1,
              "#f0f921"
             ]
            ],
            "type": "heatmap"
           }
          ],
          "heatmapgl": [
           {
            "colorbar": {
             "outlinewidth": 0,
             "ticks": ""
            },
            "colorscale": [
             [
              0,
              "#0d0887"
             ],
             [
              0.1111111111111111,
              "#46039f"
             ],
             [
              0.2222222222222222,
              "#7201a8"
             ],
             [
              0.3333333333333333,
              "#9c179e"
             ],
             [
              0.4444444444444444,
              "#bd3786"
             ],
             [
              0.5555555555555556,
              "#d8576b"
             ],
             [
              0.6666666666666666,
              "#ed7953"
             ],
             [
              0.7777777777777778,
              "#fb9f3a"
             ],
             [
              0.8888888888888888,
              "#fdca26"
             ],
             [
              1,
              "#f0f921"
             ]
            ],
            "type": "heatmapgl"
           }
          ],
          "histogram": [
           {
            "marker": {
             "pattern": {
              "fillmode": "overlay",
              "size": 10,
              "solidity": 0.2
             }
            },
            "type": "histogram"
           }
          ],
          "histogram2d": [
           {
            "colorbar": {
             "outlinewidth": 0,
             "ticks": ""
            },
            "colorscale": [
             [
              0,
              "#0d0887"
             ],
             [
              0.1111111111111111,
              "#46039f"
             ],
             [
              0.2222222222222222,
              "#7201a8"
             ],
             [
              0.3333333333333333,
              "#9c179e"
             ],
             [
              0.4444444444444444,
              "#bd3786"
             ],
             [
              0.5555555555555556,
              "#d8576b"
             ],
             [
              0.6666666666666666,
              "#ed7953"
             ],
             [
              0.7777777777777778,
              "#fb9f3a"
             ],
             [
              0.8888888888888888,
              "#fdca26"
             ],
             [
              1,
              "#f0f921"
             ]
            ],
            "type": "histogram2d"
           }
          ],
          "histogram2dcontour": [
           {
            "colorbar": {
             "outlinewidth": 0,
             "ticks": ""
            },
            "colorscale": [
             [
              0,
              "#0d0887"
             ],
             [
              0.1111111111111111,
              "#46039f"
             ],
             [
              0.2222222222222222,
              "#7201a8"
             ],
             [
              0.3333333333333333,
              "#9c179e"
             ],
             [
              0.4444444444444444,
              "#bd3786"
             ],
             [
              0.5555555555555556,
              "#d8576b"
             ],
             [
              0.6666666666666666,
              "#ed7953"
             ],
             [
              0.7777777777777778,
              "#fb9f3a"
             ],
             [
              0.8888888888888888,
              "#fdca26"
             ],
             [
              1,
              "#f0f921"
             ]
            ],
            "type": "histogram2dcontour"
           }
          ],
          "mesh3d": [
           {
            "colorbar": {
             "outlinewidth": 0,
             "ticks": ""
            },
            "type": "mesh3d"
           }
          ],
          "parcoords": [
           {
            "line": {
             "colorbar": {
              "outlinewidth": 0,
              "ticks": ""
             }
            },
            "type": "parcoords"
           }
          ],
          "pie": [
           {
            "automargin": true,
            "type": "pie"
           }
          ],
          "scatter": [
           {
            "fillpattern": {
             "fillmode": "overlay",
             "size": 10,
             "solidity": 0.2
            },
            "type": "scatter"
           }
          ],
          "scatter3d": [
           {
            "line": {
             "colorbar": {
              "outlinewidth": 0,
              "ticks": ""
             }
            },
            "marker": {
             "colorbar": {
              "outlinewidth": 0,
              "ticks": ""
             }
            },
            "type": "scatter3d"
           }
          ],
          "scattercarpet": [
           {
            "marker": {
             "colorbar": {
              "outlinewidth": 0,
              "ticks": ""
             }
            },
            "type": "scattercarpet"
           }
          ],
          "scattergeo": [
           {
            "marker": {
             "colorbar": {
              "outlinewidth": 0,
              "ticks": ""
             }
            },
            "type": "scattergeo"
           }
          ],
          "scattergl": [
           {
            "marker": {
             "colorbar": {
              "outlinewidth": 0,
              "ticks": ""
             }
            },
            "type": "scattergl"
           }
          ],
          "scattermapbox": [
           {
            "marker": {
             "colorbar": {
              "outlinewidth": 0,
              "ticks": ""
             }
            },
            "type": "scattermapbox"
           }
          ],
          "scatterpolar": [
           {
            "marker": {
             "colorbar": {
              "outlinewidth": 0,
              "ticks": ""
             }
            },
            "type": "scatterpolar"
           }
          ],
          "scatterpolargl": [
           {
            "marker": {
             "colorbar": {
              "outlinewidth": 0,
              "ticks": ""
             }
            },
            "type": "scatterpolargl"
           }
          ],
          "scatterternary": [
           {
            "marker": {
             "colorbar": {
              "outlinewidth": 0,
              "ticks": ""
             }
            },
            "type": "scatterternary"
           }
          ],
          "surface": [
           {
            "colorbar": {
             "outlinewidth": 0,
             "ticks": ""
            },
            "colorscale": [
             [
              0,
              "#0d0887"
             ],
             [
              0.1111111111111111,
              "#46039f"
             ],
             [
              0.2222222222222222,
              "#7201a8"
             ],
             [
              0.3333333333333333,
              "#9c179e"
             ],
             [
              0.4444444444444444,
              "#bd3786"
             ],
             [
              0.5555555555555556,
              "#d8576b"
             ],
             [
              0.6666666666666666,
              "#ed7953"
             ],
             [
              0.7777777777777778,
              "#fb9f3a"
             ],
             [
              0.8888888888888888,
              "#fdca26"
             ],
             [
              1,
              "#f0f921"
             ]
            ],
            "type": "surface"
           }
          ],
          "table": [
           {
            "cells": {
             "fill": {
              "color": "#EBF0F8"
             },
             "line": {
              "color": "white"
             }
            },
            "header": {
             "fill": {
              "color": "#C8D4E3"
             },
             "line": {
              "color": "white"
             }
            },
            "type": "table"
           }
          ]
         },
         "layout": {
          "annotationdefaults": {
           "arrowcolor": "#2a3f5f",
           "arrowhead": 0,
           "arrowwidth": 1
          },
          "autotypenumbers": "strict",
          "coloraxis": {
           "colorbar": {
            "outlinewidth": 0,
            "ticks": ""
           }
          },
          "colorscale": {
           "diverging": [
            [
             0,
             "#8e0152"
            ],
            [
             0.1,
             "#c51b7d"
            ],
            [
             0.2,
             "#de77ae"
            ],
            [
             0.3,
             "#f1b6da"
            ],
            [
             0.4,
             "#fde0ef"
            ],
            [
             0.5,
             "#f7f7f7"
            ],
            [
             0.6,
             "#e6f5d0"
            ],
            [
             0.7,
             "#b8e186"
            ],
            [
             0.8,
             "#7fbc41"
            ],
            [
             0.9,
             "#4d9221"
            ],
            [
             1,
             "#276419"
            ]
           ],
           "sequential": [
            [
             0,
             "#0d0887"
            ],
            [
             0.1111111111111111,
             "#46039f"
            ],
            [
             0.2222222222222222,
             "#7201a8"
            ],
            [
             0.3333333333333333,
             "#9c179e"
            ],
            [
             0.4444444444444444,
             "#bd3786"
            ],
            [
             0.5555555555555556,
             "#d8576b"
            ],
            [
             0.6666666666666666,
             "#ed7953"
            ],
            [
             0.7777777777777778,
             "#fb9f3a"
            ],
            [
             0.8888888888888888,
             "#fdca26"
            ],
            [
             1,
             "#f0f921"
            ]
           ],
           "sequentialminus": [
            [
             0,
             "#0d0887"
            ],
            [
             0.1111111111111111,
             "#46039f"
            ],
            [
             0.2222222222222222,
             "#7201a8"
            ],
            [
             0.3333333333333333,
             "#9c179e"
            ],
            [
             0.4444444444444444,
             "#bd3786"
            ],
            [
             0.5555555555555556,
             "#d8576b"
            ],
            [
             0.6666666666666666,
             "#ed7953"
            ],
            [
             0.7777777777777778,
             "#fb9f3a"
            ],
            [
             0.8888888888888888,
             "#fdca26"
            ],
            [
             1,
             "#f0f921"
            ]
           ]
          },
          "colorway": [
           "#636efa",
           "#EF553B",
           "#00cc96",
           "#ab63fa",
           "#FFA15A",
           "#19d3f3",
           "#FF6692",
           "#B6E880",
           "#FF97FF",
           "#FECB52"
          ],
          "font": {
           "color": "#2a3f5f"
          },
          "geo": {
           "bgcolor": "white",
           "lakecolor": "white",
           "landcolor": "#E5ECF6",
           "showlakes": true,
           "showland": true,
           "subunitcolor": "white"
          },
          "hoverlabel": {
           "align": "left"
          },
          "hovermode": "closest",
          "mapbox": {
           "style": "light"
          },
          "paper_bgcolor": "white",
          "plot_bgcolor": "#E5ECF6",
          "polar": {
           "angularaxis": {
            "gridcolor": "white",
            "linecolor": "white",
            "ticks": ""
           },
           "bgcolor": "#E5ECF6",
           "radialaxis": {
            "gridcolor": "white",
            "linecolor": "white",
            "ticks": ""
           }
          },
          "scene": {
           "xaxis": {
            "backgroundcolor": "#E5ECF6",
            "gridcolor": "white",
            "gridwidth": 2,
            "linecolor": "white",
            "showbackground": true,
            "ticks": "",
            "zerolinecolor": "white"
           },
           "yaxis": {
            "backgroundcolor": "#E5ECF6",
            "gridcolor": "white",
            "gridwidth": 2,
            "linecolor": "white",
            "showbackground": true,
            "ticks": "",
            "zerolinecolor": "white"
           },
           "zaxis": {
            "backgroundcolor": "#E5ECF6",
            "gridcolor": "white",
            "gridwidth": 2,
            "linecolor": "white",
            "showbackground": true,
            "ticks": "",
            "zerolinecolor": "white"
           }
          },
          "shapedefaults": {
           "line": {
            "color": "#2a3f5f"
           }
          },
          "ternary": {
           "aaxis": {
            "gridcolor": "white",
            "linecolor": "white",
            "ticks": ""
           },
           "baxis": {
            "gridcolor": "white",
            "linecolor": "white",
            "ticks": ""
           },
           "bgcolor": "#E5ECF6",
           "caxis": {
            "gridcolor": "white",
            "linecolor": "white",
            "ticks": ""
           }
          },
          "title": {
           "x": 0.05
          },
          "xaxis": {
           "automargin": true,
           "gridcolor": "white",
           "linecolor": "white",
           "ticks": "",
           "title": {
            "standoff": 15
           },
           "zerolinecolor": "white",
           "zerolinewidth": 2
          },
          "yaxis": {
           "automargin": true,
           "gridcolor": "white",
           "linecolor": "white",
           "ticks": "",
           "title": {
            "standoff": 15
           },
           "zerolinecolor": "white",
           "zerolinewidth": 2
          }
         }
        },
        "xaxis": {
         "anchor": "y",
         "domain": [
          0,
          1
         ],
         "title": {
          "text": "date"
         }
        },
        "yaxis": {
         "anchor": "x",
         "domain": [
          0,
          1
         ],
         "title": {
          "text": "outcome"
         }
        }
       }
      }
     },
     "metadata": {},
     "output_type": "display_data"
    }
   ],
   "source": [
    "plot_data = data.copy()\n",
    "plot_data['has_comment'] = plot_data['comment'].isna() == False\n",
    "\n",
    "px.scatter(plot_data, x='date', y='outcome', color='has_comment')"
   ]
  }
 ],
 "metadata": {
  "kernelspec": {
   "display_name": "analysis",
   "language": "python",
   "name": "python3"
  },
  "language_info": {
   "codemirror_mode": {
    "name": "ipython",
    "version": 3
   },
   "file_extension": ".py",
   "mimetype": "text/x-python",
   "name": "python",
   "nbconvert_exporter": "python",
   "pygments_lexer": "ipython3",
   "version": "3.12.2"
  }
 },
 "nbformat": 4,
 "nbformat_minor": 2
}
